{
 "cells": [
  {
   "cell_type": "markdown",
   "id": "c1124ccd",
   "metadata": {
    "id": "c1124ccd"
   },
   "source": [
    "Select a wikipedia page of your own choosing and extract the text using the Wikipedia library. Note that the page can be a page on Ed Sheeran, Apple Inc, Messi.\n",
    "Save the text of the article in a file called accordingly. For example, if my chosen Wikipedia article is Apple then my file will be called wiki-apple.txt.\n",
    "Open the wiki-apple.txt using the open method in reading mode and store its content in a variable named accordingly.\n",
    "Remove punctuations and numeric characters from the string, convert the string into lower case letters.\n",
    "Create a dictionary where each key is the word and value is the frequency count (number of times each word appears in the text).\n",
    "Use this dictionary to create a wordcloud.\n",
    "Write the dictionary as a .csv file. Note that the .csv should be comma-delimited, with two columns named \"word\" and \"frequency\".\n",
    "Open the dictionary in pandas, describe the data, and make a histogram of the frequency variable.\n",
    "You are expected to submit a notebook with your code, the .txt with the wikipedia text and .csv that contains your data output."
   ]
  },
  {
   "cell_type": "code",
   "execution_count": 1,
   "id": "e176d8fb",
   "metadata": {
    "colab": {
     "base_uri": "https://localhost:8080/"
    },
    "id": "e176d8fb",
    "outputId": "05559a60-6901-4545-bffe-5908a99dc58c"
   },
   "outputs": [
    {
     "name": "stdout",
     "output_type": "stream",
     "text": [
      "Requirement already satisfied: wikipedia in c:\\users\\lg\\anaconda3\\lib\\site-packages (1.4.0)\n",
      "Requirement already satisfied: requests<3.0.0,>=2.0.0 in c:\\users\\lg\\anaconda3\\lib\\site-packages (from wikipedia) (2.26.0)\n",
      "Requirement already satisfied: beautifulsoup4 in c:\\users\\lg\\anaconda3\\lib\\site-packages (from wikipedia) (4.10.0)\n",
      "Requirement already satisfied: charset-normalizer~=2.0.0 in c:\\users\\lg\\anaconda3\\lib\\site-packages (from requests<3.0.0,>=2.0.0->wikipedia) (2.0.4)\n",
      "Requirement already satisfied: urllib3<1.27,>=1.21.1 in c:\\users\\lg\\anaconda3\\lib\\site-packages (from requests<3.0.0,>=2.0.0->wikipedia) (1.26.7)\n",
      "Requirement already satisfied: idna<4,>=2.5 in c:\\users\\lg\\anaconda3\\lib\\site-packages (from requests<3.0.0,>=2.0.0->wikipedia) (3.2)\n",
      "Requirement already satisfied: certifi>=2017.4.17 in c:\\users\\lg\\anaconda3\\lib\\site-packages (from requests<3.0.0,>=2.0.0->wikipedia) (2021.10.8)\n",
      "Requirement already satisfied: soupsieve>1.2 in c:\\users\\lg\\anaconda3\\lib\\site-packages (from beautifulsoup4->wikipedia) (2.2.1)\n",
      "Note: you may need to restart the kernel to use updated packages.\n"
     ]
    }
   ],
   "source": [
    "pip install wikipedia"
   ]
  },
  {
   "cell_type": "code",
   "execution_count": 2,
   "id": "b0497d00",
   "metadata": {
    "id": "b0497d00"
   },
   "outputs": [],
   "source": [
    "import wikipedia "
   ]
  },
  {
   "cell_type": "code",
   "execution_count": 3,
   "id": "322ef42f",
   "metadata": {
    "colab": {
     "base_uri": "https://localhost:8080/"
    },
    "id": "322ef42f",
    "outputId": "3bf574fd-f11e-4b81-bbd0-874a84099815"
   },
   "outputs": [
    {
     "data": {
      "text/plain": [
       "['Cristiano Ronaldo',\n",
       " 'Messi–Ronaldo rivalry',\n",
       " 'List of career achievements by Cristiano Ronaldo',\n",
       " 'Cristiano Ronaldo International Airport',\n",
       " 'List of international goals scored by Cristiano Ronaldo',\n",
       " 'List of footballers with 500 or more goals',\n",
       " 'Ronaldo (film)',\n",
       " \"Ballon d'Or\",\n",
       " 'Ronaldo (Brazilian footballer)',\n",
       " 'List of Real Madrid CF records and statistics']"
      ]
     },
     "execution_count": 3,
     "metadata": {},
     "output_type": "execute_result"
    }
   ],
   "source": [
    "wikipedia.search(\"Cristiano Ronaldo\") #Select a wikipedia page"
   ]
  },
  {
   "cell_type": "code",
   "execution_count": 4,
   "id": "9d7d2b76",
   "metadata": {
    "id": "9d7d2b76"
   },
   "outputs": [],
   "source": [
    "ronaldo = wikipedia.page('Cristiano Ronaldo') #Save the text of the article in a file"
   ]
  },
  {
   "cell_type": "code",
   "execution_count": 5,
   "id": "6aceed88",
   "metadata": {
    "colab": {
     "base_uri": "https://localhost:8080/"
    },
    "id": "6aceed88",
    "outputId": "ad4610f7-02da-4662-e847-60a711061b64"
   },
   "outputs": [
    {
     "data": {
      "text/plain": [
       "<WikipediaPage 'Cristiano Ronaldo'>"
      ]
     },
     "execution_count": 5,
     "metadata": {},
     "output_type": "execute_result"
    }
   ],
   "source": [
    "ronaldo"
   ]
  },
  {
   "cell_type": "code",
   "execution_count": 6,
   "id": "b88bdcef",
   "metadata": {
    "id": "b88bdcef"
   },
   "outputs": [],
   "source": [
    "ronaldo_summary = wikipedia.summary('Cristiano Ronaldo')"
   ]
  },
  {
   "cell_type": "code",
   "execution_count": 7,
   "id": "a3c166c6",
   "metadata": {
    "colab": {
     "base_uri": "https://localhost:8080/",
     "height": 243
    },
    "id": "a3c166c6",
    "outputId": "bb24d235-aea9-4b44-ddef-55d14dbab519"
   },
   "outputs": [
    {
     "data": {
      "text/plain": [
       "\"Cristiano Ronaldo dos Santos Aveiro  (Portuguese pronunciation: [kɾiʃˈtjɐnu ʁɔˈnaɫdu]; born 5 February 1985) is a Portuguese professional footballer who plays as a forward for Premier League club Manchester United and captains the Portugal national team. Often considered the best player in the world and  widely regarded as one of the greatest players of all time, Ronaldo has won five Ballon d'Or awards and four European Golden Shoes, the most by a European player. He has won 32 trophies in his career, including seven league titles, five UEFA Champions Leagues, one UEFA European Championship, and one UEFA Nations League. Ronaldo holds the records for most appearances (182), most goals (140), and assists (42) in the Champions League, most goals in the European Championship (14), most international goals by a male player (115), and most international appearances by a European male (184). He is one of the few players to have made over 1,100 professional career appearances, and has scored over 800 official senior career goals for club and country.\\nBorn and raised in Madeira, Ronaldo began his senior club career playing for Sporting CP, before signing with Manchester United in 2003, aged 18, winning the FA Cup in his first season. He would also go onto win three consecutive Premier League titles, the Champions League and the FIFA Club World Cup; at age 23, he won his first Ballon d'Or. Ronaldo was the subject of the then-most expensive association football transfer when he signed for Real Madrid in 2009 in a transfer worth €94 million (£80 million), where he won 15 trophies, including two La Liga titles, two Copa del Rey, and four Champions Leagues, and became the club's all-time top goalscorer. He won back-to-back Ballons d'Or in 2013 and 2014, and again in 2016 and 2017, and was runner-up three times behind Lionel Messi, his perceived career rival. In 2018, he signed for Juventus in a transfer worth an initial €100 million (£88 million), the most expensive transfer for an Italian club and the most expensive transfer for a player over 30 years old. He won two Serie A titles, two Supercoppe Italiana, and a Coppa Italia, before returning to Manchester United in 2021.\\nRonaldo made his senior international debut for Portugal in 2003 at the age of 18 and has since earned over 180 caps, making him Portugal's most-capped player. With more than 100 goals at international level, he is also the nation's all-time top goalscorer. He has played in and scored at 11 major tournaments; he scored his first international goal at Euro 2004, where he helped Portugal reach the final. He assumed full captaincy of the national team in July 2008. In 2015, Ronaldo was named the best Portuguese player of all time by the Portuguese Football Federation. The following year, he led Portugal to their first major tournament title at Euro 2016, and received the Silver Boot as the second-highest goalscorer of the tournament. He also led them to victory in the inaugural UEFA Nations League in 2019, and later received the Golden Boot as top scorer of Euro 2020.\\nOne of the world's most marketable and famous athletes, Ronaldo was ranked the world's highest-paid athlete by Forbes in 2016 and 2017 and the world's most famous athlete by ESPN from 2016 to 2019. Time included him on their list of the 100 most influential people in the world in 2014. He is the first footballer and the third sportsman to earn US$1 billion in his career.\\n\\n\""
      ]
     },
     "execution_count": 7,
     "metadata": {},
     "output_type": "execute_result"
    }
   ],
   "source": [
    "ronaldo_summary"
   ]
  },
  {
   "cell_type": "code",
   "execution_count": 8,
   "id": "7c25af6c",
   "metadata": {
    "colab": {
     "base_uri": "https://localhost:8080/",
     "height": 243
    },
    "id": "7c25af6c",
    "outputId": "49d99d1e-fe5b-40ef-f57f-960b9ba7a2d3"
   },
   "outputs": [
    {
     "data": {
      "text/plain": [
       "'Cristiano Ronaldo dos Santos Aveiro  (Portuguese pronunciation: [kɾiʃˈtjɐnu ʁɔˈnaɫdu]; born 5 February 1985) is a Portuguese professional footballer who plays as a forward for Premier League club Manchester United and captains the Portugal national team. Often considered the best player in the world and  widely regarded as one of the greatest players of all time, Ronaldo has won five Ballon d\\'Or awards and four European Golden Shoes, the most by a European player. He has won 32 trophies in his career, including seven league titles, five UEFA Champions Leagues, one UEFA European Championship, and one UEFA Nations League. Ronaldo holds the records for most appearances (182), most goals (140), and assists (42) in the Champions League, most goals in the European Championship (14), most international goals by a male player (115), and most international appearances by a European male (184). He is one of the few players to have made over 1,100 professional career appearances, and has scored over 800 official senior career goals for club and country.\\nBorn and raised in Madeira, Ronaldo began his senior club career playing for Sporting CP, before signing with Manchester United in 2003, aged 18, winning the FA Cup in his first season. He would also go onto win three consecutive Premier League titles, the Champions League and the FIFA Club World Cup; at age 23, he won his first Ballon d\\'Or. Ronaldo was the subject of the then-most expensive association football transfer when he signed for Real Madrid in 2009 in a transfer worth €94 million (£80 million), where he won 15 trophies, including two La Liga titles, two Copa del Rey, and four Champions Leagues, and became the club\\'s all-time top goalscorer. He won back-to-back Ballons d\\'Or in 2013 and 2014, and again in 2016 and 2017, and was runner-up three times behind Lionel Messi, his perceived career rival. In 2018, he signed for Juventus in a transfer worth an initial €100 million (£88 million), the most expensive transfer for an Italian club and the most expensive transfer for a player over 30 years old. He won two Serie A titles, two Supercoppe Italiana, and a Coppa Italia, before returning to Manchester United in 2021.\\nRonaldo made his senior international debut for Portugal in 2003 at the age of 18 and has since earned over 180 caps, making him Portugal\\'s most-capped player. With more than 100 goals at international level, he is also the nation\\'s all-time top goalscorer. He has played in and scored at 11 major tournaments; he scored his first international goal at Euro 2004, where he helped Portugal reach the final. He assumed full captaincy of the national team in July 2008. In 2015, Ronaldo was named the best Portuguese player of all time by the Portuguese Football Federation. The following year, he led Portugal to their first major tournament title at Euro 2016, and received the Silver Boot as the second-highest goalscorer of the tournament. He also led them to victory in the inaugural UEFA Nations League in 2019, and later received the Golden Boot as top scorer of Euro 2020.\\nOne of the world\\'s most marketable and famous athletes, Ronaldo was ranked the world\\'s highest-paid athlete by Forbes in 2016 and 2017 and the world\\'s most famous athlete by ESPN from 2016 to 2019. Time included him on their list of the 100 most influential people in the world in 2014. He is the first footballer and the third sportsman to earn US$1 billion in his career.\\n\\n\\n== Early life ==\\nCristiano Ronaldo dos Santos Aveiro was born in the São Pedro parish of Funchal, the capital of the Portuguese island of Madeira, and grew up in the nearby parish of Santo António. He is the fourth and youngest child of Maria Dolores dos Santos Viveiros da Aveiro, a cook, and José Dinis Aveiro, a municipal gardener and part-time kit man. His great-grandmother on his father\\'s side, Isabel da Piedade, was from the island of São Vicente, Cape Verde. He has one older brother, Hugo, and two older sisters, Elma and Liliana Cátia \"Katia\". His mother revealed that she wanted to abort him due to poverty, his father\\'s alcoholism and having too many children already, but her doctor refused to perform the procedure. Ronaldo grew up in an impoverished Catholic home, sharing a room with all his siblings.As a child, Ronaldo played for Andorinha from 1992 to 1995, where his father was the kit man, and later spent two years with Nacional. In 1997, aged 12, he went on a three-day trial with Sporting CP, who signed him for a fee of £1,500. He subsequently moved from Madeira to Alcochete, near Lisbon, to join Sporting\\'s youth academy. By age 14, Ronaldo believed he had the ability to play semi-professionally and agreed with his mother to cease his education to focus entirely on football. While popular with other students at school, he had been expelled after throwing a chair at his teacher, who he said had \"disrespected\" him. One year later, he was diagnosed with tachycardia, a condition that could have forced him to give up playing football. Ronaldo underwent heart surgery where a laser was used to cauterise multiple cardiac pathways into one, altering his resting heart rate. He was discharged from the hospital hours after the procedure and resumed training a few days later.\\n\\n\\n== Club career ==\\n\\n\\n=== Sporting CP ===\\n\\nAt age 16, Ronaldo was promoted from Sporting\\'s youth team by first-team manager László Bölöni, who was impressed with his dribbling. He subsequently became the first player to play for the club\\'s under-16, under-17 and under-18 teams, the B team and the first team, all within a single season. A year later, on 29 September 2002, Ronaldo made his debut in the Primeira Liga, against Braga and on 7 October, he scored two goals against Moreirense in their 3–0 win. Over the course of the 2002–03 season, his representatives suggested the player to Liverpool manager Gérard Houllier and Barcelona president Joan Laporta. Manager Arsène Wenger, who was interested in signing Ronaldo, met with him at Arsenal\\'s grounds in November to discuss a possible transfer.Manchester United manager Alex Ferguson was determined to acquire Ronaldo on a permanent move urgently, after Sporting defeated United 3–1 at the inauguration of the Estádio José Alvalade in August 2003. Initially, United had planned to sign Ronaldo and loan him back to Sporting for a year. Having been impressed by him, the United players urged Ferguson to sign him. After the game, Ferguson agreed to pay Sporting £12.24 million for what he considered to be \"one of the most exciting young players\" he had ever seen. A decade after his departure from the club, in April 2013, Sporting honoured Ronaldo by selecting him to become their 100,000th member.\\n\\n\\n=== Manchester United ===\\n\\n\\n==== 2003–2007: Development and breakthrough ====\\n\\nRonaldo\\'s move to Manchester United was completed on 12 August 2003, too late for the 2003 FA Community Shield but in time for their game against Bolton Wanderers on the opening day of the 2003–04 season, and made him the first Portuguese player to sign for the club. His transfer fee made him, at the time, the most expensive teenager in English football history. Although he requested the number 28, his number at Sporting, he received the squad number 7 shirt, which had previously been worn by such United players as George Best, Eric Cantona and David Beckham. Wearing the number 7 became an extra source of motivation for Ronaldo. A key element in his development during his time in England proved to be Ferguson, of whom he later said: \"He\\'s been my father in sport, one of the most important and influential factors in my career.\"\\n\\nRonaldo made his debut as a substitute in a 4–0 home win over Bolton Wanderers in the Premier League on 16 August 2003, and received a standing ovation when he came on for Nicky Butt. His performance earned praise from Best, who hailed it as \"undoubtedly the most exciting debut\" he had ever seen. Ronaldo scored his first goal for Manchester United with a free-kick in a 3–0 win over Portsmouth on 1 November. Three more league goals followed in the second half of the campaign, the last of which came against Aston Villa on the final day of the season, a match in which he also received the first red card of his career. Ronaldo ended his first season in English football by scoring the opening goal in United\\'s 3–0 win over Millwall in the 2004 FA Cup Final, earning his first trophy. BBC pundit Alan Hansen described him as the star of the final. The British press had been critical of Ronaldo during the season for his \"elaborate\" step-overs in trying to beat opponents, but teammate Gary Neville said he was \"not a show pony, but the real thing\", and predicted he would become a world-class player.\\n\\nRonaldo scored United\\'s 1,000th Premier League goal on 29 October 2004, their only goal in a 4–1 loss to Middlesbrough. A few weeks later, he signed a new contract with the club that extended his previous deal by two years to 2010. At the start of 2005, Ronaldo played two of his best matches of the 2004–05 season, producing a goal and an assist against Aston Villa and scoring twice against rivals Arsenal. He played the full 120 minutes of the 2005 FA Cup Final against Arsenal, which ended in a goalless draw; although Ronaldo scored his attempt in the penalty shoot-out, United lost 5–4. Ronaldo won his second trophy in English football, the Football League Cup, after scoring the third goal in United\\'s 4–0 final win over Wigan Athletic.During his third season in England, Ronaldo was involved in several incidents. He had a one-match ban imposed on him by UEFA for a \"one-fingered gesture\" towards Benfica fans, and was sent off in the Manchester derby (a 3–1 defeat) for kicking Manchester City\\'s former United player Andy Cole. Ronaldo clashed with a teammate, striker Ruud van Nistelrooy, who took offence at the winger\\'s showboating style of play. Following the 2006 FIFA World Cup, in which he was involved in an incident where club teammate Wayne Rooney was sent off, Ronaldo publicly asked for a transfer, lamenting the lack of support he felt he had received from the club over the incident. United denied the possibility of him leaving the club.Although his World Cup altercation with Rooney resulted in Ronaldo being booed throughout the 2006–07 season, it proved to be his breakout year, as he broke the 20-goal barrier for the first time and won his first Premier League title. An important factor in this success was his one-to-one training by first-team coach René Meulensteen, who taught him to make himself more unpredictable, improve his teamwork, call for the ball and capitalise on goalscoring opportunities rather than waiting for the chance to score the aesthetically pleasing goals for which he was already known. He scored three consecutive braces at the end of December, against Aston Villa (a win that put United on top of the league), Wigan and Reading. Ronaldo was named the Premier League Player of the Month in November and December, becoming only the third player to receive consecutive honours.\\n\\n\\n==== 2007–2008: Collective and individual success ====\\n\\nAt the quarter-final stage of the 2006–07 UEFA Champions League, Ronaldo scored his first goals in his 30th match in the competition, scoring twice in a 7–1 win over Roma. He subsequently scored four minutes into the first semi-final leg against Milan, which ended in a 3–2 win, but was marked out of the second leg as United lost 3–0 at the San Siro. He also helped United reach the 2007 FA Cup Final, but the final against Chelsea ended in a 1–0 defeat. Ronaldo scored the only goal in the Manchester derby on 5 May (his 50th goal for the club), as United won their first league title in four years. As a result of his performances, he amassed a host of personal awards for the season. He won the Professional Footballers\\' Association\\'s Player\\'s Player, Fans\\' Player and Young Player of the Year awards, as well as the Football Writers\\' Association\\'s Footballer of the Year award, becoming the first player to win all four main PFA and FWA honours. His wages were concurrently upgraded to £120,000 a week as part of a five-year contract extension. Ronaldo was named runner-up to Kaká for the 2007 Ballon d\\'Or, and came third, behind Kaká and Lionel Messi, in the running for the 2007 FIFA World Player of the Year award.Ronaldo scored his first and only hat-trick for United in a 6–0 win against Newcastle United on 12 January 2008, which put United top of the league table. On 19 March, he captained United for the first time in a home win over Bolton and scored both goals in a 2–0 win. His second goal was his 33rd of the campaign, which bettered George Best\\'s total of 32 goals in the 1967–68 season, thus setting the club\\'s new single-season record by a midfielder. His 31 league goals earned him the Premier League Golden Boot, as well as the European Golden Shoe, which made him the first winger to win the latter award. He additionally received the PFA Players\\' Player of the Year and FWA Footballer of the Year awards for the second consecutive season. In the knockout stage of the Champions League, Ronaldo scored the decisive goal against Lyon, which helped United advance to the quarter-finals 2–1 on aggregate; while playing as a striker, he scored with a header in the 3–0 aggregate win over Roma. United reached the final against Chelsea in Moscow, where, despite his opening goal being negated by an equaliser and his penalty kick being saved in the shoot-out, United emerged victorious. As the Champions League top scorer, Ronaldo was named the UEFA Club Footballer of the Year.Ronaldo scored a total of 42 goals in all competitions during the 2007–08 season, his most prolific campaign during his time in England. He missed three matches after headbutting a Portsmouth player at the start of the season, an experience he said taught him not to let opponents provoke him. As rumours circulated of Ronaldo\\'s interest in moving to Real Madrid, United filed a tampering complaint with governing body FIFA over Madrid\\'s alleged pursuit of their player, but they declined to take action. FIFA president Sepp Blatter asserted that the player should be allowed to leave his club, describing the situation as \"modern slavery\". Despite Ronaldo publicly agreeing with Blatter, he remained at United for another year.\\n\\n\\n==== 2008–2009: Final season and continued success ====\\n\\nAhead of the 2008–09 season, on 7 July, Ronaldo underwent ankle surgery, which kept him out of action for 10 weeks. Following his return, he scored his 100th goal in all competitions for United with the first of two free kicks in a 5–0 win against Stoke City on 15 November, which meant he had now scored against all 19 opposition teams in the Premier League at the time. At the close of 2008, Ronaldo helped United win the 2008 FIFA Club World Cup in Japan, assisting the final-winning goal against Liga de Quito and winning the Silver Ball in the process. With his 2008 Ballon d\\'Or and 2008 FIFA World Player of the Year, Ronaldo became United\\'s first Ballon d\\'Or winner since Best in 1968, and the first Premier League player to be named the FIFA World Player of the Year.His match-winning goal in the second leg against Porto, a 40-yard strike, earned him the inaugural FIFA Puskás Award, presented by FIFA in recognition of the best goal of the year; he later called it the best goal he had ever scored. United advanced to the final in Rome, where he made little impact in United\\'s 2–0 defeat to Barcelona. Ronaldo ended his time in England with nine trophies, as United claimed their third successive league title and a Football League Cup. He finished the campaign with 26 goals in all competitions, 16 goals fewer than the previous season, in four more appearances. His final goal for United came on 10 May 2009 with a free kick in the Manchester derby at Old Trafford.\\n\\n\\n=== Real Madrid ===\\n\\nAhead of the 2009–10 season, Ronaldo joined Real Madrid for a world record transfer fee at the time, of £80 million (€94 million). His contract, which ran until 2015, was worth €11 million per year and contained a €1 billion buy-out clause. At least 80,000 fans attended his presentation at the Santiago Bernabéu, surpassing the 25-year record of 75,000 fans who had welcomed Diego Maradona at Napoli. Since club captain Raúl already wore the number 7 (the number Ronaldo wore at United), Ronaldo received the number 9 shirt, which was presented to him by former Madrid player Alfredo Di Stéfano.\\n\\n\\n==== 2009–2013: World record transfer and La Liga championship ====\\nRonaldo made his La Liga debut against Deportivo La Coruña on 29 August and scored from the penalty spot in Madrid\\'s 3–2 home win. He scored in each of his first four league games, the first Madrid player to do so. His first Champions League goals for the club followed with two free kicks in the first group match against Zürich. His strong start to the season was interrupted when he suffered an ankle injury in October while on international duty, which kept him sidelined for seven weeks. A week after his return, he received his first red card in Spain in a match against Almería. Midway through the season, Ronaldo finished second in the 2009 Ballon d\\'Or and the 2009 FIFA World Player of the Year awards, behind Messi of Barcelona, Madrid\\'s rivals. He finished the season with 33 goals in all competitions, including a hat-trick in a 4–1 win against Mallorca on 5 May 2010, his first in La Liga. His first season at Madrid ended trophyless.Following Raúl\\'s departure, Ronaldo was given the number 7 shirt for Madrid before the 2010–11 season. His subsequent return to his Ballon d\\'Or-winning form was epitomised when, for the first time in his career, he scored four goals in a single match during a 6–1 rout against Racing Santander on 23 October. His haul concluded a run of scoring in six consecutive matches for club and country, totalling 11 goals, the most he had scored in a single month. Ronaldo subsequently scored further hat-tricks against Athletic Bilbao, Levante, Villarreal and Málaga. Despite his performances, he did not make the top three in the inaugural 2010 FIFA Ballon d\\'Or. During a historic series of four Clásicos against rivals Barcelona in April 2011, Ronaldo scored twice to equal his personal record of 42 goals in all competitions. Though he failed to score in either leg of the Champions League semi-finals as Madrid were eliminated, he equalised from the penalty spot in the return league game and scored the match-winning goal in the 103rd minute of the 2011 Copa del Rey Final, winning his first trophy in Spain. His two goals in the last match of the season against Almería made him the first player in La Liga to score 40 goals. In addition to the Pichichi Trophy, Ronaldo won the European Golden Shoe for a second time, becoming the first player to win the award in different leagues.\\n\\nDuring the following season, Ronaldo achieved a new personal best of 60 goals in all competitions. He finished as runner-up to Messi for the 2011 FIFA Ballon d\\'Or, after scoring hat-tricks against Real Zaragoza, Rayo Vallecano, Málaga, Osasuna and Sevilla, the last of which put Madrid on top of the league by the season\\'s midway point. Ronaldo found greater team success in the league, helping Madrid win their first league title in four years with a record 100 points. Following a hat-trick against Levante as Madrid further increased their lead over Barcelona, he scored his 100th league goal for Madrid in a 5–1 win over Real Sociedad on 24 March 2012, a milestone he reached in just 92 matches across three seasons, breaking the previous club record held by Ferenc Puskás. Another hat-trick in the Madrid derby against Atlético Madrid brought his total to 40 league goals, equalling his record of the previous season. His final league goal of the season, against Mallorca, took his total to 46 goals, four short of the new record set by Messi, though he became the first player to score against all 19 opposition teams in a single La Liga season.Ronaldo began the 2012–13 season by lifting the 2012 Supercopa de España, his third trophy in Spain. With a goal in each leg, he helped Madrid win the Spanish Super Cup on away goals following a 4–4 aggregate draw against Barcelona. Although Ronaldo publicly commented that he was unhappy with a \"professional issue\" within the club, prompted by his refusal to celebrate his 150th goal for Madrid, his goalscoring rate did not suffer. After netting a hat-trick, including two penalties, against Deportivo, he scored his first hat-trick in the Champions League in a 4–1 win over Ajax. Four days later, he became the first player to score in six successive Clásicos when he hit a brace in a 2–2 draw at Camp Nou. His performances again saw Ronaldo voted second in the running for the 2012 FIFA Ballon d\\'Or, behind four-time winner Messi.\\n\\n\\n==== 2013–2015: Consecutive FIFA Ballon d\\'Or wins and La Décima ====\\nFollowing the 2012–13 winter break, Ronaldo captained Madrid for the first time in an official match, scoring twice to lift 10-man Madrid to a 4–3 win over Sociedad on 6 January. He subsequently became the first non-Spanish player in 60 years to captain Madrid in El Clasico on 30 January, a match which also marked his 500th club appearance. Three days prior, he had scored his 300th club goal as part of a perfect hat-trick against Getafe. He scored his 200th goal for Madrid on 8 May in a 6–2 win against Málaga, reaching the landmark in 197 games. He helped Madrid reach the 2013 Copa del Rey Final by scoring twice in El Clásico, which marked the sixth successive match at Camp Nou in which he had scored, a club record. In the final, he headed the opening goal of an eventual 2–1 defeat to Atlético, but was shown a red card for violent conduct. In the first knockout round of the Champions League, Ronaldo faced his former club Manchester United for the first time. After scoring the equaliser in a 1–1 draw at home, he scored the winning goal in a 2–1 win on his first return to Old Trafford. He did not celebrate scoring against his former club as a mark of respect. After scoring three goals against Galatasaray in the quarters, he scored Madrid\\'s only goal in the 4–1 away defeat to Borussia Dortmund in the semi-finals and Real were eliminated at the semi-final stage for the third consecutive year despite a 2–0 win in the second leg.\\n\\nAt the start of the 2013–14 season, Ronaldo signed a new contract that extended his stay by three years to 2018, with a salary of €17 million net, making him briefly the highest-paid player in football. He was joined at the club by winger Gareth Bale, whose world record transfer fee of €100 million surpassed the fee Madrid had paid for Ronaldo four years prior. Together with striker Karim Benzema, they formed an attacking trio popularly dubbed \"BBC\", an acronym of Bale, Benzema and Cristiano, and a play on the name of the British public service broadcaster, the British Broadcasting Corporation (BBC). By late November, Ronaldo had scored 32 goals from 22 matches for both club and country, including hat-tricks against Galatasaray, Sevilla, Real Sociedad, Northern Ireland, and Sweden. He ended 2013 with 69 goals in 59 appearances, his highest year-end goal tally. He received the 2013 FIFA Ballon d\\'Or, an amalgamation of the Ballon d\\'Or and the FIFA World Player of the Year award, for the first time in his career.Concurrently with his individual achievements, Ronaldo enjoyed his greatest team success in Spain to date, as he helped Madrid win La Décima, their tenth European Cup. His goal in a 3–0 home win over Dortmund (his 100th Champions League match) took his total for the season to 14 goals, equalling the record Messi had set two years before. After hitting a brace in a 4–0 defeat of Bayern Munich at the Allianz Arena, he scored from the penalty spot in the 120th minute of the 4–1 final win over Atlético, becoming the first player to score in two European Cup finals for two different winning teams. His overall performance in the final was subdued as a result of patellar tendinitis and related hamstring problems, which had plagued him in the last months of the campaign. Ronaldo played the final against medical advice, later commenting: \"In your life you do not win without sacrifices and you must take risks\". As the competition\\'s top goalscorer for the third time, with a record 17 goals, he was named the UEFA Best Player in Europe.In the Copa del Rey, Ronaldo helped Madrid reach the final by scoring two penalties against Atlético at the Vicente Calderón, the first of which meant he had now scored in every single minute of a 90-minute football match. His continued issues with his knee and thigh caused him to miss the final, where Madrid defeated Barcelona 2–1 to claim the trophy. Ronaldo scored 31 goals in 30 league games, which earned him the Pichichi and the European Golden Shoe, receiving the latter award jointly with Liverpool striker Luis Suárez. Among his haul was his 400th career goal, in 653 appearances for club and country, which came with a brace against Celta Vigo on 6 January; he dedicated his goals to compatriot Eusébio, who had died two days before. A last-minute, back-heeled volley scored against Valencia on 4 May (his 50th goal in all competitions) was recognised as the best goal of the season by the Liga Nacional de Fútbol Profesional, which additionally named Ronaldo the Best Player in La Liga.\\n\\nDuring the 2014–15 season, Ronaldo set a new personal best of 61 goals, starting with both goals in Madrid\\'s 2–0 win over Sevilla in the UEFA Super Cup. He subsequently achieved his best-ever goalscoring start to a league campaign, with 15 goals in the first eight rounds. His record 23rd La Liga hat-trick, scored against Celta Vigo on 6 December, made him the fastest player to reach 200 goals in La Liga, reaching the milestone in 178th matches. After winning the 2014 FIFA Club World Cup, Ronaldo received the 2014 Ballon d\\'Or, joining Johan Cruyff, Michel Platini and Marco van Basten as a three-time recipient. Madrid finished in second place in La Liga and exited at the semi-final stage in the Champions League. In the latter competition, Ronaldo extended his run of scoring away to a record 12 matches with his strike in a 2–0 win against Schalke 04. He scored both of his side\\'s goals in the semi-finals against Juventus, where Madrid were eliminated 3–2 on aggregate. With 10 goals, he finished as top scorer for a third consecutive season, alongside Messi and Neymar. On 5 April, he scored five goals in a game for the first time in his career, including an eight-minute hat-trick, in a 9–1 rout of Granada. His 300th goal for his club followed three days later in a 2–0 win against Rayo Vallecano. Subsequent hat-tricks against Sevilla, Espanyol and Getafe took his number of hat-tricks for Madrid to 31, surpassing Di Stéfano\\'s club record of 28. He finished the season with 48 goals, winning a second consecutive Pichichi and the European Golden Shoe for a record fourth time.\\n\\n\\n==== 2015–2017: All-time Real Madrid top scorer ====\\nAt the start of his seventh season at Madrid, the 2015–16 campaign, Ronaldo became the club\\'s all-time top scorer, first in the league and then in all competitions. His five-goal haul in a 6–0 away win over Espanyol on 12 September took his tally in La Liga to 230 goals in 203 games, surpassing the club\\'s previous recordholder, Raúl. A month later, on 17 October, he again surpassed Raúl when he scored the second goal in a 3–0 defeat of Levante at the Bernabéu to take his overall total for the club to 324 goals. Ronaldo also became the all-time top scorer in the Champions League with a hat-trick in the first group match against Shakhtar Donetsk, having finished the previous season level with Messi on 77 goals. Two goals against Malmö FF in a 2–0 away win on 30 September saw him reach the milestone of 500 career goals for club and country. He subsequently became the first player to score double figures in the competition\\'s group stage, setting the record at 11 goals, including another four-goal haul against Malmö.\\n\\nRonaldo\\'s four goals in a 7–1 home win over Celta de Vigo on 5 March 2016 took his total to 252 goals in La Liga, becoming the competition\\'s second-highest scorer in history behind Messi. He scored a hat-trick against VfL Wolfsburg to send his club into the Champions League semi-finals. The treble took his tally in the competition to 16 goals, making him the top scorer for the fourth consecutive season and the fifth overall. Suffering apparent fitness issues, Ronaldo gave a poorly-received performance in the final against Atlético, in a repeat of the 2014 final, though his penalty in the subsequent shoot-out secured Madrid\\'s 11th victory. For the sixth successive year, he ended the season having scored over 50 goals across all competitions. For his efforts during the season, he received the UEFA Best Player in Europe Award for a second time.Ronaldo missed Madrid\\'s first three matches of the 2016–17 season, including the 2016 UEFA Super Cup against Sevilla, as he continued to rehabilitate the knee injury he suffered against France in the Euro 2016 final. On 15 September, he did not celebrate his late free kick equaliser against Sporting CP in the Champions League, with Ronaldo stating post match that \"they made me who I am\". On 7 November, his contract was updated for the second time and extended by three years to 2021. On 19 November, he scored a hat-trick in a 3–0 away win against Atlético, making him the all-time top scorer in the Madrid derby with 18 goals. On 15 December, Ronaldo scored his 500th club career goal in the 2–0 win over Club América in the semi-finals of the 2016 FIFA Club World Cup. He then scored a hat-trick in the 4–2 win over Japanese club Kashima Antlers in the final. Ronaldo finished the tournament as top scorer with four goals and was also named player of the tournament. He won the 2016 Ballon d\\'Or, his fourth, and the inaugural 2016 The Best FIFA Men\\'s Player, a revival of the former FIFA World Player of the Year, largely owing to his success with Portugal in winning Euro 2016.\\n\\nIn the 2016–17 UEFA Champions League quarter-final against Bayern in April, Ronaldo scored both goals in a 2–1 away win which saw him make history by becoming the first player to reach 100 goals in UEFA club competition. In the second leg of the quarter-finals, Ronaldo scored a \\'perfect\\' hat-trick and reached his 100th Champions League goal, becoming the first player to do so as Madrid again defeated Bayern 4–2 after extra-time. On 2 May, Ronaldo scored another hat-trick as Madrid defeated Atlético 3–0 in the Champions League semi-final first leg. On 17 May, Ronaldo overtook Jimmy Greaves as the all-time top scorer in the top five European leagues, scoring twice against Celta de Vigo. He finished the season with 42 goals in all competitions as he helped Madrid to win their first La Liga title since 2012. In the Champions League Final, Ronaldo scored two goals in a 4–1 victory over Juventus to take him to 12 goals for the season, making him the competition\\'s top goalscorer for the fifth straight season (sixth overall), as well as the first player to score in three finals in the Champions League era; the second goal was the 600th of his senior career. Madrid also became the first team to win back-to-back finals in the Champions League era.\\n\\n\\n==== 2017–2018: Fifth Ballon d\\'Or and fifth Champions League title ====\\n\\nAt the start of the 2017–18 season, Ronaldo scored Madrid\\'s second goal in the 80th minute of a 3–1 win over Barcelona in the first leg of the 2017 Supercopa de España at Camp Nou; however, he was sent off two minutes later and missed the second leg. On 23 October, his performances throughout 2017 saw him awarded The Best FIFA Men\\'s Player award for the second consecutive year. On 6 December, he became the first player to score in all six Champions League group stage matches with a curling strike at home to Dortmund. A day later, Ronaldo won the 2017 Ballon d\\'Or, receiving his fifth-time award on the Eiffel Tower in Paris. On 16 December, he scored a free kick winner, as Madrid won their second Club World Cup in a row by beating Grêmio in the final. On 3 March 2018, he scored two goals in a 3–1 home win over Getafe, his first being his 300th La Liga goal in his 286th appearance, making him the fastest player to reach this landmark and only the second player to do so after Messi. On 18 March, he reached his 50th career hat-trick, scoring four goals in a 6–3 win against Girona.On 3 April, Ronaldo scored the first two goals in a 3–0 away win against Juventus in the quarter-finals of the 2017–18 UEFA Champions League, with his second goal being an acrobatic bicycle kick. Described as a \"PlayStation goal\" by Juventus defender Andrea Barzagli, with Ronaldo\\'s foot approximately 7 ft 7 in (2.31 m) off the ground, it garnered him a standing ovation from the opposing fans in the stadium as well as a plethora of plaudits from peers, pundits and coaches. On 11 April, he scored in the second leg at home to Juventus, a 98th-minute injury time penalty in a 3–1 defeat, meaning Madrid advanced 4–3 on aggregate. It was his tenth goal against Juventus, a Champions League record against a single club. In the final on 26 May, Madrid defeated Liverpool 3–1, winning Ronaldo his fifth Champions League title, the first player to do so. He finished as the top scorer of the tournament for the sixth consecutive season with 15 goals. After the final, Ronaldo referred to his time with Madrid in the past tense, sparking speculation that he could leave the club.\\n\\n\\n=== Juventus ===\\nDespite months of negotiation to sign a new Real Madrid contract, on 10 July 2018, Ronaldo signed a four-year contract with Italian club Juventus after completing a €100 million transfer, which included an additional €12 million in other fees and solidarity contributions to Ronaldo\\'s youth clubs. The transfer was the highest ever for a player over 30 years old, and the highest paid by an Italian club. Upon signing, Ronaldo cited his need for a new challenge as his rationale for departing Madrid, but later attributed the transfer to the lack of support he felt was shown by club president Florentino Pérez.\\n\\n\\n==== 2018–2020: Adjustment and consecutive Serie A titles ====\\nOn 18 August, Ronaldo made his debut in a 3–2 away win against ChievoVerona. On 16 September, Ronaldo scored his first two goals for Juventus in his fourth appearance in a 2–1 home win over Sassuolo in Serie A; his second was the 400th league goal of his career. On 19 September, in his first Champions League match for Juventus, he was sent off in the 29th minute for \"violent conduct\", his first red card in 154 tournament appearances. Ronaldo became the first player in history to win 100 Champions League matches, setting up Mario Mandžukić\\'s winner in a 1–0 home win over Valencia, which sealed Juventus\\'s passage to the knock-out stages of the competition. In December, he scored his tenth league goal of the season, from the penalty spot, netting the final goal in a 3–0 away win over Fiorentina. After placing second in both the 2018 UEFA Men\\'s Player of the Year and 2018 The Best FIFA Men\\'s Player for the first time in three years, behind Luka Modrić, Ronaldo performances in 2018 also saw him voted runner-up for the 2018 Ballon d\\'Or, finishing once again behind his former Real Madrid teammate. Ronaldo won his first trophy with the club on 16 January 2019, the 2018 Supercoppa Italiana, after he scored the only goal from a header against AC Milan.On 10 February, Ronaldo scored in a 3–0 win over Sassuolo, the ninth consecutive away game in which he had scored in the league, equalling Giuseppe Signori\\'s single season Serie A record of most consecutive away games with at least one goal. On 12 March, Ronaldo scored a hat-trick in a 3–0 home win against Atlético in the second leg of the Champions League round of 16, helping Juventus overcome a two-goal deficit to reach the quarter-finals. The following month, Ronaldo scored his 125th goal in the competition, opening the scoring in a 1–1 away draw in the first leg of Juventus\\' quarter-final against Ajax, on 10 April. In the second leg in Turin on 16 April, he scored the opening goal, but Juventus eventually lost the match 2–1 and were eliminated from the competition. On 20 April, Ronaldo played in the scudetto clinching game against Fiorentina, as Juventus won their eighth successive title after a 2–1 home win, thereby becoming the first player to win league titles in England, Spain and Italy. On 27 April, he scored his 600th club goal, the equaliser in a 1–1 away draw against Derby d\\'Italia rivals Inter Milan. Finishing his first Serie A campaign with 21 goals and 8 assists, Ronaldo won the inaugural Serie A award for Most Valuable Player.\\n\\nRonaldo scored his first goal of the 2019–20 season in a 4–3 home win over Napoli in Serie A on 31 August 2019. On 23 September, he came in 3rd place for the Best FIFA Men\\'s Player Award. On 1 October, he reached several milestones in Juventus\\'s 3–0 Champions League group stage win over Bayer Leverkusen: he scored in a 14th consecutive Champions League season, equalling Raúl and Messi\\'s record; he broke Iker Casillas\\' record for most Champions League wins of all time and equalled Raúl\\'s record of scoring against 33 different Champions League opponents. On 6 November, in a 2–1 away win against Lokomotiv Moscow, he equalled Paolo Maldini as the second-most capped player in UEFA club competitions with 174 appearances. On 18 December, Ronaldo leapt to a height of 8 ft 5 in (2.57 m), higher than the crossbar, to head the winning goal in a 2–1 away win against Sampdoria. Ronaldo scored his first Serie A hat-trick on 6 January 2020, in a 4–0 home win against Cagliari. His 56th career hat-trick, he became only the second player after Alexis Sánchez to score hat-tricks in the Premier League, La Liga and Serie A. On 2 February, he scored twice from the penalty spot in a 3–0 home win over Fiorentina, equalling David Trezeguet\\'s club record of scoring in nine consecutive league games, and broke the record six days later by scoring in his tenth consecutive league game, a 2–1 away defeat to Hellas Verona. On 22 February, Ronaldo scored for a record-equalling 11th consecutive league game, alongside Gabriel Batistuta and Fabio Quagliarella, in what was his 1,000th senior professional game, a 2–1 away win against SPAL.On 22 June, he scored a penalty in a 2–0 away win over Bologna, overtaking Rui Costa to become the highest scoring Portuguese player in Serie A history. On 4 July, he scored his 25th league goal of the season from a free kick in a 4–1 home win over rivals Torino, becoming the first Juventus player to achieve this milestone since Omar Sívori in 1961; the goal was also his first from a free kick with the club after 43 attempts. On 20 July, Ronaldo scored twice in a 2–1 home win over Lazio; his first goal was his 50th in Serie A. He became the second-fastest player to reach this landmark, after Gunnar Nordahl, and the first player in history to reach 50 goals in the Premier League, La Liga and Serie A. With his brace, he also reached 30 league goals for the season, becoming just the third player (after Felice Borel in 1934 and John Hansen in 1952) in Juventus\\'s history to reach that milestone in a season. Moreover, he became the oldest player, at the age of 35 years and 166 days, to score over 30 goals in one of the five top European leagues since Ronnie Rooke with Arsenal in 1948. On 26 July, Ronaldo scored the opening goal in a 2–0 home win over Sampdoria, which saw Juventus crowned Serie A champions for a ninth consecutive time. He finished his second league campaign with 31 goals, making him the second-highest goalscorer in the league behind only European Golden Shoe winner Ciro Immobile, with 36 goals. On 7 August, Ronaldo scored a brace in a 2–1 home win against Lyon in the second leg of the Champions League round of 16, which saw him finish the season with 37 goals in all competitions; the tally allowed him to break Borel\\'s club record of 36 goals in a single season. Despite the win, the tie finished 2–2 on aggregate and Juventus were eliminated from the competition on the away goals rule.\\n\\n\\n==== 2020–2021: 100 Juventus goals, Capocannoniere, and departure ====\\nOn 20 September 2020, Ronaldo scored in Juventus\\'s opening league match of the season, a 3–0 home win over Sampdoria. On 1 November, after Ronaldo took nearly three weeks to recover from COVID-19, he returned to action against Spezia; he came off the bench in the second half and scored within the first three minutes, before scoring a second goal from the penalty spot in an eventual 4–1 away win. On 2 December, he scored a goal against Dynamo Kyiv in a Champions League group stage match to reach his 750th senior career goal. Ronaldo played his 100th match in all competitions for Juventus on 13 December, scoring two penalties in a 3–1 away win over Genoa in the league to bring his goal tally to 79. On 20 January 2021, Juventus won the 2020 Supercoppa Italiana after a 2–0 win against Napoli, with Ronaldo scoring the opening goal. On 2 March, he scored a goal in a 3–0 win over Spezia in his 600th league match, to become the first player to score at least 20 goals in 12 consecutive seasons in the top five leagues of Europe. On 9 March, Juventus were knocked out of the Champions League at the round of 16 by Porto, again on the away goals rule (4–4 on aggregate). On 14 March, he scored his 57th career hat-trick in a 3–1 away win over Cagliari. On 12 May, Ronaldo scored a goal in a 3–1 away win over Sassuolo to reach his 100th goal for Juventus in all competitions on his 131st appearance, becoming the fastest Juventus player to achieve the feat. With Juventus\\'s victory in the 2021 Coppa Italia Final on 19 May, Ronaldo became the first player in history to win every major domestic trophy in England, Spain and Italy. Ronaldo ended the season with 29 league goals, winning the Capocannoniere award for highest goalscorer and becoming the first footballer to finish as top scorer in the English, Spanish and Italian leagues.On 22 August, Ronaldo started the first game of the new season on the bench, coming on as a substitute for Álvaro Morata in a 2–2 draw against Udinese, scoring a goal that was ruled out by VAR. Though manager Massimiliano Allegri confirmed it was his decision due to Ronaldo\\'s fitness, it came amid reports Ronaldo would depart the club before the closure of the transfer window, and Ronaldo would tell Allegri he had \"no intention\" of remaining a Juventus player. On 26 August, Ronaldo and his agent Jorge Mendes reached a verbal agreement with Manchester City over personal terms, but the club pulled out of the deal the following day due to the overall cost of the transfer. On the same day, it was confirmed that City\\'s rivals Manchester United, Ronaldo\\'s former club, were in advanced talks to sign him, while former manager Alex Ferguson and several ex-teammates had been in contact to persuade him to re-sign for United.\\n\\n\\n=== Return to Manchester United ===\\n\\nOn 27 August 2021, Manchester United announced they had reached an agreement with Juventus to re-sign Ronaldo, subject to agreement of personal terms, visa and medical. The transfer was reported as costing an initial £12.85 million, with a two-year contract plus an optional year, and was confirmed on 31 August. Ronaldo was given the number 7 shirt after Edinson Cavani agreed to switch to 21. The first 24 hours of Ronaldo\\'s shirt sales was reported to have broken the all-time record following a transfer, overtaking Messi after his move to Paris Saint-Germain.On 11 September, Ronaldo made his second debut at Old Trafford, scoring the opening two goals in a 4–1 league victory against Newcastle United. On 29 September, he scored a last-minute winner in United\\'s 2–1 victory at home to Villarreal in the Champions League, and overtaking Iker Casillas as the player with the most appearances in the competition. On 2 December, Ronaldo scored twice in a 3–2 home league win against Arsenal, taking him past 800 top-level career goals.On 12 March 2022, Ronaldo scored a hat-trick in a 3–2 victory against Tottenham, bringing his total goal count to 807 in the process. He is believed to be the recordholder for goals scored in professional football, although the Football Association of the Czech Republic argues that Josef Bican scored 821 goals.\\n\\n\\n== International career ==\\n\\n\\n=== 2001–2007: Youth level and early international career ===\\nRonaldo began his international career with Portugal under-15 in 2001. During his international youth career, Ronaldo would represent the under-15, under-17, under-20, under-21 and under-23 national sides, amassing 34 youth caps and scoring 18 goals overall.Aged 18, Ronaldo made his first senior appearance for Portugal in a 1–0 win over Kazakhstan on 20 August 2003, coming on as a half-time substitute for Luís Figo. He was subsequently called up for UEFA Euro 2004, held in his home country, and scored his first international goal in a 2–1 group stage loss to eventual champions Greece, his eighth appearance for Portugal. After converting his penalty in a shoot-out against England in the quarter-finals, he helped Portugal reach the final by scoring the opening goal in a 2–1 win over the Netherlands. He was featured in the team of the tournament, having provided two assists in addition to his two goals.Ronaldo was Portugal\\'s second-highest scorer in their qualification group for the 2006 FIFA World Cup with seven goals. During the tournament, he scored his first World Cup goal against Iran with a penalty kick in Portugal\\'s second match of the group stage. aged 21 years and 132 days, Ronaldo became the youngest ever goalscorer for Portugal at a World Cup finals. In Portugal\\'s an infamously dirty round of 16 match against the Netherlands, Ronaldo was forced off injured in the first half after a tackle from Dutch defender Khalid Boulahrouz. Following Portugal\\'s 1–0 win, Ronaldo accused Boulahrouz of intentionally trying to injure him, although he recovered in time to play in the next game. In Portugal\\'s quarter-final against England, Ronaldo\\'s Manchester United teammate Wayne Rooney was sent off for stamping on Portugal defender Ricardo Carvalho. Although the referee later clarified that the red card was only due to Rooney\\'s infraction, the English media speculated that Ronaldo had influenced his decision by aggressively complaining, after which he was seen in replays winking at Portugal\\'s bench following Rooney\\'s dismissal. Ronaldo went on to score the vital winning penalty during the shoot-out which sent Portugal into the semi-finals. Ronaldo was subsequently booed during their 1–0 semi-final defeat to France. FIFA\\'s Technical Study Group overlooked him for the tournament\\'s Best Young Player award and handed it to Germany\\'s Lukas Podolski, citing his behaviour as a factor in the decision. Following the 2006 World Cup, Ronaldo would go on to represent Portugal in four qualifying games for Euro 2008, scoring two goals in the process.\\n\\n\\n=== 2007–2012: Assuming the captaincy ===\\n\\nOne day after his 22nd birthday, Ronaldo captained Portugal for the first time in a friendly game against Brazil on 6 February 2007, as requested by Portuguese Football Federation (FPF) president Carlos Silva, who had died two days earlier. Ahead of Euro 2008, he was given the number 7 shirt for the first time. While he scored eight goals in the qualification, the second-highest tally, he scored just one goal in the tournament, netting the second goal of their 3–1 win in the group stage match against the Czech Republic; in the same game, he also set-up Portugal\\'s third goal in injury time, which was scored by Quaresma, and was named man of the match for his performance. Portugal were eliminated in the quarter-finals with a 3–2 loss against eventual finalists Germany.After Portugal\\'s unsuccessful performance at Euro 2008, Luiz Felipe Scolari was replaced as coach by Carlos Queiroz, formerly the assistant manager at United. Queiroz made Ronaldo the squad\\'s permanent captain in July 2008. Ronaldo failed to score a single goal in the qualification for the 2010 World Cup, as Portugal narrowly avoided a premature elimination from the tournament with a play-off victory over Bosnia and Herzegovina. In the group stage of the World Cup, he was named man of the match in all three matches, against Ivory Coast, North Korea and Brazil. His only goal of the tournament came in their 7–0 rout of North Korea, which marked his first international goal in 16 months. Portugal\\'s World Cup ended with a 1–0 loss against eventual champions Spain in the round of 16.Ronaldo scored seven goals in the qualification for Euro 2012, including two strikes against Bosnia and Herzegovina in the play-offs, to send Portugal into the tournament, where they were drawn in a \"group of death\". In the last group stage game against the Netherlands, Ronaldo scored twice to secure a 2–1 win. He scored a header in the quarter-final against the Czech Republic to give his team a 1–0 win. In both games against the Netherlands and the Czech Republic he was named man of the match. After the semi-finals against Spain ended scoreless, with Ronaldo having sent three shots over the bar, Portugal were eliminated in the penalty shoot-out. Ronaldo did not take a penalty as he had been slated to take the unused fifth slot, a decision that was questioned by the media. Ronaldo\\'s own teammate, Nani, said that Ronaldo \"demanded\" to take the last penalty. As the joint top scorer with three goals, alongside five other players, he was again included in the team of the tournament.\\n\\n\\n=== 2012–2016: All-time Portugal top scorer and European champion ===\\n\\nDuring the qualification for the 2014 World Cup, Ronaldo scored a total of eight goals. A qualifying match on 17 October 2012, a 1–1 draw against Northern Ireland, earned him his 100th cap. His first international hat-trick also came against Northern Ireland, when he scored three times in a 15-minute spell of a 4–2 qualifying win on 6 September 2013. After Portugal failed to qualify during the regular campaign, Ronaldo scored all four of the team\\'s goals in the play-offs against Sweden, billed as a battle between Ronaldo and Zlatan Ibrahimović, which ensured their place at the tournament. His hat-trick in the second leg took his international tally to 47 goals, equaling Pauleta\\'s record. Ronaldo subsequently scored twice in a 5–1 friendly win over Cameroon on 5 March 2014 to become his country\\'s all-time top scorer.Ronaldo took part in the tournament despite suffering from patellar tendinitis and a related thigh injury, potentially risking his career. Ronaldo later commented: \"If we had two or three Cristiano Ronaldos in the team I would feel more comfortable. But we don\\'t.\" Despite ongoing doubts over his fitness, being forced to abort practice twice, Ronaldo played the full 90 minutes of the opening match against Germany, although he was unable to prevent a 4–0 defeat. After assisting an injury-time 2–2 equaliser against the United States, he scored a late match-winning goal in a 2–1 win over Ghana. His 50th international goal made him the first Portuguese to play and score in three World Cups. Portugal were eliminated from the tournament at the close of the group stage on goal difference.\\n\\nRonaldo scored five goals, including a hat-trick against Armenia, in the qualification for Euro 2016. With the only goal in another win over Armenia on 14 November 2014, he reached 23 goals in the UEFA European Championship, including qualifying matches, to become the competition\\'s all-time leading goalscorer. At the start of the tournament, Ronaldo failed to convert his chances in Portugal\\'s draws against Iceland and Austria, despite taking 20 shots on goal. In the latter match, he overtook Figo as Portugal\\'s most capped player with his 128th international appearance, which ended scoreless after he missed a penalty in the second half. With two goals in the last match of the group stage, a 3–3 draw against Hungary, Ronaldo became the first player to score in four European Championships, having made a record 17 appearances in the tournament. Although placed third in their group behind Hungary and Iceland, his team qualified for the knockout round as a result of the competition\\'s newly expanded format, despite not winning any of their games.In Portugal\\'s first knockout match, Ronaldo\\'s only attempt on goal was parried by Croatia\\'s goalkeeper Danijel Subašić into the path of Ricardo Quaresma, whose finish then secured a 1–0 win late in extra time. After his team progressed past Poland on penalties, with Ronaldo scoring Portugal\\'s opening penalty, he became the first player to participate in three European Championship semi-finals; he scored the opener in a 2–0 win against Wales, equalling Michel Platini as the competition\\'s all-time top scorer with nine goals. In the final against hosts France, Ronaldo was forced off after just 25 minutes following a challenge from Dimitri Payet, despite multiple treatments and attempts to play on, he was stretchered off the pitch and replaced by Quaresma. During extra time, substitute Eder scored in the 109th minute to earn Portugal a 1–0 victory. As team captain, Ronaldo lifted the trophy in celebration of his country\\'s first triumph in a major tournament. He was awarded the Silver Boot as the joint second-highest goalscorer, with three goals and three assists, and was named to the team of the tournament for the third time in his career.\\n\\n\\n=== 2016–2018: Post-European Championship victory and World Cup ===\\nFollowing the Euro 2016 success, Ronaldo played his first professional match on his home island of Madeira on 28 March 2017 at age 32, opening a 2–3 friendly defeat to Sweden at the Estádio dos Barreiros. With the goal, he tied with Miroslav Klose on 71 goals as the third-highest scoring European in international football.In Portugal\\'s opening match of the 2017 FIFA Confederations Cup against Mexico on 17 June, Ronaldo set up Quaresma\\'s opening goal in a 2–2 draw. Three days later, he scored in a 1–0 win over hosts Russia. On 24 June, he scored from a penalty in a 4–0 win over New Zealand, which saw Portugal top their group and advance to the semi-finals of the competition; with his 75th international goal, Ronaldo also equalled Sándor Kocsis as the second-highest European international goalscorer of all-time, behind only Ferenc Puskás. He was named man of the match in all three of Portugal\\'s group stage matches. Ronaldo left the competition early; after Chile defeated Portugal 3–0 on penalties in the semi-finals, he was allowed to return home to be with his newborn children, and missed Portugal\\'s third-place play-off match in which Portugal defeated Mexico 2–1 after extra time.\\n\\nOn 31 August 2017, Ronaldo scored a hat-trick in a 5–1 win in a 2018 World Cup qualifying match over the Faroe Islands, which saw him overtake Pelé and equal Hussein Saeed as the joint-fifth-highest goalscorer in international football with 78 goals. These goals brought his tally in the World Cup qualifiers to 14, equalling Predrag Mijatović\\'s record for most goals in a single UEFA qualifying campaign, and also saw him break the record for the most goals scored in a European qualifying group, overtaking the previous record of 13 goals set by David Healy and Robert Lewandowski. Ronaldo\\'s hat-trick took his World Cup qualifying goals total to 29, making him the highest scorer in UEFA qualifiers, ahead of Andriy Shevchenko, and the highest goalscorer in World Cup qualifying and finals matches combined with 32 goals, ahead of Miroslav Klose. Ronaldo later added to this tally by scoring a goal against Andorra in a 2–0 win.On 15 June 2018, Ronaldo became the oldest player to score a hat-trick in a FIFA World Cup match, helping Portugal secure a 3–3 draw against Spain (his third goal a 30-yard curling free kick with two minutes remaining) in their opening match. In doing so, he became the first Portuguese player to score a goal in four World Cups and one of four players of any nationality to do so. On 20 June, Ronaldo scored the only goal in a 1–0 win against Morocco, breaking Puskás\\' record as the highest European goalscorer of all-time, with 85 international goals. In the final group match against Iran on 25 June, Ronaldo missed a penalty in an eventual 1–1 draw which saw Portugal progress to the second round as group runners-up behind Spain. On 30 June, Portugal were eliminated following a 2–1 defeat to Uruguay in the last 16. For his performances in the tournament, Ronaldo was named in the World Cup Dream Team.\\n\\n\\n=== 2018–2020: Nations League title and 100 international goals ===\\nAfter the World Cup, Ronaldo missed six international matches, including the entire league phase of the 2018–19 UEFA Nations League, but played for hosts Portugal in the inaugural Nations League Finals in June 2019. In the semi-finals on 5 June, he scored a hat-trick against Switzerland to reach the final. Upon scoring the opening goal, he became the first player to score in 10 consecutive international competitions, breaking the record he previously shared with Ghana\\'s Asamoah Gyan. In the final of the tournament four days later, Portugal defeated the Netherlands 1–0.On 10 September 2019, Ronaldo scored four goals in a 5–1 away win over Lithuania in a Euro 2020 qualifying match; in the process, he overtook Robbie Keane (23 goals) as the player with most goals in the UEFA European Championship qualifying, setting a new record with 25 goals. He also set a new record for scoring against the most national teams, 40, while also completing his eighth international hat-trick. On 14 October, he scored his 700th senior career goal for club and country from the penalty spot, in his 974th senior career appearance, a 2–1 away loss to Ukraine in a Euro 2020 qualifier. On 17 November, Ronaldo scored his 99th international goal in a 2–0 win over Luxembourg, leading Portugal to qualify for Euro 2020. On 8 September 2020, Ronaldo scored his 100th and 101st international goals in a 2–0 away win over Sweden in a 2020–21 UEFA Nations League match, becoming only the second male player ever to achieve this milestone (after Ali Daei of Iran) and the first in Europe. On 13 October, the FPF announced that Ronaldo tested positive for COVID-19 while being asymptomatic. By 30 October, Ronaldo had recovered.\\n\\n\\n=== 2021–present: All-time international top goalscorer ===\\n\\nOn 15 June 2021, Ronaldo scored twice in Portugal\\'s first game of Euro 2020, a 3–0 win against Hungary in Budapest. This took him to a total of eleven European Championship goals, two clear of Michel Platini, as the all-time top goalscorer in the competition\\'s history. He also became the first player to score at five European Championships, and in eleven consecutive tournaments. The brace made Ronaldo the oldest player to score two goals in a match in the European Championship, and the oldest player to score for Portugal at a major tournament. On 23 June, he scored two penalties in Portugal\\'s 2–2 draw with France in their final group stage match, equalling Daei\\'s record of 109 international goals. On 27 June, Portugal were eliminated following a 1–0 loss against Belgium in the round of 16. Ronaldo finished the tournament with five goals (tied with Czech Patrik Schick) and one assist, earning him the Golden Boot.On 1 September, Ronaldo scored two headed goals, with his second coming seconds before the full-time whistle, in a 2–1 home win against the Republic of Ireland in a World Cup qualifier at the Estádio Algarve, which saw him pass Ali Daei\\'s international record of 109 goals to become the sole record holder. On 9 October, he scored the opening goal in a 3–0 friendly win over Qatar at the Estádio Algarve; with his 181st international appearance, he also overtook Sergio Ramos\\'s record for the most international caps received by a European player. In the following match against Luxembourg on 12 October, also played at the Estádio Algarve, Ronaldo scored a hat-trick in a 5–0 win for Portugal, and became the first player to score 10 hat-tricks in men\\'s international football.\\n\\n\\n== Player profile ==\\n\\n\\n=== Style of play ===\\nA versatile attacker, Ronaldo is capable of playing on either wing as well as through the centre of the pitch, and, while ostensibly right-footed, is very strong with both feet. Tactically, Ronaldo has undergone several evolutions throughout his career. While at Sporting and during his first season at Manchester United, he was typically deployed as a traditional winger on the right side of midfield, where he regularly looked to deliver crosses into the penalty area. In this position, he was able to use his pace and acceleration, agility and technical skills to take on opponents in one-on-one situations. Ronaldo became noted for his dribbling and flair, often displaying an array of tricks and feints, such as the step overs and so-called \\'chops\\' that became his trademark; he has also been known to use the flip–flap.\\n\\nAs Ronaldo matured, he underwent a major physical transformation, developing a muscular body type that allowed him to retain possession of the ball under pressure, and strong legs that enabled an outstanding jumping ability. His strength and jumping ability, combined with his elevation, heading accuracy and height of 1.87 m (6 ft 1+1⁄2 in), give him an edge in winning aerial duels. These attributes allow him to function as a target-man and make him an aerial goal threat in the penalty area; consequently, many of his goals have been headers. Allied with his increased stamina and work-rate, his goalscoring ability improved drastically on the left wing where he was given the positional freedom to move into the centre to finish attacks. He has also increasingly played a creative role for his team, often dropping deep to pick up the ball, participate in the build-up of plays and create chances for his teammates, courtesy of his vision and passing ability.In his final seasons at United, Ronaldo played an even more attacking and central role, functioning both as a striker and as a supporting forward, or even as an attacking midfielder on occasion. He developed into a prolific goalscorer, capable of finishing well both inside the penalty area and from distance with an accurate and powerful shot, courtesy of his striking ability. An accurate penalty kick taker, he also became a set piece specialist, renowned for his powerful, bending free kicks. When taking free kicks, Ronaldo is known for using the knuckleball technique, which was developed by Juninho Pernambucano. He also adopts a trademark stance before striking the ball, which involves him standing with his legs far apart. Regarding Ronaldo\\'s unique style of taking free kicks, former Manchester United assistant manager Mike Phelan commented: \"People used to put the ball down, walk away, run up and hit it. He brought in a more dynamic showmanship. He places the ball down, the concentration level is high, he takes his certain amount of steps back so that his standing foot is in the perfect place to hit the ball in the sweet spot. He is the ultimate showman. He has that slight arrogance. When he pulls those shorts up and shows his thighs, he is saying \\'All eyes on me\\' and this is going in. He understands the marketing side of it. The way he struts up and places it; the world is watching him.\"\\n\\nAt Real Madrid, Ronaldo continued to play a more offensive role, while his creative and defensive duties became more limited, although not entirely diminished. Initially deployed as a centre forward by managers Manuel Pellegrini and José Mourinho, he was later moved back onto the left wing, though in a free tactical role; this position allowed him to drift into the centre at will to get onto the end of crosses and score, or draw out defenders with his movement off the ball and leave space for teammates to exploit. Madrid\\'s counter-attacking style of play also allowed him to become a more efficient and consistent player, as evidenced by his record-breaking goalscoring feats. While he mainly drew praise in the media for his prolific goalscoring, Ronaldo also demonstrated his ability as an effective creator in this role. This unique role has been described by pundits as that of a \"false\", \"attacking\", or \"goalscoring winger\", as Ronaldo effectively almost functioned as a striker at times with his central runs into the penalty area, despite actually playing on the left flank. From 2013 onwards, under manager Carlo Ancelotti, he effectively adapted his style to the physical effects of ageing with increasingly reduced off-the-ball movement and general involvement, completing fewer dribbles and passes per game, and instead focusing on short-distance creating and goalscoring. Since 2017, Ronaldo adapted his style of play yet again to become more of a free-roaming centre forward under manager Zinedine Zidane, a role in which he continued to excel and maintain a prolific goalscoring record; in this position, he earned praise in the media for his intelligent movement both on and off the ball, positional sense, link-up play and finishing, as well as his ability to lose or anticipate his markers, find space in the box and score from few touches or opportunities.In his first season at Juventus, Ronaldo continued to play in a variety of different attacking roles under manager Massimiliano Allegri, depending on whom he was partnered with. While he had occupied an increasingly offensive role in his final years at Real Madrid, at times he functioned in a free role at Juventus, either as a lone striker or in his trademark role on the left wing, in a 4–2–3–1 or 4–3–3 formation, in which he often switched positions with Mario Mandžukić. In this role, he was also given licence to drop deep or even out wide onto the right flank to receive the ball, and be more involved in the build-up of plays; as such, aside from scoring goals himself, he began to take on opponents and create chances for other players with greater frequency than he had in his final seasons with Real Madrid. Off the ball, he was also capable of creating space for teammates with his movement and attacking runs into the box, or finishing off chances with his head or feet by getting onto the end of his teammates\\' crosses. On occasion he also played in an attacking partnership alongside Mandžukić in a 4–3–1–2, 4–4–2, or 3–5–2 formation. He continued to play a similar role in his second season with the club under manager Maurizio Sarri.\\n\\n\\n=== Reception ===\\n\\nRonaldo is widely regarded as one of the two best players of his generation, alongside Lionel Messi. Winning his first Ballon d\\'Or in 2008 by a record-high vote count at age 23, over the next decade Ronaldo has often featured in debates concerning who is the greatest player in history. Acclaimed for his prolific and consistent goal-scoring, he is considered a decisive player who is also a game changer, especially in important and high-pressured situations.\\n\\nRonaldo is noted for his work ethic, elite body conditioning and dedication to improvement on the training pitch, as well being regarded as a natural leader. On his longevity and \"extraordinary commitment to physical preparation\", Adam Bate of Sky Sports said: \"Dedication is a huge part of staying at the top and Ronaldo\\'s focus is perhaps unparalleled within the game.\" While stating they were stylistically different players who shared an equal desire to score goals, former Brazil international Ronaldo praised Cristiano\\'s approach to training, arguing that \"there are so few players who take care of their body like he does. I trained because I had to, he does it because he loves it.\" His drive and determination to succeed are fuelled by a desire to be talked about alongside other greats such as Pelé and Diego Maradona once retiring. He is credited, along with his compatriot, coach José Mourinho, with inspiring changing fortunes of Portuguese football in 2010s and 2020s. At times, he has been criticised for simulating when tackled. He was also occasionally criticised early in his career by manager Alex Ferguson, teammates and the media for being a selfish or overly flamboyant player. Jonathan Wilson of The Guardian opined that Ronaldo had made Juventus, who he joined aged 33 in 2018, weaker, due to \"his relative immobility\" in his mid-30s, even if his personal goal-scoring output remained high.During his career, Ronaldo has also been described as having an \"arrogant image\" on the pitch, with Ronaldo stating that he had become a \"victim\" because of how he was portrayed in the media. He is often seen moaning, gesticulating and scowling while trying to inspire his team to victory, with Ronaldo insisting that his competitive nature should not be mistaken for arrogance. His managers, teammates and various journalists have said that this reputation has caused an unfair image of him.\\n\\n\\n=== Goal celebrations ===\\n\\nRonaldo has adopted several goal celebrations throughout his career, including one particular celebration which gained widespread coverage in the media, when he squatted and stared directly into a camera on the sidelines of the pitch with his hand on his chin. After scoring a goal, he usually celebrates with a \"storming jump\" and \"turn\", before \"landing in spread-eagled fashion\" into his \"signature power stance\", while usually simultaneously exclaiming \"Sí\" (Spanish and Italian for \"yes\"). This trademark celebration has been dubbed the \"Sii\" in the media.\\n\\n\\n=== Comparisons to Lionel Messi ===\\n\\nBoth players have scored in multiple UEFA Champions League finals and have regularly broken the 50-goal barrier in a single season. Sports journalists and pundits regularly weigh the individual merits of both players in an attempt to argue who they believe is the best player in modern football or in the history of the game. It has been compared to several sports rivalries, among them the Muhammad Ali–Joe Frazier rivalry in boxing, the Borg–McEnroe rivalry in tennis and the Senna–Prost rivalry from Formula One motor racing. Some commentators choose to analyse the differing physiques and playing styles of the two, Part of the debate revolves around the contrasting personalities of the two players, as Ronaldo is sometimes depicted as an arrogant and theatrical showoff, while Messi is portrayed as a shy, humble character.\\n\\nIn a 2012 interview, Ronaldo commented on the rivalry, saying: \"I think we push each other sometimes in the competition, this is why the competition is so high.\" Alex Ferguson, Ronaldo\\'s manager during his time at Manchester United, opined: \"I don\\'t think the rivalry against each other bothers them. I think they have their own personal pride in terms of wanting to be the best.\" Messi himself denied any rivalry, saying that it was \"only the media, the press, who wants us to be at loggerheads but I\\'ve never fought with Cristiano.\" Responding to the claims that he and Messi do not get on well on a personal level, Ronaldo commented: \"We don\\'t have a relationship outside the world of football, just as we don\\'t with a lot of other players.\" Ronaldo added that in years to come he hopes they can laugh about it together, stating: \"We have to look on this rivalry with a positive spirit, because it\\'s a good thing.\" Representing archrivals Barcelona and Real Madrid, the two players faced each other at least twice every season in the world\\'s biggest club game, El Clásico, which is among the world\\'s most viewed annual sporting events.In a debate at Oxford Union in October 2013, when asked whether FIFA president Sepp Blatter preferred Messi or Ronaldo, Blatter paid tribute to the work ethic of the Argentine before taking a swipe at Ronaldo, claiming \"one of them has more expenses for the hairdresser than the other.\" Real Madrid demanded and promptly received a full apology. In response to Blatter\\'s \"commander\" on the pitch comment, Ronaldo issued his own riposte with a mock-salute celebration after scoring a penalty against Sevilla. In August 2019, Ronaldo and Messi were interviewed while sat next to each other prior to the announcement of the UEFA Men\\'s Player of the Year, with Ronaldo stating: \"I pushed him and he pushed me as well. So it\\'s good to be part of the history of football.\"\\n\\n\\n== Outside football ==\\n\\nAs his reputation grew from his time at Manchester United, Ronaldo has signed many sponsorship deals for consumer products, including sportswear, football boots; since November 2012, Ronaldo has worn the Nike Mercurial Vapor personalized CR7 edition, soft drinks, clothing, automotive lubricants, financial services, electronics, and video games. Ronaldo was featured as the cover star of EA Sports\\' FIFA video game FIFA 18 and was heavily involved in the game\\'s promotion. His \"Sii\" goal celebration features in the FIFA series, accompanied with his own voiceover. He was also the face of Pro Evolution Soccer, appearing on the covers of the 2008, 2012 and 2013 editions of the game.With earnings of €720 million (£615 million) from 2010 to 2019, Ronaldo was ranked second in Forbes list of The Highest-Paid Athletes Of The Decade, with only boxer Floyd Mayweather Jr. earning more. Forbes twice ranked Ronaldo first on its list of the world\\'s highest-paid football players; his combined income from salaries, bonuses and endorsements was $73 million in 2013–14 and $79 million in 2014–15. The latter earnings saw him listed behind only Mayweather on the magazine\\'s list of The World\\'s Highest-Paid Athletes. In 2016, he became the first footballer to top the Forbes list of highest-earning athletes, with a total income of $88 million from his salary and endorsements in 2015–16. He topped the list for the second straight year with earnings of $93 million in 2016–17. He is the first footballer and only the third sportsman to earn $1 billion in their career. Ronaldo is one of the world\\'s most marketable sportsmen: SportsPro rated him the fifth most marketable athlete in 2012 and eighth most marketable athlete in 2013, with Brazilian footballer Neymar topping both lists. Sports market research company Repucom named Ronaldo the most marketable and most recognised football player in the world in May 2014. He was additionally named in the 2014 Time 100, Time\\'s annual list of the most influential people in the world. ESPN named Ronaldo the world\\'s most famous athlete in 2016, 2017, 2018 and 2019.\\n\\nRonaldo has established a strong online presence. The most popular sportsperson on social media, he counted over 500 million total followers across Facebook, Twitter and Instagram by February 2021, making him the first person to pass half a billion followers. The most-followed person on Facebook (148 million), the most-followed on Instagram (310 million) and the most-followed sportsperson on Twitter (92 million), his sponsors earned $936 million in media value across his accounts between June 2016 to June 2017. Ronaldo has released two mobile apps. In December 2011, he launched an iPhone game called Heads Up with Cristiano, created by developer RockLive, and in December 2013, he launched Viva Ronaldo, a dedicated social networking website and app. Computer security company McAfee produced a 2012 report ranking footballers by the probability of an internet search for their name leading to an unsafe website, with Ronaldo\\'s name first on the list.Ronaldo has been the subject of several works. His autobiography, titled Moments, was published in December 2007. His sponsor Castrol produced the television film Ronaldo: Tested to the Limit, in which he was physically and mentally tested in several areas; his physical performance was consequently subject to scrutiny by world media upon the film\\'s release in September 2011. Cristiano Ronaldo: The World at His Feet, a documentary narrated by actor Benedict Cumberbatch, was released via Vimeo in June 2014. A documentary film directed by Anthony Wonke about his life and career, titled Ronaldo, was released on 9 November 2015.\\n\\nDemand for a replica Ronaldo shirt has been high throughout his career. In 2008, Ronaldo\\'s number 7 Manchester United shirt was the best-selling Premier League sports product. In 2015, Ronaldo\\'s number 7 Real Madrid shirt was the second best-selling worldwide, after Messi\\'s number 10 Barcelona shirt. In 2018, within 24 hours of his number 7 Juventus shirt being released, over 520,000 had been sold, with $62.4 million generated in one day.Ronaldo opened a fashion boutique under the name CR7 (his initials and shirt number) on the island of Madeira in 2006 and opened a second in Lisbon in 2008. In partnership with Scandinavian manufacturer JBS Textile Group and the New York fashion designer Richard Chai, Ronaldo co-designed a range of underwear and sock line, released in November 2013. He expanded his CR7 fashion brand by launching a line of premium shirts and shoes in July 2014. In September 2015, Ronaldo released his own fragrance, \"Legacy\", in a partnership with Eden Parfums.In 2007, C.D. Nacional renamed its youth campus Cristiano Ronaldo Campus Futebol (Cristiano Ronaldo Football Campus). In December 2013, Ronaldo opened a museum, Museu CR7, in his hometown of Funchal, Madeira, to house trophies and memorabilia; the museum is an official sponsor of the local football team União da Madeira. At a ceremony held at the Belém Palace in January 2014, President of Portugal Aníbal Cavaco Silva raised Ronaldo to the rank of Grand Officer of the Order of Prince Henry \"to distinguish an athlete of world renown who has been a symbol of Portugal globally, contributing to the international projection of the country and setting an example of tenacity for future generations.\" A bronze statue of Ronaldo, designed by artist Ricardo Madeira Veloso, was unveiled in Funchal on 21 December 2014.\\n\\nIn June 2010, during the build-up to the World Cup, Ronaldo became the fourth footballer (after Steven Gerrard, Pelé, and David Beckham) to be represented as a waxwork at Madame Tussauds London. Another waxwork of him was presented at the Madrid Wax Museum in December 2013. In June 2015, astronomers led by David Sobral from Lisbon and Leiden discovered a galaxy which they named Cosmos Redshift 7 (CR7) in tribute to Ronaldo.On 23 July 2016, following Portugal\\'s triumph at Euro 2016, Madeira Airport in Funchal was renamed as Cristiano Ronaldo International Airport. The unveiling of the rebranded terminal took place on 29 March 2017, which included a bust of his head being presented. The bust and the name change were controversial, with the lack of the bust\\'s likeness to Ronaldo being ridiculed by comedians, including Saturday Night Live, while the name change was subject to much debate locally by some politicians and citizens, who even started a petition against the move, an action criticised by President of Madeira Miguel Albuquerque. A year later, sports website Bleacher Report commissioned sculptor Emanuel Santos to create another bust; however, this bust was never used and a new one was made by a Spanish sculptor, shown to the public on 15 June 2018.\\n\\n\\n== Personal life ==\\n\\n\\n=== Family, children, and relationships ===\\nRonaldo has four children. He first became a father to a son, Cristiano Jr., born on 17 June 2010 in the United States. He stated that he has full custody of the child and would not be publicly revealing the identity of the mother per agreement with her. In January 2015, Ronaldo announced his five-year relationship with Russian model Irina Shayk had ended.Ronaldo then became father to twins, daughter Eva and son Mateo, born on 8 June 2017 in the United States via surrogacy. He is in a relationship with Spanish model Georgina Rodríguez, a former shop assistant, who gave birth to their daughter Alana Martina, on 12 November 2017. In October 2021, Ronaldo announced the family would be expecting a second pair of twins.Ronaldo\\'s father, José, died of an alcoholism-related liver condition at age 52 in September 2005 when Ronaldo was 20. Ronaldo said that he does not drink alcohol, and he received libel damages over a Daily Mirror article that reported him drinking heavily in a nightclub while recovering from an injury in July 2008. He also does not have any tattoos as he regularly donates blood and bone marrow. His mother Dolores was diagnosed with breast cancer in 2007 but eventually recovered.\\n\\n\\n=== Philanthropy ===\\n\\nRonaldo has made contributions to various charitable causes throughout his career. Television footage of the 2004 Indian Ocean earthquake and tsunami showed an eight-year-old boy survivor named Martunis wearing a Portuguese football shirt who was stranded for 19 days after his family was killed. Following this, Ronaldo visited Aceh, Indonesia, to raise funds for rehabilitation and reconstruction. After accepting undisclosed damages from a libel case against The Sun newspaper in 2008, Ronaldo donated the damages to a charity in Madeira. In 2009, Ronaldo donated £100,000 to the hospital that saved his mother\\'s life in Madeira following her battle with cancer, so that they could build a cancer centre on the island. In support of the victims of the 2010 Madeira flood, Ronaldo pledged to play in a charity match in Madeira between Primeira Liga club Porto and players from Madeiran-based clubs Marítimo and Nacional.In 2012, Ronaldo and his agent paid for specialist treatment for a nine-year-old Canarian boy with apparently terminal cancer. In December 2012, Ronaldo joined FIFA\\'s \"11 for Health\" programme to raise awareness amongst kids of how to steer clear of conditions including drug addiction, HIV, malaria, and obesity. In January 2013, Ronaldo became Save the Children\\'s new Global Artist Ambassador, in which he hopes to help fight child hunger and obesity. In March 2013, Ronaldo agreed to be the ambassador for The Mangrove Care Forum in Indonesia, an organisation aiming to raise awareness of mangrove conservation.Ronaldo was named the world\\'s most charitable sportsperson in 2015 after donating £5 million to the relief effort after the earthquake in Nepal which killed over 8,000 people. In June 2016, Ronaldo donated the entirety of his €600,000 Champions League bonus after Real Madrid won the Champions League. In August, Ronaldo launched CR7Selfie, a selfie app for charity to help Save the Children that lets participants take a selfie with him in one of several different outfits and poses.\\n\\n\\n=== Legal issues ===\\nIn July 2017, Ronaldo was charged with fraudulently evading almost €15 million in tax between 2011 and 2014, a claim he denied at the time. In June 2018, Ronaldo was given a two-year suspended jail sentence and fined €18.8 million, later reduced to €16.8 million after reaching a deal with Spanish authorities. The sentence can be served under probation, without any jail time, so long as he does not re-offend.Ronaldo and another man were investigated by the British Crown Prosecution Service after a 2005 rape allegation was brought forward by two women. Within days, the two women withdrew their allegation and Scotland Yard later issued a statement declaring there was not enough evidence for a prosecution.In April 2017, it was reported that Ronaldo was being investigated by the Las Vegas Police Department for an allegation by a woman that he had raped her in 2009. Documents, confirmed by Ronaldo\\'s lawyers, state that Ronaldo paid a woman US$375,000 in a non-disclosure settlement. Ronaldo and his lawyers issued a lengthy statement denying all accusations, describing them as an \"intentional defamation campaign\" with parts significantly \"altered and/or completely fabricated\", a claim which Der Spiegel categorically denied. In July 2019, Las Vegas prosecutors said they would not charge Ronaldo over allegations of rape; the statement added: \"Based upon a review of information at this time, the allegations of sexual assault against Cristiano Ronaldo cannot be proven beyond a reasonable doubt.\" The Daily Mirror, citing court documents, reported in 2021 that the woman is seeking £56 million in damages from Ronaldo in a civil lawsuit.\\n\\n\\n== Career statistics ==\\n\\n\\n=== Club ===\\nAs of match played 12 March 2022\\n\\n\\n=== International ===\\n\\nAs of match played 14 November 2021Notes\\n\\n\\n== Honours ==\\n\\nSporting CP\\nSupertaça Cândido de Oliveira: 2002Manchester United\\nPremier League: 2006–07, 2007–08, 2008–09\\nFA Cup: 2003–04\\nFootball League Cup: 2005–06, 2008–09\\nFA Community Shield: 2007\\nUEFA Champions League: 2007–08\\nFIFA Club World Cup: 2008Real Madrid\\nLa Liga: 2011–12, 2016–17\\nCopa del Rey: 2010–11, 2013–14\\nSupercopa de España: 2012, 2017\\nUEFA Champions League: 2013–14, 2015–16, 2016–17, 2017–18\\nUEFA Super Cup: 2014, 2017\\nFIFA Club World Cup: 2014, 2016, 2017Juventus\\nSerie A: 2018–19, 2019–20\\nCoppa Italia: 2020–21\\nSupercoppa Italiana: 2018, 2020Portugal\\n\\nUEFA European Championship: 2016\\nUEFA Nations League: 2018–19Individual\\n\\nFIFA Ballon d\\'Or/Ballon d\\'Or: 2008, 2013, 2014, 2016, 2017\\nFIFA World Player of the Year: 2008\\nThe Best FIFA Men\\'s Player: 2016, 2017\\nEuropean Golden Shoe: 2007–08, 2010–11, 2013–14, 2014–15\\nFPF Portuguese Player of the Year: 2016, 2017, 2018, 2019\\nPFA Players\\' Player of the Year: 2006–07, 2007–08\\nPremier League Player of the Season: 2006–07, 2007–08\\nPremier League Golden Boot: 2007–08\\nLa Liga Best Player: 2013–14\\nPichichi Trophy: 2010–11, 2013–14, 2014–15\\nSerie A Footballer of the Year: 2019, 2020\\nCapocannoniere: 2020–21\\nFIFA The Best Special Award: 2021Orders\\n\\n Medal of Merit, Order of the Immaculate Conception of Vila Viçosa (Portuguese Royal Family)\\n Grand officer of the Order of Prince Henry\\n Commander of the Order of Merit\\nCordão Autonómico de Distinção\\n\\n\\n== See also ==\\n\\nList of footballers with 100 or more UEFA Champions League appearances\\nList of top international men\\'s football goal scorers by country\\nList of men\\'s footballers with 100 or more international caps\\nList of men\\'s footballers with 50 or more international goals\\nList of men\\'s footballers with the most official appearances\\nList of men\\'s footballers with 500 or more goals\\n\\n\\n== References ==\\nNotes\\n\\nCitations\\n\\n\\n=== Works cited ===\\nBiographies\\n\\nCaioli, Luca (2016) [2012]. Ronaldo: The Obsession for Perfection (2017 updated ed.). New York: Icon Books. ISBN 978-1-78578-140-7.\\n\\n\\n== Further reading ==\\nBalagué, Guillem (2015). Cristiano Ronaldo: The Biography (hardcover ed.). London: Orion Publishing Group. ISBN 978-1-4091-5504-1.\\n\\n\\n== External links ==\\n\\nManchester United official profile\\nJuventus official profile\\nReal Madrid official profile\\nCristiano Ronaldo – La Liga competition record\\nCristiano Ronaldo – FPF competition record\\nCristiano Ronaldo – UEFA competition record (archive) \\nCristiano Ronaldo – FIFA competition record (archived) \\nCristiano Ronaldo at National-Football-Teams.com \\nCristiano Ronaldo at BDFutbol \\n\\nTemplate:Authority control'"
      ]
     },
     "execution_count": 8,
     "metadata": {},
     "output_type": "execute_result"
    }
   ],
   "source": [
    "ronaldo.content"
   ]
  },
  {
   "cell_type": "code",
   "execution_count": 9,
   "id": "75cd43fc",
   "metadata": {
    "id": "75cd43fc"
   },
   "outputs": [],
   "source": [
    "ronaldo_string = ronaldo.content"
   ]
  },
  {
   "cell_type": "code",
   "execution_count": 10,
   "id": "9b077a77",
   "metadata": {
    "colab": {
     "base_uri": "https://localhost:8080/"
    },
    "id": "9b077a77",
    "outputId": "8a2df4d5-a70a-4d88-b759-153077a03170"
   },
   "outputs": [
    {
     "data": {
      "text/plain": [
       "str"
      ]
     },
     "execution_count": 10,
     "metadata": {},
     "output_type": "execute_result"
    }
   ],
   "source": [
    "type(ronaldo_string)"
   ]
  },
  {
   "cell_type": "code",
   "execution_count": 11,
   "id": "467198ff",
   "metadata": {
    "colab": {
     "base_uri": "https://localhost:8080/",
     "height": 35
    },
    "id": "467198ff",
    "outputId": "d0401a72-1643-4242-aa80-d14dc49644a4"
   },
   "outputs": [
    {
     "data": {
      "text/plain": [
       "'C:\\\\Users\\\\Lg\\\\Downloads'"
      ]
     },
     "execution_count": 11,
     "metadata": {},
     "output_type": "execute_result"
    }
   ],
   "source": [
    "pwd"
   ]
  },
  {
   "cell_type": "code",
   "execution_count": 18,
   "id": "0166514f",
   "metadata": {},
   "outputs": [],
   "source": [
    "file_ronaldo = ronaldo_string"
   ]
  },
  {
   "cell_type": "code",
   "execution_count": 21,
   "id": "2d18fdf7",
   "metadata": {
    "id": "2d18fdf7"
   },
   "outputs": [
    {
     "ename": "FileNotFoundError",
     "evalue": "[Errno 2] No such file or directory: '\\\\Downloads\\\\Introduction-to-Python-main\\\\wiki_ronaldo.txt'",
     "output_type": "error",
     "traceback": [
      "\u001b[1;31m---------------------------------------------------------------------------\u001b[0m",
      "\u001b[1;31mFileNotFoundError\u001b[0m                         Traceback (most recent call last)",
      "\u001b[1;32m~\\AppData\\Local\\Temp/ipykernel_3428/3804525127.py\u001b[0m in \u001b[0;36m<module>\u001b[1;34m\u001b[0m\n\u001b[1;32m----> 1\u001b[1;33m \u001b[0mfile_ronaldo\u001b[0m \u001b[1;33m=\u001b[0m \u001b[0mopen\u001b[0m\u001b[1;33m(\u001b[0m\u001b[1;34m\"\\Downloads\\Introduction-to-Python-main\\wiki_ronaldo.txt\"\u001b[0m\u001b[1;33m,\u001b[0m \u001b[1;34m\"w\"\u001b[0m\u001b[1;33m,\u001b[0m \u001b[0mencoding\u001b[0m \u001b[1;33m=\u001b[0m \u001b[1;34m\"utf-8\"\u001b[0m\u001b[1;33m)\u001b[0m\u001b[1;33m\u001b[0m\u001b[1;33m\u001b[0m\u001b[0m\n\u001b[0m",
      "\u001b[1;31mFileNotFoundError\u001b[0m: [Errno 2] No such file or directory: '\\\\Downloads\\\\Introduction-to-Python-main\\\\wiki_ronaldo.txt'"
     ]
    }
   ],
   "source": [
    "file_ronaldo = open(\"\\Downloads\\Introduction-to-Python-main\\wiki_ronaldo.txt\", \"w\", encoding = \"utf-8\")"
   ]
  },
  {
   "cell_type": "code",
   "execution_count": 13,
   "id": "92199729",
   "metadata": {
    "colab": {
     "base_uri": "https://localhost:8080/"
    },
    "id": "92199729",
    "outputId": "94534e81-5f69-4a98-a955-e5091467bdb8"
   },
   "outputs": [
    {
     "ename": "NameError",
     "evalue": "name 'file_ronaldo' is not defined",
     "output_type": "error",
     "traceback": [
      "\u001b[1;31m---------------------------------------------------------------------------\u001b[0m",
      "\u001b[1;31mNameError\u001b[0m                                 Traceback (most recent call last)",
      "\u001b[1;32m~\\AppData\\Local\\Temp/ipykernel_3428/1822980334.py\u001b[0m in \u001b[0;36m<module>\u001b[1;34m\u001b[0m\n\u001b[1;32m----> 1\u001b[1;33m \u001b[0mfile_ronaldo\u001b[0m\u001b[1;33m.\u001b[0m\u001b[0mwrite\u001b[0m\u001b[1;33m(\u001b[0m\u001b[0mronaldo_string\u001b[0m\u001b[1;33m)\u001b[0m\u001b[1;33m\u001b[0m\u001b[1;33m\u001b[0m\u001b[0m\n\u001b[0m",
      "\u001b[1;31mNameError\u001b[0m: name 'file_ronaldo' is not defined"
     ]
    }
   ],
   "source": [
    "file_ronaldo.write(ronaldo_string)"
   ]
  },
  {
   "cell_type": "code",
   "execution_count": null,
   "id": "fab98caf",
   "metadata": {
    "id": "fab98caf"
   },
   "outputs": [],
   "source": [
    "file_ronaldo.close()"
   ]
  },
  {
   "cell_type": "code",
   "execution_count": null,
   "id": "ba1de123",
   "metadata": {
    "id": "ba1de123"
   },
   "outputs": [],
   "source": [
    "file_ronaldo = open(\"..\\Downloads\\Introduction-to-Python-main\\output\\wiki_ronaldo.txt\",\"r\")\n"
   ]
  },
  {
   "cell_type": "code",
   "execution_count": null,
   "id": "e5b6687f",
   "metadata": {
    "colab": {
     "base_uri": "https://localhost:8080/"
    },
    "id": "e5b6687f",
    "outputId": "3a940db5-5646-49ad-be94-a8ed8a5dbbee"
   },
   "outputs": [],
   "source": [
    "file_ronaldo.readlines()"
   ]
  },
  {
   "cell_type": "markdown",
   "id": "429419c7",
   "metadata": {
    "id": "429419c7"
   },
   "source": [
    "Open the wiki-apple.txt using the open method in reading mode and store its content in a variable named accordingly.\n",
    "\n"
   ]
  },
  {
   "cell_type": "code",
   "execution_count": 22,
   "id": "565f4e14",
   "metadata": {
    "id": "565f4e14"
   },
   "outputs": [
    {
     "ename": "FileNotFoundError",
     "evalue": "[Errno 2] No such file or directory: '..\\\\Downloads\\\\Introduction-to-Python-main\\\\output\\\\wiki_ronaldo.txt'",
     "output_type": "error",
     "traceback": [
      "\u001b[1;31m---------------------------------------------------------------------------\u001b[0m",
      "\u001b[1;31mFileNotFoundError\u001b[0m                         Traceback (most recent call last)",
      "\u001b[1;32m~\\AppData\\Local\\Temp/ipykernel_3428/2274868411.py\u001b[0m in \u001b[0;36m<module>\u001b[1;34m\u001b[0m\n\u001b[1;32m----> 1\u001b[1;33m \u001b[0mfile_ronaldo\u001b[0m \u001b[1;33m=\u001b[0m \u001b[0mopen\u001b[0m\u001b[1;33m(\u001b[0m\u001b[1;34m\"..\\Downloads\\Introduction-to-Python-main\\output\\wiki_ronaldo.txt\"\u001b[0m\u001b[1;33m,\u001b[0m\u001b[1;34m\"r\"\u001b[0m\u001b[1;33m)\u001b[0m\u001b[1;33m.\u001b[0m\u001b[0mread\u001b[0m\u001b[1;33m(\u001b[0m\u001b[1;33m)\u001b[0m\u001b[1;33m\u001b[0m\u001b[1;33m\u001b[0m\u001b[0m\n\u001b[0m",
      "\u001b[1;31mFileNotFoundError\u001b[0m: [Errno 2] No such file or directory: '..\\\\Downloads\\\\Introduction-to-Python-main\\\\output\\\\wiki_ronaldo.txt'"
     ]
    }
   ],
   "source": [
    "file_ronaldo = open(\"..\\Downloads\\Introduction-to-Python-main\\output\\wiki_ronaldo.txt\",\"r\").read()"
   ]
  },
  {
   "cell_type": "code",
   "execution_count": null,
   "id": "f0e90756",
   "metadata": {
    "id": "f0e90756"
   },
   "outputs": [],
   "source": [
    "punctnum = [\"0\", \"1\", \"2\", \"3\", \"4\", \"5\", \"6\", \"7\", \"8\", \"9\",\",\", \".\", \";\",\"'\", \"?\", \"&\", \"!\", \"-\",]"
   ]
  },
  {
   "cell_type": "code",
   "execution_count": null,
   "id": "2643e900",
   "metadata": {
    "id": "2643e900"
   },
   "outputs": [],
   "source": [
    "def clean_string(ronaldo_string): \n",
    "    letter_list = \"\"\n",
    "    for char in ronaldo_string: \n",
    "        if char not in punctnum: \n",
    "            letter_list = letter_list + char\n",
    "    letter_list = letter_list.lower().split()\n",
    "    return letter_list"
   ]
  },
  {
   "cell_type": "code",
   "execution_count": null,
   "id": "32093521",
   "metadata": {
    "colab": {
     "base_uri": "https://localhost:8080/"
    },
    "id": "32093521",
    "outputId": "a2ad57e0-4c35-434c-a261-77d6297e4f57"
   },
   "outputs": [],
   "source": [
    "print (clean_string(ronaldo_string)) "
   ]
  },
  {
   "cell_type": "code",
   "execution_count": 23,
   "id": "7a01d443",
   "metadata": {
    "id": "7a01d443"
   },
   "outputs": [],
   "source": [
    "def string_to_dictionary(ronaldo_string): \n",
    "    output_string = clean_string(ronaldo_string)\n",
    "    dict_output = {i: output_string[i] for i in range(0, len(output_string))}\n",
    "    return dict_output"
   ]
  },
  {
   "cell_type": "code",
   "execution_count": 24,
   "id": "aaIenQJcPrOo",
   "metadata": {
    "id": "aaIenQJcPrOo"
   },
   "outputs": [],
   "source": [
    "# cleaned list to dictionary#\n",
    "def list_to_dictionary1(list):\n",
    "    my_dictionary={}\n",
    "    for element in list:\n",
    "        my_dictionary[element] = list.count(element)\n",
    "    return my_dictionary"
   ]
  },
  {
   "cell_type": "code",
   "execution_count": 25,
   "id": "bfeac273",
   "metadata": {
    "colab": {
     "base_uri": "https://localhost:8080/"
    },
    "id": "bfeac273",
    "outputId": "720c3968-5d4a-4981-d4c5-031e694a5ed0",
    "scrolled": true
   },
   "outputs": [
    {
     "ename": "NameError",
     "evalue": "name 'clean_string' is not defined",
     "output_type": "error",
     "traceback": [
      "\u001b[1;31m---------------------------------------------------------------------------\u001b[0m",
      "\u001b[1;31mNameError\u001b[0m                                 Traceback (most recent call last)",
      "\u001b[1;32m~\\AppData\\Local\\Temp/ipykernel_3428/3989448271.py\u001b[0m in \u001b[0;36m<module>\u001b[1;34m\u001b[0m\n\u001b[1;32m----> 1\u001b[1;33m \u001b[0mdict_ronaldo\u001b[0m \u001b[1;33m=\u001b[0m \u001b[0mlist_to_dictionary1\u001b[0m\u001b[1;33m(\u001b[0m\u001b[0mclean_string\u001b[0m\u001b[1;33m(\u001b[0m\u001b[0mronaldo_string\u001b[0m\u001b[1;33m)\u001b[0m\u001b[1;33m)\u001b[0m\u001b[1;33m\u001b[0m\u001b[1;33m\u001b[0m\u001b[0m\n\u001b[0m\u001b[0;32m      2\u001b[0m \u001b[0mdict_ronaldo\u001b[0m\u001b[1;33m\u001b[0m\u001b[1;33m\u001b[0m\u001b[0m\n",
      "\u001b[1;31mNameError\u001b[0m: name 'clean_string' is not defined"
     ]
    }
   ],
   "source": [
    "dict_ronaldo = list_to_dictionary1(clean_string(ronaldo_string))\n",
    "dict_ronaldo"
   ]
  },
  {
   "cell_type": "code",
   "execution_count": null,
   "id": "cf3394fa",
   "metadata": {
    "id": "cf3394fa"
   },
   "outputs": [],
   "source": [
    "import matplotlib.pyplot as plt\n",
    "from wordcloud import WordCloud"
   ]
  },
  {
   "cell_type": "code",
   "execution_count": null,
   "id": "a878b356",
   "metadata": {
    "colab": {
     "base_uri": "https://localhost:8080/",
     "height": 237
    },
    "id": "a878b356",
    "outputId": "4a87f2ec-34a1-4cb8-a39a-e36b16014fb9"
   },
   "outputs": [],
   "source": [
    "wc = WordCloud(width=1800, height=900, background_color=\"lightblue\",\n",
    "               max_words = 20, relative_scaling = 0.5, \n",
    "               normalize_plurals = False).generate_from_frequencies(dict_ronaldo)\n",
    "plt.imshow(wc)"
   ]
  },
  {
   "cell_type": "code",
   "execution_count": null,
   "id": "8e7e28d2",
   "metadata": {
    "id": "8e7e28d2"
   },
   "outputs": [],
   "source": [
    "#write the dictionary as a csv file\n",
    "import csv\n",
    "\n",
    "with open('..\\Downloads\\Introduction-to-Python-main\\output\\wiki_ronaldo.csv', 'w') as csv_file:\n",
    "    writer_line = csv.writer(csv_file, delimiter=',')\n",
    "    writer_line.writerow(['word','frequency'])\n",
    "    for key, value in dict_ronaldo.items():\n",
    "       writer_line.writerow([key, value])"
   ]
  },
  {
   "cell_type": "code",
   "execution_count": 28,
   "id": "363fb54b",
   "metadata": {
    "colab": {
     "base_uri": "https://localhost:8080/"
    },
    "id": "363fb54b",
    "outputId": "425ce1cb-0f8f-4d0e-819d-1642c7e84f45"
   },
   "outputs": [
    {
     "data": {
      "text/plain": [
       "['.cisco',\n",
       " '.conda',\n",
       " '.condarc',\n",
       " '.continuum',\n",
       " '.ipynb_checkpoints',\n",
       " '.ipython',\n",
       " '.jupyter',\n",
       " '.matplotlib',\n",
       " '.MCTranscodingSDK',\n",
       " '3D Objects',\n",
       " 'A1_victoria_mosby.ipynb',\n",
       " 'A1_victoria_mosby_.ipynb',\n",
       " 'A2_victoria_mosby.ipynb',\n",
       " 'A2_victoria_practice.ipynb',\n",
       " 'A3_victoria_mosby-Copy1.ipynb',\n",
       " 'A3_victoria_mosby.ipynb',\n",
       " 'anaconda3',\n",
       " 'anaconda3.0',\n",
       " 'anaconda3.1',\n",
       " 'AppData',\n",
       " 'Challenge2_victoria_mosby.ipynb',\n",
       " 'Class 1.ipynb',\n",
       " 'Class 4.ipynb',\n",
       " 'class2.ipynb',\n",
       " 'class3_dictionary_if_else.ipynb',\n",
       " 'Conditionals.ipynb',\n",
       " 'Configuración local',\n",
       " 'Contacts',\n",
       " 'Cookies',\n",
       " 'Creative Cloud Files',\n",
       " 'Datos de programa',\n",
       " 'Documents',\n",
       " 'Downloads',\n",
       " 'Entorno de red',\n",
       " 'Favorites',\n",
       " 'Final_Class.ipynb',\n",
       " 'Impresoras',\n",
       " 'IntelGraphicsProfiles',\n",
       " 'Links',\n",
       " 'Menú Inicio',\n",
       " 'Mis documentos',\n",
       " 'Music',\n",
       " 'NTUSER.DAT',\n",
       " 'ntuser.dat.LOG1',\n",
       " 'ntuser.dat.LOG2',\n",
       " 'NTUSER.DAT{fe834e13-7f64-11ec-a172-82c75db66883}.TM.blf',\n",
       " 'NTUSER.DAT{fe834e13-7f64-11ec-a172-82c75db66883}.TMContainer00000000000000000001.regtrans-ms',\n",
       " 'NTUSER.DAT{fe834e13-7f64-11ec-a172-82c75db66883}.TMContainer00000000000000000002.regtrans-ms',\n",
       " 'ntuser.ini',\n",
       " 'OneDrive',\n",
       " 'OpenVPN',\n",
       " 'Plantillas',\n",
       " 'practice 7322.ipynb',\n",
       " 'Python Practice - Udemy .ipynb',\n",
       " 'Reciente',\n",
       " 'Saved Games',\n",
       " 'Searches',\n",
       " 'SendTo',\n",
       " 'Simple+linear+regression (1).ipynb',\n",
       " 'test.txt',\n",
       " 'Untitled Folder',\n",
       " 'Untitled Folder 1',\n",
       " 'Untitled.ipynb',\n",
       " 'Untitled1.ipynb',\n",
       " 'Untitled2.ipynb',\n",
       " 'Videos',\n",
       " 'wiki-ronaldo.txt',\n",
       " 'wiki_ronaldo.txt']"
      ]
     },
     "execution_count": 28,
     "metadata": {},
     "output_type": "execute_result"
    }
   ],
   "source": [
    "import os\n",
    "os.listdir(\"..\")"
   ]
  },
  {
   "cell_type": "code",
   "execution_count": 29,
   "id": "c7a3eba9",
   "metadata": {},
   "outputs": [
    {
     "data": {
      "text/plain": [
       "['.cisco',\n",
       " '.conda',\n",
       " '.condarc',\n",
       " '.continuum',\n",
       " '.ipynb_checkpoints',\n",
       " '.ipython',\n",
       " '.jupyter',\n",
       " '.matplotlib',\n",
       " '.MCTranscodingSDK',\n",
       " '3D Objects',\n",
       " 'A1_victoria_mosby.ipynb',\n",
       " 'A1_victoria_mosby_.ipynb',\n",
       " 'A2_victoria_mosby.ipynb',\n",
       " 'A2_victoria_practice.ipynb',\n",
       " 'A3_victoria_mosby-Copy1.ipynb',\n",
       " 'A3_victoria_mosby.ipynb',\n",
       " 'anaconda3',\n",
       " 'anaconda3.0',\n",
       " 'anaconda3.1',\n",
       " 'AppData',\n",
       " 'Challenge2_victoria_mosby.ipynb',\n",
       " 'Class 1.ipynb',\n",
       " 'Class 4.ipynb',\n",
       " 'class2.ipynb',\n",
       " 'class3_dictionary_if_else.ipynb',\n",
       " 'Conditionals.ipynb',\n",
       " 'Configuración local',\n",
       " 'Contacts',\n",
       " 'Cookies',\n",
       " 'Creative Cloud Files',\n",
       " 'Datos de programa',\n",
       " 'Documents',\n",
       " 'Downloads',\n",
       " 'Entorno de red',\n",
       " 'Favorites',\n",
       " 'Final_Class.ipynb',\n",
       " 'Impresoras',\n",
       " 'IntelGraphicsProfiles',\n",
       " 'Links',\n",
       " 'Menú Inicio',\n",
       " 'Mis documentos',\n",
       " 'Music',\n",
       " 'NTUSER.DAT',\n",
       " 'ntuser.dat.LOG1',\n",
       " 'ntuser.dat.LOG2',\n",
       " 'NTUSER.DAT{fe834e13-7f64-11ec-a172-82c75db66883}.TM.blf',\n",
       " 'NTUSER.DAT{fe834e13-7f64-11ec-a172-82c75db66883}.TMContainer00000000000000000001.regtrans-ms',\n",
       " 'NTUSER.DAT{fe834e13-7f64-11ec-a172-82c75db66883}.TMContainer00000000000000000002.regtrans-ms',\n",
       " 'ntuser.ini',\n",
       " 'OneDrive',\n",
       " 'OpenVPN',\n",
       " 'Plantillas',\n",
       " 'practice 7322.ipynb',\n",
       " 'Python Practice - Udemy .ipynb',\n",
       " 'Reciente',\n",
       " 'Saved Games',\n",
       " 'Searches',\n",
       " 'SendTo',\n",
       " 'Simple+linear+regression (1).ipynb',\n",
       " 'test.txt',\n",
       " 'Untitled Folder',\n",
       " 'Untitled Folder 1',\n",
       " 'Untitled.ipynb',\n",
       " 'Untitled1.ipynb',\n",
       " 'Untitled2.ipynb',\n",
       " 'Videos',\n",
       " 'wiki-ronaldo.txt',\n",
       " 'wiki_ronaldo.txt']"
      ]
     },
     "execution_count": 29,
     "metadata": {},
     "output_type": "execute_result"
    }
   ],
   "source": [
    "import os\n",
    "os.listdir(\"..\")"
   ]
  },
  {
   "cell_type": "code",
   "execution_count": 30,
   "id": "c039b23d",
   "metadata": {
    "scrolled": false
   },
   "outputs": [
    {
     "data": {
      "text/plain": [
       "['.ipynb_checkpoints',\n",
       " '.Rhistory',\n",
       " '01-22 Home Depot Receipt.pdf',\n",
       " '02_Intellectual_Stock_Photos.zip',\n",
       " '03a2a37b-27e4-4633-8445-cd4a1508aee1.xls',\n",
       " '04b98x25ap3q (1).pdf',\n",
       " '04b98x25ap3q (2) (1).pdf',\n",
       " '04b98x25ap3q (2).docx',\n",
       " '04b98x25ap3q (2).pdf',\n",
       " '04b98x25ap3q.pdf',\n",
       " '0a1576f2-ff50-45cf-a786-42de638ff20a.xls',\n",
       " '0ol.001.A.00493832105336.pdf',\n",
       " '0ol.001.A.00493832105336B1.pdf',\n",
       " '1 Competitive Markets (1).pdf',\n",
       " '1 Competitive Markets (2).pdf',\n",
       " '1 Competitive Markets.pdf',\n",
       " '1. Stunde_Hausaufgbe.pdf',\n",
       " '1. Stunde_Prasentation.pdf',\n",
       " '1.01.+Simple+linear+regression (1).csv',\n",
       " '1.01.+Simple+linear+regression.csv',\n",
       " '1.01.\\xad\\xad_Simple\\xad_linear_regression.csv',\n",
       " '1.02.+Multiple+linear+regression.csv',\n",
       " '1.6_onde_está_a_fada-[44391].pdf',\n",
       " '10.1007_s10683-021-09715-w-citation.ris',\n",
       " '1001_High_Intermediate_Spanish_Words__Sentences.apkg',\n",
       " '10390128_10205350354772821_7987264756058529906_n.jpg',\n",
       " '11. Stunde.pdf',\n",
       " '12-31-2020 Bank Statement.pdf',\n",
       " '12. Stunde.pdf',\n",
       " '123448 - Victoria Mosby - Ember Fund Security.pdf',\n",
       " '125694 - Victoria Mosby - Growing Talent Security.pdf',\n",
       " '134099 - Victoria Mosby - 70 Million Jobs Security.pdf',\n",
       " '15..pdf',\n",
       " '15YearsOfResearchOnGraduateEducati_preview.pdf',\n",
       " '1AF7291011.pdf',\n",
       " '2. Stunde.pdf',\n",
       " '20201023_134608 (1).jpg',\n",
       " '20201023_134608.jpg',\n",
       " '20201023_134831.jpg',\n",
       " '20201023_135711.jpg',\n",
       " '20201023_135723 (1).jpg',\n",
       " '20201023_135723.jpg',\n",
       " '20201105_113545.jpg',\n",
       " '20201106_152327.jpg',\n",
       " '20201120_112812.jpg',\n",
       " '20201120_112819.jpg',\n",
       " '20201202_204215.jpg',\n",
       " '20201203_135751.jpg',\n",
       " '20201205_144433.jpg',\n",
       " '20201221_225714.jpg',\n",
       " '2021.02 EPPA Intern Ad.pdf',\n",
       " '20210909_101602.mp4',\n",
       " '20211022_103400.jpg',\n",
       " '2022 Global Topic 5.ppt',\n",
       " '20220113_092626.jpg',\n",
       " '20220117_CEU_Lidl_programme_PDF.pdf',\n",
       " '210208 DoBetter SMZ_RevOFSM.docx',\n",
       " '210208 La Caixa 2021_SM.docx',\n",
       " '2102999_01_01_01 (1).pdf',\n",
       " '2102999_01_01_01 (2).pdf',\n",
       " '2102999_01_01_01 (3).pdf',\n",
       " '2102999_01_01_01.pdf',\n",
       " '2102999_matriculation_form (1).pdf',\n",
       " '2102999_matriculation_form.pdf',\n",
       " '2122FedSchoolCodeList (1).xlsx',\n",
       " '2122FedSchoolCodeList (2).xlsx',\n",
       " '2122FedSchoolCodeList.xlsx',\n",
       " '2223FedSchoolCodeList.xlsx',\n",
       " '245353355_339701894619985_6742492170503282296_n.jpg',\n",
       " '25 Scholarships to Apply to by the End of May.pdf',\n",
       " '3-Mindfulness-Exercises.zip',\n",
       " '3-Year_Cash_Flow_Projections_1.xls',\n",
       " '365-Data-Science-Data-Science-Interview-Questions-Guide.pdf',\n",
       " '4. A Brief History Of English.pdf',\n",
       " '4. Stunde.pdf',\n",
       " '4.8.+Test+for+the+mean.+Independent+samples+(Part+1)_lesson.xlsx',\n",
       " '4.9.Test-for-the-mean.Independent-samples-Part-2-exercise-2.xlsx',\n",
       " '4_Questions_Assignment (1).omcsettings',\n",
       " '4_Questions_Assignment.omcsettings',\n",
       " '5. Stunde.pdf',\n",
       " '5. Stunde_Hausaufgabe (1).pdf',\n",
       " '5. Stunde_Hausaufgabe.pdf',\n",
       " '6. Stunde.pdf',\n",
       " '6f30ed3a-bf63-407d-bb60-7a59d690eae1.xls',\n",
       " '7th September -20210908.zip',\n",
       " '800-membership-application (Victoria M) (1).pdf',\n",
       " '800-membership-application (Victoria M).pdf',\n",
       " '8704visionarycommunication.docx',\n",
       " '9789897523717_download_portugues_atual_2-lidel_vol_1.zip',\n",
       " 'a01b110e-3cad-4cf9-a764-d678eb5d353e.xls',\n",
       " 'A1_Tasnim_Mamun (1).ipynb',\n",
       " 'A1_Tasnim_Mamun.ipynb',\n",
       " 'A1_victoria_mosby_.ipynb',\n",
       " 'A2_victoria_assign.ipynb',\n",
       " 'A2_victoria_mosby (1).ipynb',\n",
       " 'A2_victoria_mosby.ipynb',\n",
       " 'A2_Wortliste_Goethe_vocab_sentenses_audio_translation.apkg',\n",
       " 'A2_XXXX.ipynb',\n",
       " 'a3adb562-f794-4c71-9773-6442ddc27258.xls',\n",
       " 'A3_victoria_mosby (1).ipynb',\n",
       " 'A3_victoria_mosby.ipynb',\n",
       " 'A3_victoria_mosby_(1).ipynb',\n",
       " 'a5223807-74e5-4331-944a-9b48c20b46f9 (1).pdf',\n",
       " 'a5223807-74e5-4331-944a-9b48c20b46f9.pdf',\n",
       " 'aaa88ac7-418a-4476-9a7e-fa0da0b5e01c.xls',\n",
       " 'aab35176-ee4d-424f-8225-5a518d7a9792.xls',\n",
       " 'abecedary.zip',\n",
       " 'absolutvision-uCMKx2H1Y38-unsplash.jpg',\n",
       " 'Academic_Records.pdf',\n",
       " 'Account bank details-Português Et Cetera.pdf',\n",
       " 'Acrobat_DC_Set-Up (1).exe',\n",
       " 'Acrobat_DC_Set-Up.exe',\n",
       " 'ad90726c-48d6-432b-99b5-f0f06f771b1f.xls',\n",
       " 'Add a heading.zip',\n",
       " 'Add+Comments+-+Lecture_Py3.ipynb',\n",
       " 'admin-ajax (1).php',\n",
       " 'admin-ajax.php',\n",
       " 'AEJFigs (1).csv',\n",
       " 'AEJfigs (1).dta',\n",
       " 'AEJfigs (2).dta',\n",
       " 'AEJfigs (3).dta',\n",
       " 'AEJfigs (4).dta',\n",
       " 'AEJfigs (5) (1).dta',\n",
       " 'AEJfigs (5).dta',\n",
       " 'AEJFigs.csv',\n",
       " 'AEJfigs.dta',\n",
       " 'AlbumArtSmall.jpg',\n",
       " 'allhyper.data',\n",
       " 'Anaconda3-2021.11-Windows-x86_64 (1).exe',\n",
       " 'Anaconda3-2021.11-Windows-x86_64.exe',\n",
       " 'Analysis PDF.pdf',\n",
       " 'anki-2.1.35-windows.exe',\n",
       " 'anki-2.1.48-windows (1).exe',\n",
       " 'anki-2.1.48-windows.exe',\n",
       " 'ann-Readme',\n",
       " 'AnsMTEXAM1_2011.docx',\n",
       " 'anyconnect-win-4.9.06037-core-vpn-predeploy-k9.msi',\n",
       " 'Arithmetic+Operators+-+Lecture_Py3.ipynb',\n",
       " 'asdasdf.png',\n",
       " 'Assessment_test_2021 (1).pdf',\n",
       " 'Assessment_test_2021 (2).pdf',\n",
       " 'Assessment_test_2021.pdf',\n",
       " 'Assessment_test_2021_sol (1).pdf',\n",
       " 'Assignment 02_Q9.docx',\n",
       " 'Assignment 04 on MEP.pdf',\n",
       " 'Assignment 1.ipynb',\n",
       " 'Assignment 2 IE - Victoria Mosby 2102999 (1).pdf',\n",
       " 'Assignment 2 IE - Victoria Mosby 2102999.pdf',\n",
       " 'Assignment 2 Notebook.ipynb',\n",
       " 'Assignment 2_Q3 (1).R',\n",
       " 'Assignment 2_Q3.R',\n",
       " 'Assignment on MEP.pdf',\n",
       " 'Assignment01_Tasnim_Murad (1).R',\n",
       " 'Assignment01_Tasnim_Murad (2).R',\n",
       " 'Assignment01_Tasnim_Murad.R',\n",
       " 'Assignment3_Tasnim_Mamun (1) (1).ipynb',\n",
       " 'Assignment3_Tasnim_Mamun (1).ipynb',\n",
       " 'Assignmnet 01.docx',\n",
       " 'attachments.zip',\n",
       " 'Azorean_Jewish_Diaspora.pdf',\n",
       " 'B1_Wortliste_DTZ_Goethe_vocabsentensesaudiotranslation.apkg',\n",
       " 'b2d055c0-9989-4d14-a24a-06e0792cbe99.xls',\n",
       " 'banks.csv',\n",
       " 'BBp314.pdf',\n",
       " 'BBp315 (1).pdf',\n",
       " 'BBp315.pdf',\n",
       " 'BBp317 (1).pdf',\n",
       " 'BBp317.pdf',\n",
       " 'BBp360.pdf',\n",
       " 'bd45233f-e253-49c2-8691-a026faa90726.pdf',\n",
       " 'BENÜTZUNGSV HMSW 3.0 LB MÖBLIERT_NEU-20-12-2021-13-04-48.PDF',\n",
       " 'BENÜTZUNGSV HMSW 3.0 LB MÖBLIERT_NEU-22-12-2021-16-45-06.PDF',\n",
       " 'between (1).pdf',\n",
       " 'between.pdf',\n",
       " 'BitPanda Cover Letter - Victoria Mosby.docx',\n",
       " 'BitPanda Cover Letter.docx',\n",
       " 'bitpanda.docx',\n",
       " 'Blume-Mathematics-for-Economists.pdf',\n",
       " 'BOOST PITCH MEMO TEMPLATE (1).docx',\n",
       " 'BOOST PITCH MEMO TEMPLATE (2).docx',\n",
       " 'BOOST PITCH MEMO TEMPLATE (3).docx',\n",
       " 'BOOST PITCH MEMO TEMPLATE (4).docx',\n",
       " 'BOOST PITCH MEMO TEMPLATE update.docx',\n",
       " 'BOOST PITCH MEMO TEMPLATE.docx',\n",
       " 'BOOST TEAM TEMPLATE (1).potx',\n",
       " 'BOOST TEAM TEMPLATE (2).potx',\n",
       " 'BOOST TEAM TEMPLATE (3).potx',\n",
       " 'BOOST TEAM TEMPLATE.potx',\n",
       " 'Brainnest (1).pdf',\n",
       " 'Brainnest.docx',\n",
       " 'Brainnest.pdf',\n",
       " \"Busuu+Live+Lesson+11+(I'm+looking+for+a+job)+_+ES+B1+_+Student.pdf\",\n",
       " 'Busuu+Live+lesson+2+(Marta+is+very+affectionate)+_+ES+B1+_+Student+.pdf',\n",
       " 'C4A9B6BB-3523-4491-B74A-E821E9C95FF9.pdf',\n",
       " 'CamScanner 10-05-2021 16.03.pdf',\n",
       " 'CamScanner 10-06-2021 18.58.pdf',\n",
       " 'CamScanner 10-08-2021 12.38 (1).pdf',\n",
       " 'CamScanner 10-08-2021 12.38 (2).pdf',\n",
       " 'CamScanner 10-08-2021 12.38 (3).pdf',\n",
       " 'CamScanner 10-08-2021 12.38 (4).pdf',\n",
       " 'CamScanner 10-08-2021 12.38 (5).pdf',\n",
       " 'CamScanner 10-08-2021 12.38 (6).pdf',\n",
       " 'CamScanner 10-08-2021 12.38.pdf',\n",
       " 'CamScanner 10-14-2021 20.02.pdf',\n",
       " 'CamScanner 10-14-2021 21.23.pdf',\n",
       " 'CamScanner 10-21-2021 21.45.pdf',\n",
       " 'CamScanner 10-21-2021 23.56.pdf',\n",
       " 'CamScanner 10-22-2021 09.53.pdf',\n",
       " 'CamScanner 10-24-2021 21.33.pdf',\n",
       " 'CamScanner 10-30-2021 01.42.pdf',\n",
       " 'CamScanner 10-30-2021 10.53.pdf',\n",
       " 'CamScanner 10-31-2021 16.55.pdf',\n",
       " 'CamScanner 11-17-2021 08.59.pdf',\n",
       " 'CamScanner 11-18-2021 12.25 (1).pdf',\n",
       " 'CamScanner 11-18-2021 12.25.pdf',\n",
       " 'CamScanner 11-19-2021 10.05.pdf',\n",
       " 'CamScanner 11-19-2021 15.37.pdf',\n",
       " 'CamScanner 11-23-2021 01.26.pdf',\n",
       " 'CamScanner 11-23-2021 08.35 (1) (1).pdf',\n",
       " 'CamScanner 11-23-2021 08.35 (1).pdf',\n",
       " 'CamScanner 11-23-2021 08.35.pdf',\n",
       " 'CamScanner 12-01-2021 15.51.pdf',\n",
       " 'CamScanner 12-02-2021 22.20 (1).pdf',\n",
       " 'CamScanner 12-02-2021 22.20 (1).zip',\n",
       " 'CamScanner 12-02-2021 22.20.pdf',\n",
       " 'CamScanner 12-09-2021 10.36.pdf',\n",
       " 'CamScanner 12-10-2021 14.59.pdf',\n",
       " 'CamScanner 12-15-2021 09.58.pdf',\n",
       " 'CamScanner 12-17-2021 12.07.pdf',\n",
       " 'cardkrueger1994 (1).dta',\n",
       " 'cardkrueger1994.dta',\n",
       " 'CardKrueger_AER_1994_MinWageNJ.pdf',\n",
       " 'Career Tests.docx',\n",
       " 'caschool (1).csv',\n",
       " 'CASchools.csv',\n",
       " 'Category13_Program_Notes.pdf',\n",
       " 'cawfl2021-22winter-v5.xlsx',\n",
       " 'celine_peach_sans.zip',\n",
       " 'CEU EBS Agenda.docx',\n",
       " 'ceu-bardadvcertapplication2-23-18 (1).docx',\n",
       " 'ceucareerhandoutcoverletter.pdf',\n",
       " 'Challenge from 26_1_22.png',\n",
       " 'Challenge03.ipynb',\n",
       " 'challenge1922022.PNG',\n",
       " 'Challenge2_Tasnim_Mamun (1).ipynb',\n",
       " 'Challenge2_Tasnim_Mamun.ipynb',\n",
       " 'Challenge2_victoria_mosby.ipynb',\n",
       " 'challenge_3_victoria_mosby.ipynb',\n",
       " 'Checks to be Posted.pdf',\n",
       " 'ChromeSetup.exe',\n",
       " 'Cisco_WebEx_Add-On.exe',\n",
       " 'Citi # 1981-December 31.pdf',\n",
       " 'Citi #1981- April 2021.pdf',\n",
       " 'Citi #1981-March 2021.pdf',\n",
       " 'Citi#1981- July 2021.pdf',\n",
       " 'Citi#1981- May 2021. pdf.pdf',\n",
       " 'Citi#1981-August 2021.pdf',\n",
       " 'Citi#1981-June 2021.pdf',\n",
       " 'Citi#1981-October 2021.pdf',\n",
       " 'Citi#1981-September 2021.pdf',\n",
       " 'Citi#1984-November 2021.pdf',\n",
       " 'CityofFallenAngelsTheMortalInstrument9781442403567.acsm',\n",
       " 'clean data for Vika.dta',\n",
       " 'Cleaning Reminder (1).pdf',\n",
       " 'Cleaning Reminder.pdf',\n",
       " 'CoE Application Sergio.pdf',\n",
       " 'CoE.pdf',\n",
       " 'CoE2.pdf',\n",
       " 'comment  voyages tu.ppt',\n",
       " 'computer black and white.pdf',\n",
       " 'Conditional__Future_Lat_Am_Spanish_Sentences_TTS_accurate.apkg',\n",
       " 'constant number (1).pdf',\n",
       " 'constant number.pdf',\n",
       " 'Consumer choice 1e(I) to the end.pdf',\n",
       " 'Copy of derivatives review.pdf',\n",
       " 'Copy of inflection points.pdf',\n",
       " 'Copy of integrals and definite integrals.pdf',\n",
       " 'Copy of partial derivatives (1).pdf',\n",
       " 'Copy of partial derivatives.pdf',\n",
       " 'Copy of Q1-8 from the review.pdf',\n",
       " 'Copy of review extremum points.pdf',\n",
       " 'Copy of Untitled Jam.pdf',\n",
       " 'Course+notes_regression_analysis (1).pdf',\n",
       " 'Course+notes_regression_analysis.pdf',\n",
       " 'Cover-letter_Nguyen-Khanh.pdf',\n",
       " 'cps-data-clean.R',\n",
       " 'CPS1985.xls',\n",
       " 'cpub-VirtualLab-VirtualLab-CmsTempVm (1).rdp',\n",
       " 'cpub-VirtualLab-VirtualLab-CmsTempVm (2).rdp',\n",
       " 'cpub-VirtualLab-VirtualLab-CmsTempVm (3).rdp',\n",
       " 'cpub-VirtualLab-VirtualLab-CmsTempVm (4).rdp',\n",
       " 'cpub-VirtualLab-VirtualLab-CmsTempVm (5).rdp',\n",
       " 'cpub-VirtualLab-VirtualLab-CmsTempVm (6).rdp',\n",
       " 'cpub-VirtualLab-VirtualLab-CmsTempVm (7).rdp',\n",
       " 'cpub-VirtualLab-VirtualLab-CmsTempVm.rdp',\n",
       " 'CrackingtheAPCalculusABExam2017Premiu9781101920107.acsm',\n",
       " 'CrackingtheAPCalculusBCExam2020Editio9780525568544.acsm',\n",
       " 'CrackingtheSATSubjec_9781524710989_3461967.acsm',\n",
       " 'CTDC map 2020 bis (2).png',\n",
       " 'Customer-Service-Representative-Cover-Letter-Example-Free-Download.zip',\n",
       " 'CV Sergio Marin 05.20.pdf',\n",
       " 'cvvitoria.pdf',\n",
       " 'DA4 Assignment1 (1).pptx',\n",
       " 'DA4 Assignment1.pptx',\n",
       " 'DA4 Assignment1_2021.pptx',\n",
       " 'DA4 Assignment2_2021.pptx',\n",
       " 'DA4 term_project_2021.pptx',\n",
       " 'da4_2022_0_course.pdf',\n",
       " 'da4_2022_1_framework.pdf',\n",
       " 'da4_2022_3_matching.pdf',\n",
       " 'DATA 2 HW3 SMJ (1).pdf',\n",
       " 'Data 4 A1 (1).docx',\n",
       " 'Data 4 A1.2.docx',\n",
       " 'Data 4 A1.2.pdf',\n",
       " 'Data 4 A1.docx',\n",
       " 'Data HW 2 Madrid.do',\n",
       " 'Data HW 2 Regression Analysis Madrid.dta',\n",
       " 'Data sets-20210929.zip',\n",
       " 'Data Stata 1.pdf',\n",
       " 'Data Stata HW 2 Madrid Analysis .pdf',\n",
       " 'Data Stata.docx',\n",
       " 'Data-Analysis-2_Assignment-3_Nguyen-Khanh.pdf',\n",
       " 'DATA2 - Assignment 1 (1).pdf',\n",
       " 'DATA2 - Assignment 1 (2).pdf',\n",
       " 'DATA2 - Assignment 1 (3).pdf',\n",
       " 'DATA2 - Assignment 1 (4).pdf',\n",
       " 'DATA2 - Assignment 1.pdf',\n",
       " 'DATA2 - Assignment 2 (1).pdf',\n",
       " 'DATA2 - Assignment 2 (2).pdf',\n",
       " 'DATA2 - Assignment 2 (3).pdf',\n",
       " 'DATA2 - Assignment 2 - Additional Hint on Q8.pdf',\n",
       " 'DATA2 - Assignment 2.pdf',\n",
       " 'DATA2 - Assignment 3 (1).pdf',\n",
       " 'DATA2 - Assignment 3 (2).pdf',\n",
       " 'DATA2 - Assignment 3.pdf',\n",
       " 'DATA2 - Confirmation Document for Final Exam.docx',\n",
       " 'DATA2 - Confirmation Document for Final Exam.pdf',\n",
       " 'DATA2 - Final Exam - CEU - 2021 Fall.pdf',\n",
       " 'DATA2 - Mini Case Study Description - Molnar (1).pdf',\n",
       " 'DATA2 - Mini Case Study Description - Molnar.pdf',\n",
       " 'Datadat - CV.pdf',\n",
       " 'Datadat - Resume (1).pdf',\n",
       " 'Datadat - Resume.pdf',\n",
       " 'Datadat CL (1).pdf',\n",
       " 'Datadat CL.pdf',\n",
       " 'Datadat Cover Letter.pdf',\n",
       " 'Data_4_A1 (1).pdf',\n",
       " 'Data_4_A1 (2).pdf',\n",
       " 'Data_4_A1 (3) (1).pdf',\n",
       " 'Data_4_A1 (3).pdf',\n",
       " 'Data_4_A1 (4).pdf',\n",
       " 'Data_4_A1.pdf',\n",
       " 'datenschutzKV.pdf',\n",
       " 'DayalMurugesan_Experiments_Chapter_DemystCausalInference',\n",
       " 'DayalMurugesan_Experiments_Chapter_DemystCausalInference.pdf',\n",
       " 'da_case_studies-0.8.1 (1).zip',\n",
       " 'da_case_studies-0.8.1.zip',\n",
       " 'da_case_studies-master.zip',\n",
       " 'DeepLSetup (1).exe',\n",
       " 'DeepLSetup.exe',\n",
       " 'DemystCausInf_Experiments_DayMur.pdf',\n",
       " 'DemystifyCausalInference_IEG_WP393.pdf',\n",
       " 'Descriptive part (1).docx',\n",
       " 'Descriptive part (2).docx',\n",
       " 'Descriptive part.docx',\n",
       " 'Desktop - Shortcut.lnk',\n",
       " 'desktop.ini',\n",
       " 'deuxieme_rang.zip',\n",
       " 'dialectical-behavior-therapy.ppt',\n",
       " 'DiamondSekhon_REStat_2013.pdf',\n",
       " 'Difference-in-differences_Note (1).pdf',\n",
       " 'Difference-in-differences_Note.pdf',\n",
       " 'Digital-Project-Planner-Template.zip',\n",
       " 'DIME vacancy for faculty.pdf',\n",
       " 'dlscrib.com-pdf-scattered-minds-gabor-matepdf-dl_58bf0f89af2ad3d4b6743fa9992361c2.pdf',\n",
       " 'dlscrib.com-pdf-solution-manual-for-microeconomics-5th-edition-by-david-besanko-dl_7ffaa6f4905d2a65b107205c0630c27a.pdf',\n",
       " 'Do File.do',\n",
       " 'download.png',\n",
       " 'Duflo_AER_2001.pdf',\n",
       " 'easy-Speak __ View agenda - 27th January 21.pdf',\n",
       " 'ecbs-5241-coding-economists (1).docx',\n",
       " 'ecbs-5241-coding-economists.docx',\n",
       " 'ecolier.zip',\n",
       " 'economics problem.docx',\n",
       " 'economics problem.pdf',\n",
       " 'ElectionRunnerImport.csv',\n",
       " 'ElectionRunnerImportTemplate.csv',\n",
       " 'EMSATRA202101 Application form.docx',\n",
       " 'EMSATRA202101 Spring call.pdf',\n",
       " 'Essential Mathematics for Economic Analysis by Knut Sydsæter, Peter Hammond, Arne Strøm (z-lib.org).pdf',\n",
       " 'Europisches_Portugiesisch_lernen_Stapel_A21.apkg',\n",
       " 'Europisches_Portugiesisch_lernen_Stapel_A22.apkg',\n",
       " 'Europisches_Portugiesisch_lernen_Stapel_B11.apkg',\n",
       " 'Extra3.pdf',\n",
       " 'Ex_Files_Social_Media_Marketing_foundations.zip',\n",
       " 'Fatima IRA- July 2021.pdf',\n",
       " 'FElogo.png',\n",
       " 'ffb1041c-e020-48cb-abbb-3d825d7292b3.xls',\n",
       " 'Files (1).zip',\n",
       " 'Files (2).zip',\n",
       " 'Files (3).zip',\n",
       " 'Files (4).zip',\n",
       " 'Files (5).zip',\n",
       " 'Files (6).zip',\n",
       " 'Files (7).zip',\n",
       " 'Files (8).zip',\n",
       " 'Files (9).zip',\n",
       " 'Files.zip',\n",
       " 'Final-class.ipynb',\n",
       " 'FlyTAP booking.pdf',\n",
       " 'Folder.jpg',\n",
       " 'For Bev 2.pdf',\n",
       " 'For Bev.pdf',\n",
       " 'fouuuLXuQ4uLrri17hOLwQ_4687b7f86f0c4c6d813e0225d17ec03a_Course-1-Week-4-Glossary-_-DA-terms-and-definitions.docx',\n",
       " 'Frontier Economics - Edited 1.docx',\n",
       " 'FS FORM FILLABLE.pdf',\n",
       " 'Full CV.pdf',\n",
       " 'g9fd20800-c0od-w1024_h768_q100.jpg',\n",
       " 'GA1.pdf',\n",
       " 'General_Information.pdf',\n",
       " 'German, Economics, Data (1).png',\n",
       " 'GermanForDummies9781118018484.acsm',\n",
       " 'GertlerEtAl_ImpEvalPractice_2016 (2).pdf',\n",
       " 'GertlerEtAl_ImpEvalPractice_2016.pdf',\n",
       " 'Git-2.35.1.2-64-bit.exe',\n",
       " 'Global Proposal  Document (1).pdf',\n",
       " 'Global Proposal  Document.pdf',\n",
       " 'GMT20211126-123235_Recording.m4a',\n",
       " 'GMT20211126-123235_Recording.txt',\n",
       " 'grant-porter-Mx71xeQOev8-unsplash.jpg',\n",
       " 'group hw2 - q123.xlsx',\n",
       " 'group.R',\n",
       " 'group_project_IER.R',\n",
       " 'Handbook-for-Preparing-for-Grad-School-in-Economics.pdf',\n",
       " 'HCL_32_R1_Manual (1).pdf',\n",
       " 'HCL_32_R1_Manual.pdf',\n",
       " 'HEIMORDNUNG_LB NEU DE (1).PDF',\n",
       " 'HEIMORDNUNG_LB NEU DE.PDF',\n",
       " 'Homework 01_1800649.pdf',\n",
       " 'Homework 1.pdf',\n",
       " 'Homework 2.pdf',\n",
       " 'Homework 3.pdf',\n",
       " 'Homework 4 Complete.pdf',\n",
       " 'Homework for Bev.docx',\n",
       " 'homework.xlsx',\n",
       " 'homework_group.xlsx',\n",
       " 'HPXWorksheet_December2020 (1).pdf',\n",
       " 'HPXWorksheet_December2020.pdf',\n",
       " 'HULT PS GUIDELINES - Copy - Copy.docx',\n",
       " 'HW_2021 (1).pdf',\n",
       " 'HW_2021 (2).pdf',\n",
       " 'HW_2021 (3).pdf',\n",
       " 'HW_2021.pdf',\n",
       " 'IE Assignment 1 Word.docx',\n",
       " 'IE Group Project (1).R',\n",
       " 'IE Group Project.R',\n",
       " 'IE_Assignment1 (1).pdf',\n",
       " 'IE_Assignment1 (2).pdf',\n",
       " 'IE_Assignment1 (3).pdf',\n",
       " 'IE_Assignment1.pdf',\n",
       " 'IE_Assignment2 (1).pdf',\n",
       " 'IE_Assignment2 (1).R',\n",
       " 'IE_Assignment2 (2).pdf',\n",
       " 'IE_Assignment2 (3) (1).pdf',\n",
       " 'IE_Assignment2 (3) (2).pdf',\n",
       " 'IE_Assignment2 (3).pdf',\n",
       " 'IE_Assignment2 (4).pdf',\n",
       " 'IE_Assignment2 (5).pdf',\n",
       " 'IE_Assignment2.pdf',\n",
       " 'IE_Assignment2.R',\n",
       " 'IE_Assignment2_AmaraScheitlin.pdf',\n",
       " 'IE_S1_RIntro (1).R',\n",
       " 'IE_S1_RIntro (2).R',\n",
       " 'IE_S1_RIntro.R',\n",
       " 'IE_S1_RIntro_continue (1).R',\n",
       " 'IE_S1_RIntro_continue.R',\n",
       " 'IE_S2_1_OVB_Viz.R',\n",
       " 'IE_S2_2_OVB_Simulation.Rmd',\n",
       " 'IE_S2_OVB_Viz.R',\n",
       " 'IE_S3_Simulation_CausalInference (1).R',\n",
       " 'IE_S3_Simulation_CausalInference.R',\n",
       " 'IE_S5_exercise.r',\n",
       " 'IE_S9_DiDII (1).R',\n",
       " 'IE_S9_DiDII.R',\n",
       " 'IE_W22_Session8_DiD (1).R',\n",
       " 'IE_W22_Session8_DiD (2).R',\n",
       " 'IE_W22_Session8_DiD.R',\n",
       " 'image.png',\n",
       " 'images.png',\n",
       " 'IMG-20220212-WA0026.jpg',\n",
       " 'Impact_Evaluation_FinalTest.pdf',\n",
       " 'index.html',\n",
       " 'Indexing+Elements+-+Lecture_Py3.ipynb',\n",
       " 'Inspiring_Quotes_-_Character (1).pdf',\n",
       " 'Inspiring_Quotes_-_Character.pdf',\n",
       " 'Inspiring_Quotes_-_Health___Fitness.pdf',\n",
       " 'Inspiring_Quotes_-_Intellectual_Life.pdf',\n",
       " 'Inspiring_Quotes_-_Spiritual_Life.pdf',\n",
       " 'Instructors_Manual_Essential_Mathematics.pdf',\n",
       " 'Intermediate_Medical_Spanish.apkg',\n",
       " 'international-schools-in-federal-loan-programs.xlsx',\n",
       " 'Introduction-to-Python-main',\n",
       " 'Introduction-to-Python-main (1).zip',\n",
       " 'Introduction-to-Python-main (2).zip',\n",
       " 'Introduction-to-Python-main (3).zip',\n",
       " 'Introduction-to-Python-main.zip',\n",
       " 'IOM Internship (1).docx',\n",
       " 'IOM Internship.docx',\n",
       " 'IOM Internship.pdf',\n",
       " 'ipid_uat_kv_019_v201809_expatriates_fuer_studenten.pdf',\n",
       " 'Joseph Vita (1).pdf',\n",
       " 'Joseph Vita.pdf',\n",
       " 'jtrain.csv',\n",
       " 'JUST SOLD!.pdf',\n",
       " 'KindleForPC-installer-1.30.59056.exe',\n",
       " 'kupdf.net_netzwerk-a2-arbeitsbuchpdf.pdf',\n",
       " 'KWW_Map_Flier_2021.pdf',\n",
       " 'lane.zip',\n",
       " 'Latest_Macro GA 02 2.0 (1).docx',\n",
       " 'Latest_Macro GA 02 2.0.docx',\n",
       " 'Latest_Macro GA 02.docx',\n",
       " 'Learn Python The Hard Way 3rd Edition V413HAV.pdf',\n",
       " 'LearnGermanLevel05UpperBeginnerGerman9781612571287.odm',\n",
       " 'lease_contract_Quellenstraße36_R1_Victoria.pdf',\n",
       " 'Lecture note.docx',\n",
       " 'lecture2_perf_comp.jpg',\n",
       " 'lecture2_perf_comp.pdf',\n",
       " 'lecture4.jpg',\n",
       " 'LenaJacobs_Overcrowding in Irish prisons_PolicyBrief (1).pdf',\n",
       " 'LenaJacobs_Overcrowding in Irish prisons_PolicyBrief.pdf',\n",
       " 'Lifebook_Community_Wisdom_For_Uncertain_Times.pdf',\n",
       " 'lightworks_2021.1_r126716_64bit_setup.exe',\n",
       " 'Line+Continuation+-+Lecture_Py3.ipynb',\n",
       " 'linear functions and exponents.pdf',\n",
       " 'listofteachersandtextbooksv2_0.xlsx',\n",
       " 'LoanApplicationandSolicitationDisclosure.png',\n",
       " 'LOGO (2).PNG',\n",
       " 'lukas-blazek-mcSDtbWXUZU-unsplash.jpg',\n",
       " 'LUS500398034_auth_letter.pdf',\n",
       " 'Macro 3rd lecture.pdf',\n",
       " 'Macro Assignment 01_1800649 (1).pdf',\n",
       " 'Macro Assignment 01_1800649.pdf',\n",
       " 'Macro GA 02_Group E 2.0 pdf.pdf',\n",
       " 'Macro GA 02_Group E 2.0 pdf_corr.pdf',\n",
       " 'Macro GA 02_Group E 2.0.docx',\n",
       " 'Macro GA 02_Group E.docx',\n",
       " 'Macro GA TMM_exercise (1).xlsx',\n",
       " 'Macro GA TMM_exercise.xlsx',\n",
       " 'Macro GA TMM_lates.docx',\n",
       " 'Macro GA TMM_lates.xlsx',\n",
       " 'Macro HW 1 w graphs (1).pdf',\n",
       " 'Macro HW 1 w graphs.pdf',\n",
       " 'Macro problem set 1- 2(c).pdf',\n",
       " 'made_evolve_sans.zip',\n",
       " 'MagicEars_Teacher_1.1.24.1_Setup.exe',\n",
       " 'MAKROEKONOMI PROJEKTI (1).docx',\n",
       " 'MAKROEKONOMI PROJEKTI.docx',\n",
       " 'ManskiPepper_REStat_2018 (1).pdf',\n",
       " 'ManskiPepper_REStat_2018.pdf',\n",
       " 'Mastering Metrics - Angrist Pishke (1).pdf',\n",
       " 'Mastering Metrics - Angrist Pishke.pdf',\n",
       " 'MastertheRealEstateLicenseExamsMaster9780768930412.acsm',\n",
       " 'Matching_ShortNote_Murugesan (1).pdf',\n",
       " 'Matching_ShortNote_Murugesan.pdf',\n",
       " 'Materials-20220202.zip',\n",
       " 'memoryWordTemplateJleader.docx',\n",
       " 'MEP 2nd assignment_Q2-Q6.pdf',\n",
       " 'Microeconomics by David Besanko, Ronald Braeutigam (z-lib.org).pdf',\n",
       " 'Midterm_EconPol_2021.pdf',\n",
       " 'minh-pham-OtXADkUh3-I-unsplash.jpg',\n",
       " 'minwage.csv',\n",
       " 'MIT14_05S13_LecNot_Int_Sol.pdf',\n",
       " 'MM_Ch_DID.pdf',\n",
       " 'MODEL AUTORITZACIÓ REPRESENTACIÓ (1).pdf',\n",
       " 'MODEL AUTORITZACIÓ REPRESENTACIÓ (2).pdf',\n",
       " 'MODEL AUTORITZACIÓ REPRESENTACIÓ.pdf',\n",
       " 'Morgan Stanley CV.pdf',\n",
       " 'Mosby 2021 Scanned.pdf',\n",
       " 'Mosby, Victoria Paige.pdf',\n",
       " 'MosbyVictoriaShareFile0363.zip',\n",
       " 'mp4.mp4',\n",
       " 'MRP_99918.pdf',\n",
       " 'MT Final_2013.doc',\n",
       " 'Natasha Munshi_CV Feb 10 2021.pdf',\n",
       " 'nathan-fertig-FBXuXp57eM0-unsplash.jpg',\n",
       " 'netzwerk-a2-kursbuchpdf.pdf',\n",
       " 'New Microsoft Word Document (1).docx',\n",
       " 'New Microsoft Word Document (5).docx',\n",
       " 'New Microsoft Word Document.docx',\n",
       " 'nordica.zip',\n",
       " 'Notion Setup 2.0.21.exe',\n",
       " 'OECD.docx',\n",
       " 'OECD.pdf',\n",
       " 'OfficeSetup.exe',\n",
       " 'Online-Anerkennungsdatenbank_oe_wu-intern_01.xlsx',\n",
       " 'onlucascapital.pdf',\n",
       " 'Open Call_ERASMUS+ INTERNSHIP MOBILITY GRANTS Winter call 2021.pdf',\n",
       " 'openvpn-install-2.4.8-I601-Win10.exe',\n",
       " 'Option B Facing Adversity, Building Resilience, and Finding Joy by Sheryl Sandberg, Adam Grant (z-lib.org).epub',\n",
       " 'OVB_Note.pdf',\n",
       " 'Page Pictures (1).zip',\n",
       " 'Page Pictures.zip',\n",
       " 'Paige bettencourt.pdf',\n",
       " 'Palgrave_Globalization_Easterly.doc',\n",
       " 'pcr form (1).docx',\n",
       " 'pcr form (1).pdf',\n",
       " 'pcr form (2).pdf',\n",
       " 'pcr form (3).pdf',\n",
       " 'pcr form 1.pdf',\n",
       " 'pcr form khanh nguyen.pdf',\n",
       " 'pcr form khanh.pdf',\n",
       " 'pcr form mat.pdf',\n",
       " 'pcr form mathilde.pdf',\n",
       " 'pcr form.docx',\n",
       " 'pcr form.pdf',\n",
       " 'Permission Letter.docx',\n",
       " 'pg135-images.epub',\n",
       " 'pg1934-images.epub',\n",
       " 'pg2500-images.epub',\n",
       " 'pg27827-images.epub',\n",
       " 'pg28054 (1).epub',\n",
       " 'pg28054.epub',\n",
       " 'pinkerston.zip',\n",
       " 'Pitch_Markus Pollak.pdf',\n",
       " 'Pitch_Markus Pollak.pptx',\n",
       " 'PLA+-+Consolidate+A2+-+Dialogo+2A.mp3',\n",
       " 'PLA+-+Consolidate+A2+-+Dialogo+3B (1).mp3',\n",
       " 'PLA+-+Consolidate+A2+-+Dialogo+3B.mp3',\n",
       " 'PLA+-+Consolidate+A2+-+Dialogo+4B.mp3',\n",
       " 'PLA+-+Planner_editable.pdf',\n",
       " 'PNG image 2.png',\n",
       " 'PNG image.png',\n",
       " 'poleconeucsabafall2021.docx',\n",
       " 'Portuguese+for+beginners+A1.pdf',\n",
       " 'portuguese.zip',\n",
       " 'Portuguese_Lab_Podcast+-+070-Beginners-Short+story-A+Maria-simplificado.mp3',\n",
       " 'Portuguese_Phrase_Book_Continental_pronunciation.apkg',\n",
       " 'Portuguese__English__1000_Nouns.apkg',\n",
       " 'Portuguese__English__1000_Verbs.apkg',\n",
       " 'Possessivartikel_Hausaufgabe (1).pdf',\n",
       " 'Possessivartikel_Hausaufgabe.pdf',\n",
       " 'practice1.pdf',\n",
       " 'PRELIM-LINKED-LIVELOOK.pdf',\n",
       " 'Presentation 20.pdf',\n",
       " 'Presentation 20.pptx',\n",
       " 'problem set 5-8.pdf',\n",
       " 'Problems from Textbook-20211117.zip',\n",
       " 'ProfitandLoss (1).pdf',\n",
       " 'ProfitandLoss.pdf',\n",
       " 'ProtonVPN_win_v1.17.5.exe',\n",
       " 'ProtonVPN_win_v1.17.6.exe',\n",
       " 'ProtonVPN_win_v1.24.0.exe',\n",
       " 'prueba_de_nivel (1).pdf',\n",
       " 'prueba_de_nivel.pdf',\n",
       " 'ps_2021 (1).pdf',\n",
       " 'ps_2021 (2).pdf',\n",
       " 'ps_2021.pdf',\n",
       " 'Python+Introduction+-+Course+Notes.pdf',\n",
       " 'Q4 (1).jpg',\n",
       " 'Q4.jpg',\n",
       " 'QuantitativeSocialScience_Imai_Draft2016.pdf',\n",
       " 'Questions .pdf',\n",
       " 'R help session.R',\n",
       " 'R-4.0.5-win.exe',\n",
       " 'real_estate_price_size (1).csv',\n",
       " 'real_estate_price_size.csv',\n",
       " 'receipt-1.pdf',\n",
       " 'Receipt-2441-4533.pdf',\n",
       " 'Recommendation Letter (1).pdf',\n",
       " 'Recommendation Letter.pdf',\n",
       " 'recommendedcvtemplateexampleceucareerhandout (1).docx',\n",
       " 'recommendedcvtemplateexampleceucareerhandout.docx',\n",
       " 'Reflexivverben_Hausaufgabe.pdf',\n",
       " 'registration-form.docx',\n",
       " 'Regression Interpretation.pdf',\n",
       " 'Resume 2020 - Teaching English.pdf',\n",
       " 'Resume-Victoria-Mosby (1).pdf',\n",
       " 'Resume-Victoria-Mosby.pdf',\n",
       " 'ResumeAmeliaAcevedo.pdf',\n",
       " 'ResumeKendraBos.docx',\n",
       " 'rg2tLeyfQhONrS3sn4ITrQ_13e2dc63a75e4dedb6aa2320252ffe6e_Data-chart-template.xlsx',\n",
       " 'RO-DBT_In_Service_11_18.pptx',\n",
       " 'RStudio-1.4.1106.exe',\n",
       " 'RStudio-2021.09.1-372.exe',\n",
       " 'rtools40-x86_64 (1).exe',\n",
       " 'rtools40-x86_64.exe',\n",
       " 'ryan-christodoulou-Vra_DPrrBlE-unsplash.jpg',\n",
       " 'S0304387898000698.txt',\n",
       " 'Sale File Check List and Closing Instruction.pdf',\n",
       " 'sample_exam_from_book (1).pdf',\n",
       " 'sample_exam_from_book.pdf',\n",
       " 'san-francisco-california-city.jpg',\n",
       " 'Sao Jorge Welcome (1).zip',\n",
       " 'Saved Data File (1).dta',\n",
       " 'Saved Data File.dta',\n",
       " 'Scan 21. Oct 2021.pdf',\n",
       " 'Scanned Documents (1) - Copy.pdf',\n",
       " 'Scanned Documents (1).pdf',\n",
       " 'Scanned Documents.pdf',\n",
       " 'SCORE-Deluxe-Startup-Business-Plan-Template_1.docx',\n",
       " 'SCORE_Financial_Projections_Spreadsheet_Feb2020.xlsx',\n",
       " 'Sean E. Henderson - Vitae (1).doc',\n",
       " 'Sean E. Henderson - Vitae.doc',\n",
       " 'sept13_1 (1).svg',\n",
       " 'sept13_1.svg',\n",
       " 'sept13_2 (1).svg',\n",
       " 'sept13_2.svg',\n",
       " 'sept13_3 (1).svg',\n",
       " 'sept13_3.svg',\n",
       " 'sept7_1.svg',\n",
       " 'sept7_2.svg',\n",
       " 'sept8_1.svg',\n",
       " \"Sergio's Resume (14).pdf\",\n",
       " 'Session5_Matching (1).R',\n",
       " 'Session5_Matching (2).r',\n",
       " 'Session5_Matching (3).r',\n",
       " 'Session5_Matching.R',\n",
       " 'Session8_DiD.r',\n",
       " 'Session_11.R',\n",
       " 'SexEd ChapterSMBM_final Victoria Minor Edits.docx',\n",
       " 'SexEd ChapterSMBM_final.docx',\n",
       " 'Signature-Properties (1).jpg',\n",
       " 'signature-properties-logo-med.jpg',\n",
       " 'Signature-Properties-logo-med.png',\n",
       " 'Signature-Properties.jpg',\n",
       " 'Signature-Properties.png',\n",
       " 'Signature.zip',\n",
       " 'signature1 (1).png',\n",
       " 'signature1 mockup.png',\n",
       " 'signature1.png',\n",
       " 'signature2 (1).png',\n",
       " 'signature2.png',\n",
       " 'Simple+linear+regression (1).ipynb',\n",
       " 'Simple+Linear+Regression+Exercise (1).ipynb',\n",
       " 'Simple+Linear+Regression+Exercise+Solution (1).ipynb',\n",
       " 'Simple+Linear+Regression+Exercise+Solution.ipynb',\n",
       " 'Simple+Linear+Regression+Exercise.ipynb',\n",
       " 'Simple+Linear+Regression+with+sklearn+-+Exercise+Solution.ipynb',\n",
       " 'Simple+Linear+Regression+with+sklearn+-+Exercise.ipynb',\n",
       " 'Simple+linear+regression.ipynb',\n",
       " 'Simple+linear+regression_with_comments.ipynb',\n",
       " 'sincerely-media-QPT7WSOUMKo-unsplash.jpg',\n",
       " 'SKM_754e21020212220.pdf',\n",
       " 'SKM_C3110210208164700.pdf',\n",
       " 'SKM_C3110210317110700.pdf',\n",
       " 'SKM_C3110210804172000.pdf',\n",
       " 'SKM_C3110210804172500.pdf',\n",
       " 'SKM_C3110210920140000.pdf',\n",
       " 'SlackSetup.exe',\n",
       " 'SMC Resume - Classes.docx',\n",
       " 'SMC Resume .docx',\n",
       " 'Spanish Class Book.pdf',\n",
       " 'SpanishAllinOneForDummies9780470555279.acsm',\n",
       " 'Spanish_B2_vocab_and_sayings.apkg',\n",
       " 'SpotifySetup (1).exe',\n",
       " 'SpotifySetup.exe',\n",
       " 'star.csv',\n",
       " 'STH011309_20211229112454 SEPA Mandat (Victoria MOSBY).pdf',\n",
       " 'Stock_Photos_-_Character.zip',\n",
       " 'Stock_Photos_-_Emotional_Life.zip',\n",
       " 'Stock_Photos_-_Health___Fitness.zip',\n",
       " 'Stock_Photos_-_Love_Relationship.zip',\n",
       " 'Stock_Photos_-_Spiritual_Life.zip',\n",
       " 'Strategic Pitch',\n",
       " 'Strategic Pitch - Victoria',\n",
       " 'Strategic pitch Aisulu.pdf',\n",
       " 'Strategic pitch Aisulu.pptx',\n",
       " 'Strategic Pitch.pdf',\n",
       " 'subtitle.txt',\n",
       " 'Supporting young workers PB.pdf',\n",
       " 'SYB64_328_202110_Intentional homicides and other crimes.csv',\n",
       " 'Syllabus AY 2021-2022 -  Data Analysis 2 - Pattern discovery and regression (1).docx',\n",
       " 'Syllabus AY 2021-2022 -  Data Analysis 2 - Pattern discovery and regression (2).docx',\n",
       " 'Syllabus AY 2021-2022 -  Data Analysis 2 - Pattern discovery and regression.docx',\n",
       " 'syllabusintromathmethod2020-2021.pdf',\n",
       " 'TeamsSetupx64_s_8D91A0570D5F4D6-7-0_.exe',\n",
       " 'TeamsSetupx64_s_8D9FDCF2299D0B0-7-0_c_w_.exe',\n",
       " 'Test-Slides (1).pdf',\n",
       " 'Test-Slides.pdf',\n",
       " 'tf16400656.xltx',\n",
       " 'Thank you so much for your business. You made our day. We hope you have a lovely day and see you again soon!.pdf',\n",
       " 'The Fifth Agreement_ A Practical Guide to Self-Mastery ( PDFDrive ).epub',\n",
       " 'The Fifth Agreement_ A Practical Guide to Self-Mastery ( PDFDrive ).pdf',\n",
       " 'The Five Love Languages How to Express Heartfelt Commitment to Your Mate by Gary Chapman (z-lib.org).epub',\n",
       " 'The Mastery of Self ( PDFDrive ).epub',\n",
       " 'The Mastery of Self ( PDFDrive ).pdf',\n",
       " 'The Resilience Factor 7 Keys to Finding Your Inner Strength and Overcoming Lifes Hurdles by Karen ReivichAndrew Shatté, Ph.D (z-lib.org).epub',\n",
       " 'The+Double+Equality+Sign+-+Lecture_Py3.ipynb',\n",
       " 'The_Power_Of_Category_Interconectivity.pdf',\n",
       " 'time-to-learn.ics',\n",
       " 'traffic1_long.csv',\n",
       " 'Transcript.pdf',\n",
       " 'Trips and Sips (1).zip',\n",
       " 'Trips and Sips.zip',\n",
       " 'Turkey and UK data 2.0.xlsx',\n",
       " 'Turkey and UK data 3.0.xlsx',\n",
       " 'Turkey and UK data 4.0.xlsx',\n",
       " 'Turkey and UK data.xlsx',\n",
       " 'uhstat1.pdf',\n",
       " 'UniBuddy Training_2021October.pdf',\n",
       " 'Untitled design (1).pdf',\n",
       " 'Untitled design (1).png',\n",
       " 'Untitled design (2).pdf',\n",
       " 'Untitled design.pdf',\n",
       " 'Untitled design.png',\n",
       " 'US Bookkeeper 1.docx',\n",
       " 'US Bookkeeper 1.pdf',\n",
       " 'US Bookkeeper 2.pdf',\n",
       " 'us_gdp_with_hp (1).xlsm',\n",
       " 'us_gdp_with_hp.xlsm',\n",
       " 'VERDE.pdf',\n",
       " 'Vertriebsinfos_Students.pdf',\n",
       " 'Victoria Certificate.pdf',\n",
       " 'Victoria Mosby - IOM Resume-pages-deleted.pdf',\n",
       " 'Victoria Mosby - IOM Resume.pdf',\n",
       " 'Victoria Mosby - IOM South Africa.pdf',\n",
       " 'Victoria Mosby Certificate of Enrollment-R-2102999 (1).pdf',\n",
       " 'Victoria Mosby Certificate of Enrollment-R-2102999.pdf',\n",
       " 'Victoria Mosby IOM Resume.pdf',\n",
       " 'Victoria Mosby Resume.docx',\n",
       " 'Victoria Mosby_271643_0 (1).pdf',\n",
       " 'Victoria Mosby_271643_0.pdf',\n",
       " \"Victoria's CoE letter (1).docx\",\n",
       " \"Victoria's CoE letter.docx\",\n",
       " 'Victoria- Juy 2021.pdf',\n",
       " 'Victoria-Mosby (1).pdf',\n",
       " 'Victoria-Mosby (10).pdf',\n",
       " 'Victoria-Mosby (11).pdf',\n",
       " 'Victoria-Mosby (2).pdf',\n",
       " 'Victoria-Mosby (3).pdf',\n",
       " 'Victoria-Mosby (4).pdf',\n",
       " 'Victoria-Mosby (5).pdf',\n",
       " 'Victoria-Mosby (6).pdf',\n",
       " 'Victoria-Mosby (7).pdf',\n",
       " 'Victoria-Mosby (8).pdf',\n",
       " 'Victoria-Mosby (9).pdf',\n",
       " 'Victoria-Mosby.pdf',\n",
       " 'Victoria-Mosby.rtf',\n",
       " 'Victoria.mp3',\n",
       " 'Victoria_04_01_2021_mindvalley_report.pdf',\n",
       " 'Victoria_14_02_2021_mindvalley_report.pdf',\n",
       " 'Victoria_coverletter_Raiffensen.docx',\n",
       " \"Victoria_FrontierEcon_Khanh's-comments.docx\",\n",
       " 'Victoria_IOM Internship.docx',\n",
       " 'Victoria_Mosby.pdf',\n",
       " 'Victoria_Mosby_Cover Letter_My_Rev1 (1).docx',\n",
       " 'Victoria_Mosby_Cover Letter_My_Rev1.docx',\n",
       " 'Victoria_Mosby_Cover Letter_My_Rev2 (1).docx',\n",
       " 'Victoria_Mosby_Cover Letter_My_Rev2.docx',\n",
       " 'Victoria_Mosby_Cover Letter_second_draft.docx',\n",
       " 'Victoria_Mosby_Full Resume 2020_My_Rev.docx',\n",
       " 'Victoria_Mosby_Full Resume 2020_second_draft.docx',\n",
       " 'victoria_paige_mosby_college_of_europe_application.pdf',\n",
       " 'video-1614282776.mp4',\n",
       " 'Vienna Resume.docx',\n",
       " 'Vienna Resume.pdf',\n",
       " 'viki1.ipynb',\n",
       " 'Visual Culture Studies-CEUMeds-22w-cd.pdf',\n",
       " 'Voice 010.m4a',\n",
       " 'Voice 011.m4a',\n",
       " 'Voyage with Victoria.png',\n",
       " 'VPM CEU SM.docx',\n",
       " 'webinar-87584611616 (1).ics',\n",
       " 'webinar-87584611616.ics',\n",
       " 'wetransfer-586a21.zip',\n",
       " 'whaledata.xls',\n",
       " 'WhatsApp Image 2021-10-06 at 10.20.36.jpeg',\n",
       " 'WhatsApp Image 2021-10-08 at 09.21.26.jpeg',\n",
       " 'WhatsApp Image 2021-10-08 at 09.31.40.jpeg',\n",
       " 'WhatsApp Image 2022-02-01 at 09.52.33.jpeg',\n",
       " 'WhatsApp Image 2022-02-07 at 15.20.24.jpeg',\n",
       " 'WhatsApp Image 2022-02-12 at 07.45.53.jpeg',\n",
       " 'WhatsApp Image 2022-02-16 at 14.30.01.jpeg',\n",
       " 'WhatsApp Unknown 2021-01-22 at 14.09.06.zip',\n",
       " 'WhatsAppSetup (1).exe',\n",
       " 'WhatsAppSetup (2).exe',\n",
       " 'WhatsAppSetup (3).exe',\n",
       " 'WhatsAppSetup (4).exe',\n",
       " 'WhatsAppSetup (5).exe',\n",
       " 'WhatsAppSetup (6).exe',\n",
       " 'WhatsAppSetup.exe',\n",
       " 'Whiteboard[1]-01.png',\n",
       " 'Whiteboard[1]-02.png',\n",
       " 'Whiteboard_lecture_1 (1).png',\n",
       " 'Whiteboard_lecture_1 (2).png',\n",
       " 'Whiteboard_lecture_1.png',\n",
       " 'WhyNationsFail_9780307719232_647414.acsm',\n",
       " 'wiki_ronaldo.txt',\n",
       " 'Wishing you a.pdf',\n",
       " 'women.csv',\n",
       " 'Wooldridge_IE_Ch13_SimplePanel.pdf',\n",
       " 'Woolridge_Chapter2 (1).pdf',\n",
       " 'Woolridge_Chapter2 (2).pdf',\n",
       " 'Woolridge_Chapter2.pdf',\n",
       " 'Woolridge_Chapter3 (1).pdf',\n",
       " 'Woolridge_Chapter3 (2).pdf',\n",
       " 'Woolridge_Chapter3.pdf',\n",
       " 'wordpress-5.5.3 (1).zip',\n",
       " 'wordpress-5.5.3.zip',\n",
       " 'Work file (1).docx',\n",
       " 'Work file.docx',\n",
       " 'Worksheet for Analyzing Policy Briefs (4) (1) (1).docx',\n",
       " 'Worksheet for Analyzing Policy Briefs (4) (1).docx',\n",
       " 'World Bank - Victoria Mosby.docx',\n",
       " 'World Bank Cover Letter Victoria.docx',\n",
       " 'WritingReporting_R.pdf',\n",
       " 'WritingReporting_R.Rmd',\n",
       " 'WUSB6300v2_2_1_01_17_win_setup_signed.zip',\n",
       " 'x5og_Bg0QCaaIPwYNKAmQg_4cdce1302a0a403887dc2c222451fdee_Course-1-Week-3-Glossary-_-DA-terms-and-definitions.docx',\n",
       " 'zachary-kadolph-JisZuCgM_Ms-unsplash.jpg',\n",
       " 'zip_session_53a4377dfdeeabda708e249d80916038_1b56be0d98e536d74589511aec85bc55.zip',\n",
       " '_Mac_Pages__Category_Template_-_Health___Fitness.pages',\n",
       " '_PDF__Inspiring_Quotes_-_Career.pdf',\n",
       " '_PDF__Inspiring_Quotes_-_Financial_Life.pdf',\n",
       " '_PDF__Inspiring_Quotes_-_Parenting.pdf',\n",
       " '_Windows_Word__Category_Template_-_Character.docx',\n",
       " '_Windows_Word__Category_Template_-_Financial_Life.docx',\n",
       " '_Windows_Word__Category_Template_-_Health___Fitness_Template.docx',\n",
       " '_Windows_Word__Category_Template_-_Intellectual_Life.docx',\n",
       " '_Windows_Word__Category_Template_-_Love_Relationship.docx',\n",
       " '_Windows_Word__Category_Template_-_Parenting.docx',\n",
       " '_Windows_Word__Category_Template_-_Spiritual_Life.docx',\n",
       " '_Zip_File__Stock_Photos_-_Career.zip',\n",
       " '_Zip_File__Stock_Photos_-_Financial_Life (1).zip',\n",
       " '_Zip_File__Stock_Photos_-_Financial_Life.zip',\n",
       " '_Zip_File__Stock_Photos_-_Parenting (1).zip',\n",
       " '_Zip_File__Stock_Photos_-_Parenting.zip',\n",
       " '_Zip_File__Stock_Photos_-_Social_Life.zip',\n",
       " '~$enna Resume.docx',\n",
       " '~$r form.docx',\n",
       " '~WRL0721.tmp',\n",
       " '~WRL0761.tmp',\n",
       " '‘And I think to myself…WTF’.mp3',\n",
       " '①.pdf']"
      ]
     },
     "execution_count": 30,
     "metadata": {},
     "output_type": "execute_result"
    }
   ],
   "source": [
    "os.listdir(\"../downloads\")"
   ]
  },
  {
   "cell_type": "code",
   "execution_count": 31,
   "id": "645f3f9e",
   "metadata": {
    "id": "645f3f9e"
   },
   "outputs": [],
   "source": [
    "#Open the dictionary in pandas, describe the data, and make a histogram of the frequency variable\n",
    "import pandas as pd "
   ]
  },
  {
   "cell_type": "code",
   "execution_count": 32,
   "id": "4d5b0571",
   "metadata": {
    "id": "4d5b0571"
   },
   "outputs": [
    {
     "ename": "FileNotFoundError",
     "evalue": "[Errno 2] No such file or directory: '..\\\\Downloads\\\\Introduction-to-Python-main\\\\output\\\\wiki_ronaldo.csv'",
     "output_type": "error",
     "traceback": [
      "\u001b[1;31m---------------------------------------------------------------------------\u001b[0m",
      "\u001b[1;31mFileNotFoundError\u001b[0m                         Traceback (most recent call last)",
      "\u001b[1;32m~\\AppData\\Local\\Temp/ipykernel_3428/923177544.py\u001b[0m in \u001b[0;36m<module>\u001b[1;34m\u001b[0m\n\u001b[0;32m      1\u001b[0m \u001b[1;32mimport\u001b[0m \u001b[0mcsv\u001b[0m\u001b[1;33m\u001b[0m\u001b[1;33m\u001b[0m\u001b[0m\n\u001b[1;32m----> 2\u001b[1;33m \u001b[0mpd_ronaldo\u001b[0m \u001b[1;33m=\u001b[0m \u001b[0mpd\u001b[0m\u001b[1;33m.\u001b[0m\u001b[0mread_csv\u001b[0m\u001b[1;33m(\u001b[0m\u001b[1;34m\"..\\Downloads\\Introduction-to-Python-main\\output\\wiki_ronaldo.csv\"\u001b[0m\u001b[1;33m,\u001b[0m \u001b[0mencoding\u001b[0m\u001b[1;33m=\u001b[0m\u001b[1;34m'latin-1'\u001b[0m\u001b[1;33m)\u001b[0m\u001b[1;33m\u001b[0m\u001b[1;33m\u001b[0m\u001b[0m\n\u001b[0m",
      "\u001b[1;32m~\\anaconda3\\lib\\site-packages\\pandas\\util\\_decorators.py\u001b[0m in \u001b[0;36mwrapper\u001b[1;34m(*args, **kwargs)\u001b[0m\n\u001b[0;32m    309\u001b[0m                     \u001b[0mstacklevel\u001b[0m\u001b[1;33m=\u001b[0m\u001b[0mstacklevel\u001b[0m\u001b[1;33m,\u001b[0m\u001b[1;33m\u001b[0m\u001b[1;33m\u001b[0m\u001b[0m\n\u001b[0;32m    310\u001b[0m                 )\n\u001b[1;32m--> 311\u001b[1;33m             \u001b[1;32mreturn\u001b[0m \u001b[0mfunc\u001b[0m\u001b[1;33m(\u001b[0m\u001b[1;33m*\u001b[0m\u001b[0margs\u001b[0m\u001b[1;33m,\u001b[0m \u001b[1;33m**\u001b[0m\u001b[0mkwargs\u001b[0m\u001b[1;33m)\u001b[0m\u001b[1;33m\u001b[0m\u001b[1;33m\u001b[0m\u001b[0m\n\u001b[0m\u001b[0;32m    312\u001b[0m \u001b[1;33m\u001b[0m\u001b[0m\n\u001b[0;32m    313\u001b[0m         \u001b[1;32mreturn\u001b[0m \u001b[0mwrapper\u001b[0m\u001b[1;33m\u001b[0m\u001b[1;33m\u001b[0m\u001b[0m\n",
      "\u001b[1;32m~\\anaconda3\\lib\\site-packages\\pandas\\io\\parsers\\readers.py\u001b[0m in \u001b[0;36mread_csv\u001b[1;34m(filepath_or_buffer, sep, delimiter, header, names, index_col, usecols, squeeze, prefix, mangle_dupe_cols, dtype, engine, converters, true_values, false_values, skipinitialspace, skiprows, skipfooter, nrows, na_values, keep_default_na, na_filter, verbose, skip_blank_lines, parse_dates, infer_datetime_format, keep_date_col, date_parser, dayfirst, cache_dates, iterator, chunksize, compression, thousands, decimal, lineterminator, quotechar, quoting, doublequote, escapechar, comment, encoding, encoding_errors, dialect, error_bad_lines, warn_bad_lines, on_bad_lines, delim_whitespace, low_memory, memory_map, float_precision, storage_options)\u001b[0m\n\u001b[0;32m    584\u001b[0m     \u001b[0mkwds\u001b[0m\u001b[1;33m.\u001b[0m\u001b[0mupdate\u001b[0m\u001b[1;33m(\u001b[0m\u001b[0mkwds_defaults\u001b[0m\u001b[1;33m)\u001b[0m\u001b[1;33m\u001b[0m\u001b[1;33m\u001b[0m\u001b[0m\n\u001b[0;32m    585\u001b[0m \u001b[1;33m\u001b[0m\u001b[0m\n\u001b[1;32m--> 586\u001b[1;33m     \u001b[1;32mreturn\u001b[0m \u001b[0m_read\u001b[0m\u001b[1;33m(\u001b[0m\u001b[0mfilepath_or_buffer\u001b[0m\u001b[1;33m,\u001b[0m \u001b[0mkwds\u001b[0m\u001b[1;33m)\u001b[0m\u001b[1;33m\u001b[0m\u001b[1;33m\u001b[0m\u001b[0m\n\u001b[0m\u001b[0;32m    587\u001b[0m \u001b[1;33m\u001b[0m\u001b[0m\n\u001b[0;32m    588\u001b[0m \u001b[1;33m\u001b[0m\u001b[0m\n",
      "\u001b[1;32m~\\anaconda3\\lib\\site-packages\\pandas\\io\\parsers\\readers.py\u001b[0m in \u001b[0;36m_read\u001b[1;34m(filepath_or_buffer, kwds)\u001b[0m\n\u001b[0;32m    480\u001b[0m \u001b[1;33m\u001b[0m\u001b[0m\n\u001b[0;32m    481\u001b[0m     \u001b[1;31m# Create the parser.\u001b[0m\u001b[1;33m\u001b[0m\u001b[1;33m\u001b[0m\u001b[0m\n\u001b[1;32m--> 482\u001b[1;33m     \u001b[0mparser\u001b[0m \u001b[1;33m=\u001b[0m \u001b[0mTextFileReader\u001b[0m\u001b[1;33m(\u001b[0m\u001b[0mfilepath_or_buffer\u001b[0m\u001b[1;33m,\u001b[0m \u001b[1;33m**\u001b[0m\u001b[0mkwds\u001b[0m\u001b[1;33m)\u001b[0m\u001b[1;33m\u001b[0m\u001b[1;33m\u001b[0m\u001b[0m\n\u001b[0m\u001b[0;32m    483\u001b[0m \u001b[1;33m\u001b[0m\u001b[0m\n\u001b[0;32m    484\u001b[0m     \u001b[1;32mif\u001b[0m \u001b[0mchunksize\u001b[0m \u001b[1;32mor\u001b[0m \u001b[0miterator\u001b[0m\u001b[1;33m:\u001b[0m\u001b[1;33m\u001b[0m\u001b[1;33m\u001b[0m\u001b[0m\n",
      "\u001b[1;32m~\\anaconda3\\lib\\site-packages\\pandas\\io\\parsers\\readers.py\u001b[0m in \u001b[0;36m__init__\u001b[1;34m(self, f, engine, **kwds)\u001b[0m\n\u001b[0;32m    809\u001b[0m             \u001b[0mself\u001b[0m\u001b[1;33m.\u001b[0m\u001b[0moptions\u001b[0m\u001b[1;33m[\u001b[0m\u001b[1;34m\"has_index_names\"\u001b[0m\u001b[1;33m]\u001b[0m \u001b[1;33m=\u001b[0m \u001b[0mkwds\u001b[0m\u001b[1;33m[\u001b[0m\u001b[1;34m\"has_index_names\"\u001b[0m\u001b[1;33m]\u001b[0m\u001b[1;33m\u001b[0m\u001b[1;33m\u001b[0m\u001b[0m\n\u001b[0;32m    810\u001b[0m \u001b[1;33m\u001b[0m\u001b[0m\n\u001b[1;32m--> 811\u001b[1;33m         \u001b[0mself\u001b[0m\u001b[1;33m.\u001b[0m\u001b[0m_engine\u001b[0m \u001b[1;33m=\u001b[0m \u001b[0mself\u001b[0m\u001b[1;33m.\u001b[0m\u001b[0m_make_engine\u001b[0m\u001b[1;33m(\u001b[0m\u001b[0mself\u001b[0m\u001b[1;33m.\u001b[0m\u001b[0mengine\u001b[0m\u001b[1;33m)\u001b[0m\u001b[1;33m\u001b[0m\u001b[1;33m\u001b[0m\u001b[0m\n\u001b[0m\u001b[0;32m    812\u001b[0m \u001b[1;33m\u001b[0m\u001b[0m\n\u001b[0;32m    813\u001b[0m     \u001b[1;32mdef\u001b[0m \u001b[0mclose\u001b[0m\u001b[1;33m(\u001b[0m\u001b[0mself\u001b[0m\u001b[1;33m)\u001b[0m\u001b[1;33m:\u001b[0m\u001b[1;33m\u001b[0m\u001b[1;33m\u001b[0m\u001b[0m\n",
      "\u001b[1;32m~\\anaconda3\\lib\\site-packages\\pandas\\io\\parsers\\readers.py\u001b[0m in \u001b[0;36m_make_engine\u001b[1;34m(self, engine)\u001b[0m\n\u001b[0;32m   1038\u001b[0m             )\n\u001b[0;32m   1039\u001b[0m         \u001b[1;31m# error: Too many arguments for \"ParserBase\"\u001b[0m\u001b[1;33m\u001b[0m\u001b[1;33m\u001b[0m\u001b[0m\n\u001b[1;32m-> 1040\u001b[1;33m         \u001b[1;32mreturn\u001b[0m \u001b[0mmapping\u001b[0m\u001b[1;33m[\u001b[0m\u001b[0mengine\u001b[0m\u001b[1;33m]\u001b[0m\u001b[1;33m(\u001b[0m\u001b[0mself\u001b[0m\u001b[1;33m.\u001b[0m\u001b[0mf\u001b[0m\u001b[1;33m,\u001b[0m \u001b[1;33m**\u001b[0m\u001b[0mself\u001b[0m\u001b[1;33m.\u001b[0m\u001b[0moptions\u001b[0m\u001b[1;33m)\u001b[0m  \u001b[1;31m# type: ignore[call-arg]\u001b[0m\u001b[1;33m\u001b[0m\u001b[1;33m\u001b[0m\u001b[0m\n\u001b[0m\u001b[0;32m   1041\u001b[0m \u001b[1;33m\u001b[0m\u001b[0m\n\u001b[0;32m   1042\u001b[0m     \u001b[1;32mdef\u001b[0m \u001b[0m_failover_to_python\u001b[0m\u001b[1;33m(\u001b[0m\u001b[0mself\u001b[0m\u001b[1;33m)\u001b[0m\u001b[1;33m:\u001b[0m\u001b[1;33m\u001b[0m\u001b[1;33m\u001b[0m\u001b[0m\n",
      "\u001b[1;32m~\\anaconda3\\lib\\site-packages\\pandas\\io\\parsers\\c_parser_wrapper.py\u001b[0m in \u001b[0;36m__init__\u001b[1;34m(self, src, **kwds)\u001b[0m\n\u001b[0;32m     49\u001b[0m \u001b[1;33m\u001b[0m\u001b[0m\n\u001b[0;32m     50\u001b[0m         \u001b[1;31m# open handles\u001b[0m\u001b[1;33m\u001b[0m\u001b[1;33m\u001b[0m\u001b[0m\n\u001b[1;32m---> 51\u001b[1;33m         \u001b[0mself\u001b[0m\u001b[1;33m.\u001b[0m\u001b[0m_open_handles\u001b[0m\u001b[1;33m(\u001b[0m\u001b[0msrc\u001b[0m\u001b[1;33m,\u001b[0m \u001b[0mkwds\u001b[0m\u001b[1;33m)\u001b[0m\u001b[1;33m\u001b[0m\u001b[1;33m\u001b[0m\u001b[0m\n\u001b[0m\u001b[0;32m     52\u001b[0m         \u001b[1;32massert\u001b[0m \u001b[0mself\u001b[0m\u001b[1;33m.\u001b[0m\u001b[0mhandles\u001b[0m \u001b[1;32mis\u001b[0m \u001b[1;32mnot\u001b[0m \u001b[1;32mNone\u001b[0m\u001b[1;33m\u001b[0m\u001b[1;33m\u001b[0m\u001b[0m\n\u001b[0;32m     53\u001b[0m \u001b[1;33m\u001b[0m\u001b[0m\n",
      "\u001b[1;32m~\\anaconda3\\lib\\site-packages\\pandas\\io\\parsers\\base_parser.py\u001b[0m in \u001b[0;36m_open_handles\u001b[1;34m(self, src, kwds)\u001b[0m\n\u001b[0;32m    220\u001b[0m         \u001b[0mLet\u001b[0m \u001b[0mthe\u001b[0m \u001b[0mreaders\u001b[0m \u001b[0mopen\u001b[0m \u001b[0mIOHandles\u001b[0m \u001b[0mafter\u001b[0m \u001b[0mthey\u001b[0m \u001b[0mare\u001b[0m \u001b[0mdone\u001b[0m \u001b[1;32mwith\u001b[0m \u001b[0mtheir\u001b[0m \u001b[0mpotential\u001b[0m \u001b[0mraises\u001b[0m\u001b[1;33m.\u001b[0m\u001b[1;33m\u001b[0m\u001b[1;33m\u001b[0m\u001b[0m\n\u001b[0;32m    221\u001b[0m         \"\"\"\n\u001b[1;32m--> 222\u001b[1;33m         self.handles = get_handle(\n\u001b[0m\u001b[0;32m    223\u001b[0m             \u001b[0msrc\u001b[0m\u001b[1;33m,\u001b[0m\u001b[1;33m\u001b[0m\u001b[1;33m\u001b[0m\u001b[0m\n\u001b[0;32m    224\u001b[0m             \u001b[1;34m\"r\"\u001b[0m\u001b[1;33m,\u001b[0m\u001b[1;33m\u001b[0m\u001b[1;33m\u001b[0m\u001b[0m\n",
      "\u001b[1;32m~\\anaconda3\\lib\\site-packages\\pandas\\io\\common.py\u001b[0m in \u001b[0;36mget_handle\u001b[1;34m(path_or_buf, mode, encoding, compression, memory_map, is_text, errors, storage_options)\u001b[0m\n\u001b[0;32m    700\u001b[0m         \u001b[1;32mif\u001b[0m \u001b[0mioargs\u001b[0m\u001b[1;33m.\u001b[0m\u001b[0mencoding\u001b[0m \u001b[1;32mand\u001b[0m \u001b[1;34m\"b\"\u001b[0m \u001b[1;32mnot\u001b[0m \u001b[1;32min\u001b[0m \u001b[0mioargs\u001b[0m\u001b[1;33m.\u001b[0m\u001b[0mmode\u001b[0m\u001b[1;33m:\u001b[0m\u001b[1;33m\u001b[0m\u001b[1;33m\u001b[0m\u001b[0m\n\u001b[0;32m    701\u001b[0m             \u001b[1;31m# Encoding\u001b[0m\u001b[1;33m\u001b[0m\u001b[1;33m\u001b[0m\u001b[0m\n\u001b[1;32m--> 702\u001b[1;33m             handle = open(\n\u001b[0m\u001b[0;32m    703\u001b[0m                 \u001b[0mhandle\u001b[0m\u001b[1;33m,\u001b[0m\u001b[1;33m\u001b[0m\u001b[1;33m\u001b[0m\u001b[0m\n\u001b[0;32m    704\u001b[0m                 \u001b[0mioargs\u001b[0m\u001b[1;33m.\u001b[0m\u001b[0mmode\u001b[0m\u001b[1;33m,\u001b[0m\u001b[1;33m\u001b[0m\u001b[1;33m\u001b[0m\u001b[0m\n",
      "\u001b[1;31mFileNotFoundError\u001b[0m: [Errno 2] No such file or directory: '..\\\\Downloads\\\\Introduction-to-Python-main\\\\output\\\\wiki_ronaldo.csv'"
     ]
    }
   ],
   "source": [
    "import csv\n",
    "pd_ronaldo = pd.read_csv(\"..\\Downloads\\Introduction-to-Python-main\\output\\wiki_ronaldo.csv\", encoding='latin-1')"
   ]
  },
  {
   "cell_type": "code",
   "execution_count": null,
   "id": "c3ac18b6",
   "metadata": {
    "colab": {
     "base_uri": "https://localhost:8080/",
     "height": 423
    },
    "id": "c3ac18b6",
    "outputId": "6da24f81-6ca9-4988-9c87-0d4010fb20ab"
   },
   "outputs": [],
   "source": [
    "pd_ronaldo"
   ]
  },
  {
   "cell_type": "code",
   "execution_count": 26,
   "id": "4b690215",
   "metadata": {},
   "outputs": [
    {
     "ename": "NameError",
     "evalue": "name 'pd' is not defined",
     "output_type": "error",
     "traceback": [
      "\u001b[1;31m---------------------------------------------------------------------------\u001b[0m",
      "\u001b[1;31mNameError\u001b[0m                                 Traceback (most recent call last)",
      "\u001b[1;32m~\\AppData\\Local\\Temp/ipykernel_3428/2933071310.py\u001b[0m in \u001b[0;36m<module>\u001b[1;34m\u001b[0m\n\u001b[1;32m----> 1\u001b[1;33m \u001b[0mpd_ronaldo\u001b[0m \u001b[1;33m=\u001b[0m \u001b[0mpd\u001b[0m\u001b[1;33m.\u001b[0m\u001b[0mread_csv\u001b[0m\u001b[1;33m(\u001b[0m\u001b[1;34m\"..\\downloads\\wiki_ronaldo.csv\"\u001b[0m\u001b[1;33m,\u001b[0m \u001b[0mdelimiter\u001b[0m\u001b[1;33m=\u001b[0m\u001b[1;34m\";\"\u001b[0m\u001b[1;33m)\u001b[0m\u001b[1;33m\u001b[0m\u001b[1;33m\u001b[0m\u001b[0m\n\u001b[0m",
      "\u001b[1;31mNameError\u001b[0m: name 'pd' is not defined"
     ]
    }
   ],
   "source": [
    "pd_ronaldo = pd.read_csv(\"..\\downloads\\wiki_ronaldo.csv\", delimiter=\";\")"
   ]
  },
  {
   "cell_type": "code",
   "execution_count": null,
   "id": "6afd170a",
   "metadata": {
    "colab": {
     "base_uri": "https://localhost:8080/"
    },
    "id": "6afd170a",
    "outputId": "73c8733e-195c-4f08-efa8-2386bec5032e"
   },
   "outputs": [],
   "source": [
    "type(pd_ronaldo)"
   ]
  },
  {
   "cell_type": "code",
   "execution_count": null,
   "id": "37e652f4",
   "metadata": {
    "colab": {
     "base_uri": "https://localhost:8080/"
    },
    "id": "37e652f4",
    "outputId": "c79d63c6-24d8-4cd2-e943-54fa83154d27"
   },
   "outputs": [],
   "source": [
    "pd_ronaldo.shape"
   ]
  },
  {
   "cell_type": "code",
   "execution_count": null,
   "id": "cafe5567",
   "metadata": {
    "colab": {
     "base_uri": "https://localhost:8080/"
    },
    "id": "cafe5567",
    "outputId": "9f7ba983-bc22-4c23-dc73-f768952f8fae"
   },
   "outputs": [],
   "source": [
    "pd_ronaldo.columns"
   ]
  },
  {
   "cell_type": "code",
   "execution_count": null,
   "id": "2957658c",
   "metadata": {
    "colab": {
     "base_uri": "https://localhost:8080/",
     "height": 206
    },
    "id": "2957658c",
    "outputId": "bd28b331-e7bd-4ec5-a6d6-86aa768922b6"
   },
   "outputs": [],
   "source": [
    "pd_ronaldo.head()"
   ]
  },
  {
   "cell_type": "code",
   "execution_count": null,
   "id": "a5058f94",
   "metadata": {
    "colab": {
     "base_uri": "https://localhost:8080/",
     "height": 300
    },
    "id": "a5058f94",
    "outputId": "261729a5-5ce6-4131-fc4d-6410bc4c87c5"
   },
   "outputs": [],
   "source": [
    "pd_ronaldo.describe()"
   ]
  },
  {
   "cell_type": "code",
   "execution_count": null,
   "id": "15b193f8",
   "metadata": {
    "colab": {
     "base_uri": "https://localhost:8080/"
    },
    "id": "15b193f8",
    "outputId": "e70b7993-c78c-4782-d89d-360a9ca28695"
   },
   "outputs": [],
   "source": [
    "pd_ronaldo.info()"
   ]
  },
  {
   "cell_type": "code",
   "execution_count": null,
   "id": "775cb63f",
   "metadata": {
    "colab": {
     "base_uri": "https://localhost:8080/",
     "height": 162
    },
    "id": "775cb63f",
    "outputId": "cd05a519-cc8b-417e-edec-997c34d06453"
   },
   "outputs": [],
   "source": [
    "from matplotlib import pyplot as plt\n",
    "\n",
    "plt.figure(figsize=[30, 6])\n",
    "col_map = plt.get_cmap('tab20c')\n",
    "\n",
    "# Creating a bar chart from a dictionary\n",
    "plt.bar(dict_ronaldo.keys(), dict_ronaldo.values(), width=0.3, \n",
    "        color=col_map.colors, edgecolor='teal', linewidth=3.0)\n",
    "\n",
    "plt.title(\"Ronaldo\", fontsize=15)\n",
    "plt.xlabel('Words', fontsize=10)\n",
    "plt.ylabel('Frequency', fontsize=15)\n",
    "plt.show()"
   ]
  }
 ],
 "metadata": {
  "colab": {
   "name": "A3_victoria_mosby (1).ipynb",
   "provenance": []
  },
  "kernelspec": {
   "display_name": "Python 3 (ipykernel)",
   "language": "python",
   "name": "python3"
  },
  "language_info": {
   "codemirror_mode": {
    "name": "ipython",
    "version": 3
   },
   "file_extension": ".py",
   "mimetype": "text/x-python",
   "name": "python",
   "nbconvert_exporter": "python",
   "pygments_lexer": "ipython3",
   "version": "3.9.7"
  }
 },
 "nbformat": 4,
 "nbformat_minor": 5
}
