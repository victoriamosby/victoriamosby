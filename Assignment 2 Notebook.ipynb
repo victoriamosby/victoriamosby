{
 "cells": [
  {
   "cell_type": "markdown",
   "id": "09aa13b0",
   "metadata": {},
   "source": [
    "#1. Write a function that has as argument a string and does the following: i) removes numeric characters, ii) removes punctuation, iii) converts the string in lower-case letters, iv) returns a list whose elements are the words of the string (that contains no punctuation or numbers and is in lower-case). Name the function clean_string.\n",
    "\n",
    "We know that functions must 1. start with a def statement 2. have a name followed by round brackets () and 3. be followed by a colon. \n",
    "\n",
    "Here I will add an example of a simple function."
   ]
  },
  {
   "cell_type": "code",
   "execution_count": 1,
   "id": "c64adc00",
   "metadata": {},
   "outputs": [],
   "source": [
    "quejada_recipe = \"A traditional Portuguese dessert made with 5 pantry staple ingredients. They are creamy on the inside and crispy on the outside!\""
   ]
  },
  {
   "cell_type": "code",
   "execution_count": 2,
   "id": "df8e40ab",
   "metadata": {},
   "outputs": [],
   "source": [
    "punctnum = [\"0\", \"1\", \"2\", \"3\", \"4\", \"5\", \"6\", \"7\", \"8\", \"9\",\",\", \".\", \";\",\"'\", \"?\", \"&\", \"!\", \"-\",]"
   ]
  },
  {
   "cell_type": "code",
   "execution_count": 3,
   "id": "9ec33743",
   "metadata": {},
   "outputs": [],
   "source": [
    "def clean_string(string): \n",
    "    letter_string = \"\"\n",
    "    for char in string: \n",
    "        if char not in punctnum: \n",
    "            letter_string = letter_string + char\n",
    "    letter_string = letter_string.lower().split()\n",
    "    return letter_string"
   ]
  },
  {
   "cell_type": "code",
   "execution_count": 4,
   "id": "7f04ea44",
   "metadata": {},
   "outputs": [
    {
     "name": "stdout",
     "output_type": "stream",
     "text": [
      "['a', 'traditional', 'portuguese', 'dessert', 'made', 'with', 'pantry', 'staple', 'ingredients', 'they', 'are', 'creamy', 'on', 'the', 'inside', 'and', 'crispy', 'on', 'the', 'outside']\n"
     ]
    }
   ],
   "source": [
    "print (clean_string(quejada_recipe)) "
   ]
  },
  {
   "cell_type": "code",
   "execution_count": 5,
   "id": "4c0707d4",
   "metadata": {},
   "outputs": [],
   "source": [
    "def string_to_dictionary(string): \n",
    "    output_string = clean_string(string)\n",
    "    dict_output = {i: output_string[i] for i in range(0, len(output_string))}\n",
    "    return dict_output"
   ]
  },
  {
   "cell_type": "code",
   "execution_count": 6,
   "id": "146c0a31",
   "metadata": {},
   "outputs": [
    {
     "data": {
      "text/plain": [
       "{0: 'a',\n",
       " 1: 'traditional',\n",
       " 2: 'portuguese',\n",
       " 3: 'dessert',\n",
       " 4: 'made',\n",
       " 5: 'with',\n",
       " 6: 'pantry',\n",
       " 7: 'staple',\n",
       " 8: 'ingredients',\n",
       " 9: 'they',\n",
       " 10: 'are',\n",
       " 11: 'creamy',\n",
       " 12: 'on',\n",
       " 13: 'the',\n",
       " 14: 'inside',\n",
       " 15: 'and',\n",
       " 16: 'crispy',\n",
       " 17: 'on',\n",
       " 18: 'the',\n",
       " 19: 'outside'}"
      ]
     },
     "execution_count": 6,
     "metadata": {},
     "output_type": "execute_result"
    }
   ],
   "source": [
    "string_to_dictionary(quejada_recipe)"
   ]
  },
  {
   "cell_type": "markdown",
   "id": "9fab6072",
   "metadata": {},
   "source": [
    "3. Test your work using at least two long strings that contain punctuation, numeric characters, and upper case letters. "
   ]
  },
  {
   "cell_type": "code",
   "execution_count": 7,
   "id": "470b39ee",
   "metadata": {},
   "outputs": [],
   "source": [
    "austrian_folktale = \"A peasant's wife and the parson fancied each other, so the wife feigned illness, and the parson preached that whoever had an ill family member could go to the Cuckoo's Mountain in Italy, and get laurel leaves that would cure the ill person. The peasant, Hildebrand, left to get them, and the parson came to his house. But on the way, Hildebrand met his cousin, an egg merchant, who alerted him and brought him to the house in his cart. The parson and the wife began to sing, the merchant sang, and Hildebrand sang that it was enough. He jumped from the basket and beat the parson out of the house. 1342345\""
   ]
  },
  {
   "cell_type": "code",
   "execution_count": 8,
   "id": "c90a5afc",
   "metadata": {},
   "outputs": [
    {
     "data": {
      "text/plain": [
       "{0: 'a',\n",
       " 1: 'peasants',\n",
       " 2: 'wife',\n",
       " 3: 'and',\n",
       " 4: 'the',\n",
       " 5: 'parson',\n",
       " 6: 'fancied',\n",
       " 7: 'each',\n",
       " 8: 'other',\n",
       " 9: 'so',\n",
       " 10: 'the',\n",
       " 11: 'wife',\n",
       " 12: 'feigned',\n",
       " 13: 'illness',\n",
       " 14: 'and',\n",
       " 15: 'the',\n",
       " 16: 'parson',\n",
       " 17: 'preached',\n",
       " 18: 'that',\n",
       " 19: 'whoever',\n",
       " 20: 'had',\n",
       " 21: 'an',\n",
       " 22: 'ill',\n",
       " 23: 'family',\n",
       " 24: 'member',\n",
       " 25: 'could',\n",
       " 26: 'go',\n",
       " 27: 'to',\n",
       " 28: 'the',\n",
       " 29: 'cuckoos',\n",
       " 30: 'mountain',\n",
       " 31: 'in',\n",
       " 32: 'italy',\n",
       " 33: 'and',\n",
       " 34: 'get',\n",
       " 35: 'laurel',\n",
       " 36: 'leaves',\n",
       " 37: 'that',\n",
       " 38: 'would',\n",
       " 39: 'cure',\n",
       " 40: 'the',\n",
       " 41: 'ill',\n",
       " 42: 'person',\n",
       " 43: 'the',\n",
       " 44: 'peasant',\n",
       " 45: 'hildebrand',\n",
       " 46: 'left',\n",
       " 47: 'to',\n",
       " 48: 'get',\n",
       " 49: 'them',\n",
       " 50: 'and',\n",
       " 51: 'the',\n",
       " 52: 'parson',\n",
       " 53: 'came',\n",
       " 54: 'to',\n",
       " 55: 'his',\n",
       " 56: 'house',\n",
       " 57: 'but',\n",
       " 58: 'on',\n",
       " 59: 'the',\n",
       " 60: 'way',\n",
       " 61: 'hildebrand',\n",
       " 62: 'met',\n",
       " 63: 'his',\n",
       " 64: 'cousin',\n",
       " 65: 'an',\n",
       " 66: 'egg',\n",
       " 67: 'merchant',\n",
       " 68: 'who',\n",
       " 69: 'alerted',\n",
       " 70: 'him',\n",
       " 71: 'and',\n",
       " 72: 'brought',\n",
       " 73: 'him',\n",
       " 74: 'to',\n",
       " 75: 'the',\n",
       " 76: 'house',\n",
       " 77: 'in',\n",
       " 78: 'his',\n",
       " 79: 'cart',\n",
       " 80: 'the',\n",
       " 81: 'parson',\n",
       " 82: 'and',\n",
       " 83: 'the',\n",
       " 84: 'wife',\n",
       " 85: 'began',\n",
       " 86: 'to',\n",
       " 87: 'sing',\n",
       " 88: 'the',\n",
       " 89: 'merchant',\n",
       " 90: 'sang',\n",
       " 91: 'and',\n",
       " 92: 'hildebrand',\n",
       " 93: 'sang',\n",
       " 94: 'that',\n",
       " 95: 'it',\n",
       " 96: 'was',\n",
       " 97: 'enough',\n",
       " 98: 'he',\n",
       " 99: 'jumped',\n",
       " 100: 'from',\n",
       " 101: 'the',\n",
       " 102: 'basket',\n",
       " 103: 'and',\n",
       " 104: 'beat',\n",
       " 105: 'the',\n",
       " 106: 'parson',\n",
       " 107: 'out',\n",
       " 108: 'of',\n",
       " 109: 'the',\n",
       " 110: 'house'}"
      ]
     },
     "execution_count": 8,
     "metadata": {},
     "output_type": "execute_result"
    }
   ],
   "source": [
    "string_to_dictionary(austrian_folktale)"
   ]
  },
  {
   "cell_type": "code",
   "execution_count": 9,
   "id": "901f8ecf",
   "metadata": {},
   "outputs": [],
   "source": [
    "indie_film_winner_2021 = \"10 Photographs - An aspiring model, ready to begin her career in the fashion industry, hires a photographer in Paris to help her create her portfolio. The only thing standing between her and her dreams is 10 photographs.\""
   ]
  },
  {
   "cell_type": "code",
   "execution_count": 10,
   "id": "4bc6c59d",
   "metadata": {},
   "outputs": [
    {
     "data": {
      "text/plain": [
       "{0: 'photographs',\n",
       " 1: 'an',\n",
       " 2: 'aspiring',\n",
       " 3: 'model',\n",
       " 4: 'ready',\n",
       " 5: 'to',\n",
       " 6: 'begin',\n",
       " 7: 'her',\n",
       " 8: 'career',\n",
       " 9: 'in',\n",
       " 10: 'the',\n",
       " 11: 'fashion',\n",
       " 12: 'industry',\n",
       " 13: 'hires',\n",
       " 14: 'a',\n",
       " 15: 'photographer',\n",
       " 16: 'in',\n",
       " 17: 'paris',\n",
       " 18: 'to',\n",
       " 19: 'help',\n",
       " 20: 'her',\n",
       " 21: 'create',\n",
       " 22: 'her',\n",
       " 23: 'portfolio',\n",
       " 24: 'the',\n",
       " 25: 'only',\n",
       " 26: 'thing',\n",
       " 27: 'standing',\n",
       " 28: 'between',\n",
       " 29: 'her',\n",
       " 30: 'and',\n",
       " 31: 'her',\n",
       " 32: 'dreams',\n",
       " 33: 'is',\n",
       " 34: 'photographs'}"
      ]
     },
     "execution_count": 10,
     "metadata": {},
     "output_type": "execute_result"
    }
   ],
   "source": [
    "string_to_dictionary(indie_film_winner_2021)"
   ]
  },
  {
   "cell_type": "code",
   "execution_count": 11,
   "id": "8e5b7abe",
   "metadata": {},
   "outputs": [
    {
     "name": "stdout",
     "output_type": "stream",
     "text": [
      "<class 'str'>\n"
     ]
    }
   ],
   "source": [
    "print(type(austrian_folktale))"
   ]
  },
  {
   "cell_type": "code",
   "execution_count": 12,
   "id": "1da1fa06",
   "metadata": {},
   "outputs": [
    {
     "name": "stdout",
     "output_type": "stream",
     "text": [
      "<class 'function'>\n"
     ]
    }
   ],
   "source": [
    "print(type(string_to_dictionary))"
   ]
  },
  {
   "cell_type": "markdown",
   "id": "88677f66",
   "metadata": {},
   "source": [
    "4. Provide alternative ways to perform the same task using nested functions. Hint, the first function might take as argument a string and return a list, and the second takes as argument a list and returns a dictionary. Name the functions accordingly."
   ]
  },
  {
   "cell_type": "code",
   "execution_count": 13,
   "id": "1b14b3ee",
   "metadata": {},
   "outputs": [],
   "source": [
    "from collections import Counter\n",
    "\n",
    "def string_to_dict_new(dictionary): \n",
    "    counts = Counter(dictionary)\n",
    "    def clean_string(dictionary):\n",
    "        output_string = clean_string(dictionary) \n",
    "    return counts"
   ]
  },
  {
   "cell_type": "code",
   "execution_count": 14,
   "id": "5d00d98d",
   "metadata": {},
   "outputs": [
    {
     "data": {
      "text/plain": [
       "Counter({'a': 1,\n",
       "         'traditional': 1,\n",
       "         'portuguese': 1,\n",
       "         'dessert': 1,\n",
       "         'made': 1,\n",
       "         'with': 1,\n",
       "         'pantry': 1,\n",
       "         'staple': 1,\n",
       "         'ingredients': 1,\n",
       "         'they': 1,\n",
       "         'are': 1,\n",
       "         'creamy': 1,\n",
       "         'on': 2,\n",
       "         'the': 2,\n",
       "         'inside': 1,\n",
       "         'and': 1,\n",
       "         'crispy': 1,\n",
       "         'outside': 1})"
      ]
     },
     "execution_count": 14,
     "metadata": {},
     "output_type": "execute_result"
    }
   ],
   "source": [
    "string_to_dict_new(clean_string(quejada_recipe))"
   ]
  },
  {
   "cell_type": "code",
   "execution_count": 15,
   "id": "e155ad2e",
   "metadata": {},
   "outputs": [
    {
     "data": {
      "text/plain": [
       "Counter({'photographs': 2,\n",
       "         'an': 1,\n",
       "         'aspiring': 1,\n",
       "         'model': 1,\n",
       "         'ready': 1,\n",
       "         'to': 2,\n",
       "         'begin': 1,\n",
       "         'her': 5,\n",
       "         'career': 1,\n",
       "         'in': 2,\n",
       "         'the': 2,\n",
       "         'fashion': 1,\n",
       "         'industry': 1,\n",
       "         'hires': 1,\n",
       "         'a': 1,\n",
       "         'photographer': 1,\n",
       "         'paris': 1,\n",
       "         'help': 1,\n",
       "         'create': 1,\n",
       "         'portfolio': 1,\n",
       "         'only': 1,\n",
       "         'thing': 1,\n",
       "         'standing': 1,\n",
       "         'between': 1,\n",
       "         'and': 1,\n",
       "         'dreams': 1,\n",
       "         'is': 1})"
      ]
     },
     "execution_count": 15,
     "metadata": {},
     "output_type": "execute_result"
    }
   ],
   "source": [
    "string_to_dict_new(clean_string(indie_film_winner_2021))"
   ]
  },
  {
   "cell_type": "code",
   "execution_count": 17,
   "id": "7e86521e",
   "metadata": {},
   "outputs": [],
   "source": [
    "dictionary_quejada = string_to_dict_new(clean_string(quejada_recipe))"
   ]
  },
  {
   "cell_type": "code",
   "execution_count": 18,
   "id": "3b05a5a4",
   "metadata": {},
   "outputs": [],
   "source": [
    "def string_to_list(string): \n",
    "    dict_to_list = zip(output_string.keys(), output_string.values())\n",
    "    dict_to_list = list(dict_to_list)\n",
    "    def clean_string(string):\n",
    "        output_string = clean_string(string) \n",
    "    return dict_to_list"
   ]
  },
  {
   "cell_type": "code",
   "execution_count": 19,
   "id": "448a925c",
   "metadata": {},
   "outputs": [],
   "source": [
    "def dict_to_list(dictionary): \n",
    "    output_list = dictionary_quejada\n",
    "    list_output = [(k,v) for k,v in output_list.items()]\n",
    "    return list_output"
   ]
  },
  {
   "cell_type": "code",
   "execution_count": 20,
   "id": "5f267b4b",
   "metadata": {},
   "outputs": [
    {
     "data": {
      "text/plain": [
       "[('a', 1),\n",
       " ('traditional', 1),\n",
       " ('portuguese', 1),\n",
       " ('dessert', 1),\n",
       " ('made', 1),\n",
       " ('with', 1),\n",
       " ('pantry', 1),\n",
       " ('staple', 1),\n",
       " ('ingredients', 1),\n",
       " ('they', 1),\n",
       " ('are', 1),\n",
       " ('creamy', 1),\n",
       " ('on', 2),\n",
       " ('the', 2),\n",
       " ('inside', 1),\n",
       " ('and', 1),\n",
       " ('crispy', 1),\n",
       " ('outside', 1)]"
      ]
     },
     "execution_count": 20,
     "metadata": {},
     "output_type": "execute_result"
    }
   ],
   "source": [
    "dict_to_list(dictionary_quejada)"
   ]
  },
  {
   "cell_type": "code",
   "execution_count": 21,
   "id": "962bf891",
   "metadata": {},
   "outputs": [
    {
     "name": "stdout",
     "output_type": "stream",
     "text": [
      "<class 'list'>\n"
     ]
    }
   ],
   "source": [
    "print(type(dict_to_list(dictionary_quejada)))"
   ]
  }
 ],
 "metadata": {
  "kernelspec": {
   "display_name": "Python 3 (ipykernel)",
   "language": "python",
   "name": "python3"
  },
  "language_info": {
   "codemirror_mode": {
    "name": "ipython",
    "version": 3
   },
   "file_extension": ".py",
   "mimetype": "text/x-python",
   "name": "python",
   "nbconvert_exporter": "python",
   "pygments_lexer": "ipython3",
   "version": "3.9.7"
  }
 },
 "nbformat": 4,
 "nbformat_minor": 5
}
